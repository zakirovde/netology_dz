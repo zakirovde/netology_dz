{
  "nbformat": 4,
  "nbformat_minor": 0,
  "metadata": {
    "kernelspec": {
      "display_name": "Python 3",
      "language": "python",
      "name": "python3"
    },
    "language_info": {
      "codemirror_mode": {
        "name": "ipython",
        "version": 3
      },
      "file_extension": ".py",
      "mimetype": "text/x-python",
      "name": "python",
      "nbconvert_exporter": "python",
      "pygments_lexer": "ipython3",
      "version": "3.6.0"
    },
    "colab": {
      "name": "HW1_banki_TM-and-classification",
      "provenance": [],
      "collapsed_sections": [],
      "toc_visible": true,
      "machine_shape": "hm",
      "include_colab_link": true
    },
    "widgets": {
      "application/vnd.jupyter.widget-state+json": {
        "c04591fafb894ac5933e698f26210e9f": {
          "model_module": "@jupyter-widgets/controls",
          "model_name": "HBoxModel",
          "state": {
            "_view_name": "HBoxView",
            "_dom_classes": [],
            "_model_name": "HBoxModel",
            "_view_module": "@jupyter-widgets/controls",
            "_model_module_version": "1.5.0",
            "_view_count": null,
            "_view_module_version": "1.5.0",
            "box_style": "",
            "layout": "IPY_MODEL_f05e9feede8b434aaa498abc32931c91",
            "_model_module": "@jupyter-widgets/controls",
            "children": [
              "IPY_MODEL_5c04afa50aef41e48a3343c0aa8f4922",
              "IPY_MODEL_30f829e889244df8bac356e25935dd7b"
            ]
          }
        },
        "f05e9feede8b434aaa498abc32931c91": {
          "model_module": "@jupyter-widgets/base",
          "model_name": "LayoutModel",
          "state": {
            "_view_name": "LayoutView",
            "grid_template_rows": null,
            "right": null,
            "justify_content": null,
            "_view_module": "@jupyter-widgets/base",
            "overflow": null,
            "_model_module_version": "1.2.0",
            "_view_count": null,
            "flex_flow": null,
            "width": null,
            "min_width": null,
            "border": null,
            "align_items": null,
            "bottom": null,
            "_model_module": "@jupyter-widgets/base",
            "top": null,
            "grid_column": null,
            "overflow_y": null,
            "overflow_x": null,
            "grid_auto_flow": null,
            "grid_area": null,
            "grid_template_columns": null,
            "flex": null,
            "_model_name": "LayoutModel",
            "justify_items": null,
            "grid_row": null,
            "max_height": null,
            "align_content": null,
            "visibility": null,
            "align_self": null,
            "height": null,
            "min_height": null,
            "padding": null,
            "grid_auto_rows": null,
            "grid_gap": null,
            "max_width": null,
            "order": null,
            "_view_module_version": "1.2.0",
            "grid_template_areas": null,
            "object_position": null,
            "object_fit": null,
            "grid_auto_columns": null,
            "margin": null,
            "display": null,
            "left": null
          }
        },
        "5c04afa50aef41e48a3343c0aa8f4922": {
          "model_module": "@jupyter-widgets/controls",
          "model_name": "IntProgressModel",
          "state": {
            "_view_name": "ProgressView",
            "style": "IPY_MODEL_7c3bb46bbb8544f0b2f685ed6e99f61c",
            "_dom_classes": [],
            "description": "",
            "_model_name": "IntProgressModel",
            "bar_style": "success",
            "max": 1,
            "_view_module": "@jupyter-widgets/controls",
            "_model_module_version": "1.5.0",
            "value": 1,
            "_view_count": null,
            "_view_module_version": "1.5.0",
            "orientation": "horizontal",
            "min": 0,
            "description_tooltip": null,
            "_model_module": "@jupyter-widgets/controls",
            "layout": "IPY_MODEL_cea24d122af64674a697d6e0ce7e3eb1"
          }
        },
        "30f829e889244df8bac356e25935dd7b": {
          "model_module": "@jupyter-widgets/controls",
          "model_name": "HTMLModel",
          "state": {
            "_view_name": "HTMLView",
            "style": "IPY_MODEL_29f2993c4a5c409ea810efbd2787a857",
            "_dom_classes": [],
            "description": "",
            "_model_name": "HTMLModel",
            "placeholder": "​",
            "_view_module": "@jupyter-widgets/controls",
            "_model_module_version": "1.5.0",
            "value": " 201030/? [1:55:20&lt;00:00, 29.05it/s]",
            "_view_count": null,
            "_view_module_version": "1.5.0",
            "description_tooltip": null,
            "_model_module": "@jupyter-widgets/controls",
            "layout": "IPY_MODEL_56724a171cbf46139ad5c0c40c55f0b2"
          }
        },
        "7c3bb46bbb8544f0b2f685ed6e99f61c": {
          "model_module": "@jupyter-widgets/controls",
          "model_name": "ProgressStyleModel",
          "state": {
            "_view_name": "StyleView",
            "_model_name": "ProgressStyleModel",
            "description_width": "initial",
            "_view_module": "@jupyter-widgets/base",
            "_model_module_version": "1.5.0",
            "_view_count": null,
            "_view_module_version": "1.2.0",
            "bar_color": null,
            "_model_module": "@jupyter-widgets/controls"
          }
        },
        "cea24d122af64674a697d6e0ce7e3eb1": {
          "model_module": "@jupyter-widgets/base",
          "model_name": "LayoutModel",
          "state": {
            "_view_name": "LayoutView",
            "grid_template_rows": null,
            "right": null,
            "justify_content": null,
            "_view_module": "@jupyter-widgets/base",
            "overflow": null,
            "_model_module_version": "1.2.0",
            "_view_count": null,
            "flex_flow": null,
            "width": null,
            "min_width": null,
            "border": null,
            "align_items": null,
            "bottom": null,
            "_model_module": "@jupyter-widgets/base",
            "top": null,
            "grid_column": null,
            "overflow_y": null,
            "overflow_x": null,
            "grid_auto_flow": null,
            "grid_area": null,
            "grid_template_columns": null,
            "flex": null,
            "_model_name": "LayoutModel",
            "justify_items": null,
            "grid_row": null,
            "max_height": null,
            "align_content": null,
            "visibility": null,
            "align_self": null,
            "height": null,
            "min_height": null,
            "padding": null,
            "grid_auto_rows": null,
            "grid_gap": null,
            "max_width": null,
            "order": null,
            "_view_module_version": "1.2.0",
            "grid_template_areas": null,
            "object_position": null,
            "object_fit": null,
            "grid_auto_columns": null,
            "margin": null,
            "display": null,
            "left": null
          }
        },
        "29f2993c4a5c409ea810efbd2787a857": {
          "model_module": "@jupyter-widgets/controls",
          "model_name": "DescriptionStyleModel",
          "state": {
            "_view_name": "StyleView",
            "_model_name": "DescriptionStyleModel",
            "description_width": "",
            "_view_module": "@jupyter-widgets/base",
            "_model_module_version": "1.5.0",
            "_view_count": null,
            "_view_module_version": "1.2.0",
            "_model_module": "@jupyter-widgets/controls"
          }
        },
        "56724a171cbf46139ad5c0c40c55f0b2": {
          "model_module": "@jupyter-widgets/base",
          "model_name": "LayoutModel",
          "state": {
            "_view_name": "LayoutView",
            "grid_template_rows": null,
            "right": null,
            "justify_content": null,
            "_view_module": "@jupyter-widgets/base",
            "overflow": null,
            "_model_module_version": "1.2.0",
            "_view_count": null,
            "flex_flow": null,
            "width": null,
            "min_width": null,
            "border": null,
            "align_items": null,
            "bottom": null,
            "_model_module": "@jupyter-widgets/base",
            "top": null,
            "grid_column": null,
            "overflow_y": null,
            "overflow_x": null,
            "grid_auto_flow": null,
            "grid_area": null,
            "grid_template_columns": null,
            "flex": null,
            "_model_name": "LayoutModel",
            "justify_items": null,
            "grid_row": null,
            "max_height": null,
            "align_content": null,
            "visibility": null,
            "align_self": null,
            "height": null,
            "min_height": null,
            "padding": null,
            "grid_auto_rows": null,
            "grid_gap": null,
            "max_width": null,
            "order": null,
            "_view_module_version": "1.2.0",
            "grid_template_areas": null,
            "object_position": null,
            "object_fit": null,
            "grid_auto_columns": null,
            "margin": null,
            "display": null,
            "left": null
          }
        },
        "d59113e98ecb41a1bf1e3d52e5843d1f": {
          "model_module": "@jupyter-widgets/controls",
          "model_name": "HBoxModel",
          "state": {
            "_view_name": "HBoxView",
            "_dom_classes": [],
            "_model_name": "HBoxModel",
            "_view_module": "@jupyter-widgets/controls",
            "_model_module_version": "1.5.0",
            "_view_count": null,
            "_view_module_version": "1.5.0",
            "box_style": "",
            "layout": "IPY_MODEL_d01bfe4b6b9e42129bc38418a12057b6",
            "_model_module": "@jupyter-widgets/controls",
            "children": [
              "IPY_MODEL_f2f0e0b91bc341baaa93c7891519a06f",
              "IPY_MODEL_af1f238b3f1542468214661810733f7f"
            ]
          }
        },
        "d01bfe4b6b9e42129bc38418a12057b6": {
          "model_module": "@jupyter-widgets/base",
          "model_name": "LayoutModel",
          "state": {
            "_view_name": "LayoutView",
            "grid_template_rows": null,
            "right": null,
            "justify_content": null,
            "_view_module": "@jupyter-widgets/base",
            "overflow": null,
            "_model_module_version": "1.2.0",
            "_view_count": null,
            "flex_flow": null,
            "width": null,
            "min_width": null,
            "border": null,
            "align_items": null,
            "bottom": null,
            "_model_module": "@jupyter-widgets/base",
            "top": null,
            "grid_column": null,
            "overflow_y": null,
            "overflow_x": null,
            "grid_auto_flow": null,
            "grid_area": null,
            "grid_template_columns": null,
            "flex": null,
            "_model_name": "LayoutModel",
            "justify_items": null,
            "grid_row": null,
            "max_height": null,
            "align_content": null,
            "visibility": null,
            "align_self": null,
            "height": null,
            "min_height": null,
            "padding": null,
            "grid_auto_rows": null,
            "grid_gap": null,
            "max_width": null,
            "order": null,
            "_view_module_version": "1.2.0",
            "grid_template_areas": null,
            "object_position": null,
            "object_fit": null,
            "grid_auto_columns": null,
            "margin": null,
            "display": null,
            "left": null
          }
        },
        "f2f0e0b91bc341baaa93c7891519a06f": {
          "model_module": "@jupyter-widgets/controls",
          "model_name": "IntProgressModel",
          "state": {
            "_view_name": "ProgressView",
            "style": "IPY_MODEL_e1d2944a74da4f1599e17f3924e39ae5",
            "_dom_classes": [],
            "description": "100%",
            "_model_name": "IntProgressModel",
            "bar_style": "success",
            "max": 153499,
            "_view_module": "@jupyter-widgets/controls",
            "_model_module_version": "1.5.0",
            "value": 153499,
            "_view_count": null,
            "_view_module_version": "1.5.0",
            "orientation": "horizontal",
            "min": 0,
            "description_tooltip": null,
            "_model_module": "@jupyter-widgets/controls",
            "layout": "IPY_MODEL_5da0cc138c4f4f10a14e90ae57c9ee08"
          }
        },
        "af1f238b3f1542468214661810733f7f": {
          "model_module": "@jupyter-widgets/controls",
          "model_name": "HTMLModel",
          "state": {
            "_view_name": "HTMLView",
            "style": "IPY_MODEL_c7d158dd70434c48ac542c12a00427b7",
            "_dom_classes": [],
            "description": "",
            "_model_name": "HTMLModel",
            "placeholder": "​",
            "_view_module": "@jupyter-widgets/controls",
            "_model_module_version": "1.5.0",
            "value": " 153499/153499 [05:56&lt;00:00, 431.09it/s]",
            "_view_count": null,
            "_view_module_version": "1.5.0",
            "description_tooltip": null,
            "_model_module": "@jupyter-widgets/controls",
            "layout": "IPY_MODEL_0c4d9249e9b144f2bc4b9d5370caa244"
          }
        },
        "e1d2944a74da4f1599e17f3924e39ae5": {
          "model_module": "@jupyter-widgets/controls",
          "model_name": "ProgressStyleModel",
          "state": {
            "_view_name": "StyleView",
            "_model_name": "ProgressStyleModel",
            "description_width": "initial",
            "_view_module": "@jupyter-widgets/base",
            "_model_module_version": "1.5.0",
            "_view_count": null,
            "_view_module_version": "1.2.0",
            "bar_color": null,
            "_model_module": "@jupyter-widgets/controls"
          }
        },
        "5da0cc138c4f4f10a14e90ae57c9ee08": {
          "model_module": "@jupyter-widgets/base",
          "model_name": "LayoutModel",
          "state": {
            "_view_name": "LayoutView",
            "grid_template_rows": null,
            "right": null,
            "justify_content": null,
            "_view_module": "@jupyter-widgets/base",
            "overflow": null,
            "_model_module_version": "1.2.0",
            "_view_count": null,
            "flex_flow": null,
            "width": null,
            "min_width": null,
            "border": null,
            "align_items": null,
            "bottom": null,
            "_model_module": "@jupyter-widgets/base",
            "top": null,
            "grid_column": null,
            "overflow_y": null,
            "overflow_x": null,
            "grid_auto_flow": null,
            "grid_area": null,
            "grid_template_columns": null,
            "flex": null,
            "_model_name": "LayoutModel",
            "justify_items": null,
            "grid_row": null,
            "max_height": null,
            "align_content": null,
            "visibility": null,
            "align_self": null,
            "height": null,
            "min_height": null,
            "padding": null,
            "grid_auto_rows": null,
            "grid_gap": null,
            "max_width": null,
            "order": null,
            "_view_module_version": "1.2.0",
            "grid_template_areas": null,
            "object_position": null,
            "object_fit": null,
            "grid_auto_columns": null,
            "margin": null,
            "display": null,
            "left": null
          }
        },
        "c7d158dd70434c48ac542c12a00427b7": {
          "model_module": "@jupyter-widgets/controls",
          "model_name": "DescriptionStyleModel",
          "state": {
            "_view_name": "StyleView",
            "_model_name": "DescriptionStyleModel",
            "description_width": "",
            "_view_module": "@jupyter-widgets/base",
            "_model_module_version": "1.5.0",
            "_view_count": null,
            "_view_module_version": "1.2.0",
            "_model_module": "@jupyter-widgets/controls"
          }
        },
        "0c4d9249e9b144f2bc4b9d5370caa244": {
          "model_module": "@jupyter-widgets/base",
          "model_name": "LayoutModel",
          "state": {
            "_view_name": "LayoutView",
            "grid_template_rows": null,
            "right": null,
            "justify_content": null,
            "_view_module": "@jupyter-widgets/base",
            "overflow": null,
            "_model_module_version": "1.2.0",
            "_view_count": null,
            "flex_flow": null,
            "width": null,
            "min_width": null,
            "border": null,
            "align_items": null,
            "bottom": null,
            "_model_module": "@jupyter-widgets/base",
            "top": null,
            "grid_column": null,
            "overflow_y": null,
            "overflow_x": null,
            "grid_auto_flow": null,
            "grid_area": null,
            "grid_template_columns": null,
            "flex": null,
            "_model_name": "LayoutModel",
            "justify_items": null,
            "grid_row": null,
            "max_height": null,
            "align_content": null,
            "visibility": null,
            "align_self": null,
            "height": null,
            "min_height": null,
            "padding": null,
            "grid_auto_rows": null,
            "grid_gap": null,
            "max_width": null,
            "order": null,
            "_view_module_version": "1.2.0",
            "grid_template_areas": null,
            "object_position": null,
            "object_fit": null,
            "grid_auto_columns": null,
            "margin": null,
            "display": null,
            "left": null
          }
        },
        "efafb1527eff41ae9a58725e21d3aa92": {
          "model_module": "@jupyter-widgets/controls",
          "model_name": "HBoxModel",
          "state": {
            "_view_name": "HBoxView",
            "_dom_classes": [],
            "_model_name": "HBoxModel",
            "_view_module": "@jupyter-widgets/controls",
            "_model_module_version": "1.5.0",
            "_view_count": null,
            "_view_module_version": "1.5.0",
            "box_style": "",
            "layout": "IPY_MODEL_ab5815dfadef43ba860d4f8c77974521",
            "_model_module": "@jupyter-widgets/controls",
            "children": [
              "IPY_MODEL_41f4691e34ae4abda7aa2b07ad07df28",
              "IPY_MODEL_17642f43900c4269867ff002908b1e69"
            ]
          }
        },
        "ab5815dfadef43ba860d4f8c77974521": {
          "model_module": "@jupyter-widgets/base",
          "model_name": "LayoutModel",
          "state": {
            "_view_name": "LayoutView",
            "grid_template_rows": null,
            "right": null,
            "justify_content": null,
            "_view_module": "@jupyter-widgets/base",
            "overflow": null,
            "_model_module_version": "1.2.0",
            "_view_count": null,
            "flex_flow": null,
            "width": null,
            "min_width": null,
            "border": null,
            "align_items": null,
            "bottom": null,
            "_model_module": "@jupyter-widgets/base",
            "top": null,
            "grid_column": null,
            "overflow_y": null,
            "overflow_x": null,
            "grid_auto_flow": null,
            "grid_area": null,
            "grid_template_columns": null,
            "flex": null,
            "_model_name": "LayoutModel",
            "justify_items": null,
            "grid_row": null,
            "max_height": null,
            "align_content": null,
            "visibility": null,
            "align_self": null,
            "height": null,
            "min_height": null,
            "padding": null,
            "grid_auto_rows": null,
            "grid_gap": null,
            "max_width": null,
            "order": null,
            "_view_module_version": "1.2.0",
            "grid_template_areas": null,
            "object_position": null,
            "object_fit": null,
            "grid_auto_columns": null,
            "margin": null,
            "display": null,
            "left": null
          }
        },
        "41f4691e34ae4abda7aa2b07ad07df28": {
          "model_module": "@jupyter-widgets/controls",
          "model_name": "IntProgressModel",
          "state": {
            "_view_name": "ProgressView",
            "style": "IPY_MODEL_b23183d5fa104a8b895f6d55ec8135e9",
            "_dom_classes": [],
            "description": "100%",
            "_model_name": "IntProgressModel",
            "bar_style": "success",
            "max": 153499,
            "_view_module": "@jupyter-widgets/controls",
            "_model_module_version": "1.5.0",
            "value": 153499,
            "_view_count": null,
            "_view_module_version": "1.5.0",
            "orientation": "horizontal",
            "min": 0,
            "description_tooltip": null,
            "_model_module": "@jupyter-widgets/controls",
            "layout": "IPY_MODEL_95d3811d282c4b309046e4fd9ef4511e"
          }
        },
        "17642f43900c4269867ff002908b1e69": {
          "model_module": "@jupyter-widgets/controls",
          "model_name": "HTMLModel",
          "state": {
            "_view_name": "HTMLView",
            "style": "IPY_MODEL_6996842d0f1f466bb459aacb6cb93d5b",
            "_dom_classes": [],
            "description": "",
            "_model_name": "HTMLModel",
            "placeholder": "​",
            "_view_module": "@jupyter-widgets/controls",
            "_model_module_version": "1.5.0",
            "value": " 153499/153499 [00:01&lt;00:00, 101035.81it/s]",
            "_view_count": null,
            "_view_module_version": "1.5.0",
            "description_tooltip": null,
            "_model_module": "@jupyter-widgets/controls",
            "layout": "IPY_MODEL_c0b2baa4dabe4e99874124a7ce672a85"
          }
        },
        "b23183d5fa104a8b895f6d55ec8135e9": {
          "model_module": "@jupyter-widgets/controls",
          "model_name": "ProgressStyleModel",
          "state": {
            "_view_name": "StyleView",
            "_model_name": "ProgressStyleModel",
            "description_width": "initial",
            "_view_module": "@jupyter-widgets/base",
            "_model_module_version": "1.5.0",
            "_view_count": null,
            "_view_module_version": "1.2.0",
            "bar_color": null,
            "_model_module": "@jupyter-widgets/controls"
          }
        },
        "95d3811d282c4b309046e4fd9ef4511e": {
          "model_module": "@jupyter-widgets/base",
          "model_name": "LayoutModel",
          "state": {
            "_view_name": "LayoutView",
            "grid_template_rows": null,
            "right": null,
            "justify_content": null,
            "_view_module": "@jupyter-widgets/base",
            "overflow": null,
            "_model_module_version": "1.2.0",
            "_view_count": null,
            "flex_flow": null,
            "width": null,
            "min_width": null,
            "border": null,
            "align_items": null,
            "bottom": null,
            "_model_module": "@jupyter-widgets/base",
            "top": null,
            "grid_column": null,
            "overflow_y": null,
            "overflow_x": null,
            "grid_auto_flow": null,
            "grid_area": null,
            "grid_template_columns": null,
            "flex": null,
            "_model_name": "LayoutModel",
            "justify_items": null,
            "grid_row": null,
            "max_height": null,
            "align_content": null,
            "visibility": null,
            "align_self": null,
            "height": null,
            "min_height": null,
            "padding": null,
            "grid_auto_rows": null,
            "grid_gap": null,
            "max_width": null,
            "order": null,
            "_view_module_version": "1.2.0",
            "grid_template_areas": null,
            "object_position": null,
            "object_fit": null,
            "grid_auto_columns": null,
            "margin": null,
            "display": null,
            "left": null
          }
        },
        "6996842d0f1f466bb459aacb6cb93d5b": {
          "model_module": "@jupyter-widgets/controls",
          "model_name": "DescriptionStyleModel",
          "state": {
            "_view_name": "StyleView",
            "_model_name": "DescriptionStyleModel",
            "description_width": "",
            "_view_module": "@jupyter-widgets/base",
            "_model_module_version": "1.5.0",
            "_view_count": null,
            "_view_module_version": "1.2.0",
            "_model_module": "@jupyter-widgets/controls"
          }
        },
        "c0b2baa4dabe4e99874124a7ce672a85": {
          "model_module": "@jupyter-widgets/base",
          "model_name": "LayoutModel",
          "state": {
            "_view_name": "LayoutView",
            "grid_template_rows": null,
            "right": null,
            "justify_content": null,
            "_view_module": "@jupyter-widgets/base",
            "overflow": null,
            "_model_module_version": "1.2.0",
            "_view_count": null,
            "flex_flow": null,
            "width": null,
            "min_width": null,
            "border": null,
            "align_items": null,
            "bottom": null,
            "_model_module": "@jupyter-widgets/base",
            "top": null,
            "grid_column": null,
            "overflow_y": null,
            "overflow_x": null,
            "grid_auto_flow": null,
            "grid_area": null,
            "grid_template_columns": null,
            "flex": null,
            "_model_name": "LayoutModel",
            "justify_items": null,
            "grid_row": null,
            "max_height": null,
            "align_content": null,
            "visibility": null,
            "align_self": null,
            "height": null,
            "min_height": null,
            "padding": null,
            "grid_auto_rows": null,
            "grid_gap": null,
            "max_width": null,
            "order": null,
            "_view_module_version": "1.2.0",
            "grid_template_areas": null,
            "object_position": null,
            "object_fit": null,
            "grid_auto_columns": null,
            "margin": null,
            "display": null,
            "left": null
          }
        },
        "d1a8bf881e2d49c58c2b6d190ac45335": {
          "model_module": "@jupyter-widgets/controls",
          "model_name": "HBoxModel",
          "state": {
            "_view_name": "HBoxView",
            "_dom_classes": [],
            "_model_name": "HBoxModel",
            "_view_module": "@jupyter-widgets/controls",
            "_model_module_version": "1.5.0",
            "_view_count": null,
            "_view_module_version": "1.5.0",
            "box_style": "",
            "layout": "IPY_MODEL_2be3786b64fb4d578182bfea8473f9ee",
            "_model_module": "@jupyter-widgets/controls",
            "children": [
              "IPY_MODEL_8d0b3e00d18b4b018adc8a608081dc3a",
              "IPY_MODEL_8d219c53a98d424b902c2292a876f0c9"
            ]
          }
        },
        "2be3786b64fb4d578182bfea8473f9ee": {
          "model_module": "@jupyter-widgets/base",
          "model_name": "LayoutModel",
          "state": {
            "_view_name": "LayoutView",
            "grid_template_rows": null,
            "right": null,
            "justify_content": null,
            "_view_module": "@jupyter-widgets/base",
            "overflow": null,
            "_model_module_version": "1.2.0",
            "_view_count": null,
            "flex_flow": null,
            "width": null,
            "min_width": null,
            "border": null,
            "align_items": null,
            "bottom": null,
            "_model_module": "@jupyter-widgets/base",
            "top": null,
            "grid_column": null,
            "overflow_y": null,
            "overflow_x": null,
            "grid_auto_flow": null,
            "grid_area": null,
            "grid_template_columns": null,
            "flex": null,
            "_model_name": "LayoutModel",
            "justify_items": null,
            "grid_row": null,
            "max_height": null,
            "align_content": null,
            "visibility": null,
            "align_self": null,
            "height": null,
            "min_height": null,
            "padding": null,
            "grid_auto_rows": null,
            "grid_gap": null,
            "max_width": null,
            "order": null,
            "_view_module_version": "1.2.0",
            "grid_template_areas": null,
            "object_position": null,
            "object_fit": null,
            "grid_auto_columns": null,
            "margin": null,
            "display": null,
            "left": null
          }
        },
        "8d0b3e00d18b4b018adc8a608081dc3a": {
          "model_module": "@jupyter-widgets/controls",
          "model_name": "IntProgressModel",
          "state": {
            "_view_name": "ProgressView",
            "style": "IPY_MODEL_b9d83308c7604692aff6431c45ce0a31",
            "_dom_classes": [],
            "description": "100%",
            "_model_name": "IntProgressModel",
            "bar_style": "success",
            "max": 153499,
            "_view_module": "@jupyter-widgets/controls",
            "_model_module_version": "1.5.0",
            "value": 153499,
            "_view_count": null,
            "_view_module_version": "1.5.0",
            "orientation": "horizontal",
            "min": 0,
            "description_tooltip": null,
            "_model_module": "@jupyter-widgets/controls",
            "layout": "IPY_MODEL_0cd66332dfdd421fab092b10cfcac9ab"
          }
        },
        "8d219c53a98d424b902c2292a876f0c9": {
          "model_module": "@jupyter-widgets/controls",
          "model_name": "HTMLModel",
          "state": {
            "_view_name": "HTMLView",
            "style": "IPY_MODEL_b58a02e9f0bc4a88931249318e9a93ca",
            "_dom_classes": [],
            "description": "",
            "_model_name": "HTMLModel",
            "placeholder": "​",
            "_view_module": "@jupyter-widgets/controls",
            "_model_module_version": "1.5.0",
            "value": " 153499/153499 [5:41:21&lt;00:00,  7.49it/s]",
            "_view_count": null,
            "_view_module_version": "1.5.0",
            "description_tooltip": null,
            "_model_module": "@jupyter-widgets/controls",
            "layout": "IPY_MODEL_d02b74925c114e1c8d5ac18cce14a443"
          }
        },
        "b9d83308c7604692aff6431c45ce0a31": {
          "model_module": "@jupyter-widgets/controls",
          "model_name": "ProgressStyleModel",
          "state": {
            "_view_name": "StyleView",
            "_model_name": "ProgressStyleModel",
            "description_width": "initial",
            "_view_module": "@jupyter-widgets/base",
            "_model_module_version": "1.5.0",
            "_view_count": null,
            "_view_module_version": "1.2.0",
            "bar_color": null,
            "_model_module": "@jupyter-widgets/controls"
          }
        },
        "0cd66332dfdd421fab092b10cfcac9ab": {
          "model_module": "@jupyter-widgets/base",
          "model_name": "LayoutModel",
          "state": {
            "_view_name": "LayoutView",
            "grid_template_rows": null,
            "right": null,
            "justify_content": null,
            "_view_module": "@jupyter-widgets/base",
            "overflow": null,
            "_model_module_version": "1.2.0",
            "_view_count": null,
            "flex_flow": null,
            "width": null,
            "min_width": null,
            "border": null,
            "align_items": null,
            "bottom": null,
            "_model_module": "@jupyter-widgets/base",
            "top": null,
            "grid_column": null,
            "overflow_y": null,
            "overflow_x": null,
            "grid_auto_flow": null,
            "grid_area": null,
            "grid_template_columns": null,
            "flex": null,
            "_model_name": "LayoutModel",
            "justify_items": null,
            "grid_row": null,
            "max_height": null,
            "align_content": null,
            "visibility": null,
            "align_self": null,
            "height": null,
            "min_height": null,
            "padding": null,
            "grid_auto_rows": null,
            "grid_gap": null,
            "max_width": null,
            "order": null,
            "_view_module_version": "1.2.0",
            "grid_template_areas": null,
            "object_position": null,
            "object_fit": null,
            "grid_auto_columns": null,
            "margin": null,
            "display": null,
            "left": null
          }
        },
        "b58a02e9f0bc4a88931249318e9a93ca": {
          "model_module": "@jupyter-widgets/controls",
          "model_name": "DescriptionStyleModel",
          "state": {
            "_view_name": "StyleView",
            "_model_name": "DescriptionStyleModel",
            "description_width": "",
            "_view_module": "@jupyter-widgets/base",
            "_model_module_version": "1.5.0",
            "_view_count": null,
            "_view_module_version": "1.2.0",
            "_model_module": "@jupyter-widgets/controls"
          }
        },
        "d02b74925c114e1c8d5ac18cce14a443": {
          "model_module": "@jupyter-widgets/base",
          "model_name": "LayoutModel",
          "state": {
            "_view_name": "LayoutView",
            "grid_template_rows": null,
            "right": null,
            "justify_content": null,
            "_view_module": "@jupyter-widgets/base",
            "overflow": null,
            "_model_module_version": "1.2.0",
            "_view_count": null,
            "flex_flow": null,
            "width": null,
            "min_width": null,
            "border": null,
            "align_items": null,
            "bottom": null,
            "_model_module": "@jupyter-widgets/base",
            "top": null,
            "grid_column": null,
            "overflow_y": null,
            "overflow_x": null,
            "grid_auto_flow": null,
            "grid_area": null,
            "grid_template_columns": null,
            "flex": null,
            "_model_name": "LayoutModel",
            "justify_items": null,
            "grid_row": null,
            "max_height": null,
            "align_content": null,
            "visibility": null,
            "align_self": null,
            "height": null,
            "min_height": null,
            "padding": null,
            "grid_auto_rows": null,
            "grid_gap": null,
            "max_width": null,
            "order": null,
            "_view_module_version": "1.2.0",
            "grid_template_areas": null,
            "object_position": null,
            "object_fit": null,
            "grid_auto_columns": null,
            "margin": null,
            "display": null,
            "left": null
          }
        }
      }
    }
  },
  "cells": [
    {
      "cell_type": "markdown",
      "metadata": {
        "id": "view-in-github",
        "colab_type": "text"
      },
      "source": [
        "<a href=\"https://colab.research.google.com/github/zakirovde/netology_dz/blob/master/HW1_banki_TM_and_classification.ipynb\" target=\"_parent\"><img src=\"https://colab.research.google.com/assets/colab-badge.svg\" alt=\"Open In Colab\"/></a>"
      ]
    },
    {
      "cell_type": "code",
      "metadata": {
        "id": "x4L9Xsz8xFfu",
        "colab_type": "code",
        "outputId": "5d541f6d-0e28-4ed9-d95e-6af1d8732976",
        "colab": {
          "base_uri": "https://localhost:8080/",
          "height": 122
        }
      },
      "source": [
        "from google.colab import drive\n",
        "drive.mount('/content/drive')"
      ],
      "execution_count": 0,
      "outputs": [
        {
          "output_type": "stream",
          "text": [
            "Go to this URL in a browser: https://accounts.google.com/o/oauth2/auth?client_id=947318989803-6bn6qk8qdgf4n4g3pfee6491hc0brc4i.apps.googleusercontent.com&redirect_uri=urn%3aietf%3awg%3aoauth%3a2.0%3aoob&response_type=code&scope=email%20https%3a%2f%2fwww.googleapis.com%2fauth%2fdocs.test%20https%3a%2f%2fwww.googleapis.com%2fauth%2fdrive%20https%3a%2f%2fwww.googleapis.com%2fauth%2fdrive.photos.readonly%20https%3a%2f%2fwww.googleapis.com%2fauth%2fpeopleapi.readonly\n",
            "\n",
            "Enter your authorization code:\n",
            "··········\n",
            "Mounted at /content/drive\n"
          ],
          "name": "stdout"
        }
      ]
    },
    {
      "cell_type": "code",
      "metadata": {
        "id": "4kB-XgrHH266",
        "colab_type": "code",
        "outputId": "95a587db-c63d-4f18-d7a8-87ea6958f6cb",
        "colab": {
          "base_uri": "https://localhost:8080/",
          "height": 105
        }
      },
      "source": [
        "!pip install pymorphy2"
      ],
      "execution_count": 0,
      "outputs": [
        {
          "output_type": "stream",
          "text": [
            "Requirement already satisfied: pymorphy2 in /usr/local/lib/python3.6/dist-packages (0.8)\n",
            "Requirement already satisfied: docopt>=0.6 in /usr/local/lib/python3.6/dist-packages (from pymorphy2) (0.6.2)\n",
            "Requirement already satisfied: pymorphy2-dicts<3.0,>=2.4 in /usr/local/lib/python3.6/dist-packages (from pymorphy2) (2.4.393442.3710985)\n",
            "Requirement already satisfied: dawg-python>=0.7 in /usr/local/lib/python3.6/dist-packages (from pymorphy2) (0.7.2)\n"
          ],
          "name": "stdout"
        }
      ]
    },
    {
      "cell_type": "code",
      "metadata": {
        "id": "PeZcHPTlcVRQ",
        "colab_type": "code",
        "outputId": "fa235bb2-e41c-4e4c-ad26-ee69ea1c1b90",
        "colab": {
          "base_uri": "https://localhost:8080/",
          "height": 105
        }
      },
      "source": [
        "import json\n",
        "import bz2\n",
        "import regex\n",
        "from tqdm.notebook import tqdm\n",
        "tqdm.pandas()\n",
        "from scipy import sparse\n",
        "import pandas as pd\n",
        "import numpy as np\n",
        "import nltk\n",
        "import re\n",
        "import matplotlib.pyplot as plt\n",
        "import seaborn as sns\n",
        "from nltk.tokenize import toktok\n",
        "toktok = toktok.ToktokTokenizer()\n",
        "%matplotlib inline\n",
        "%pylab inline\n",
        "from sklearn.metrics import precision_score, recall_score, \\\n",
        "  f1_score, accuracy_score, classification_report, confusion_matrix\n",
        "from sklearn.model_selection import train_test_split\n",
        "from sklearn.naive_bayes import MultinomialNB\n",
        "from sklearn.ensemble import RandomForestClassifier\n",
        "from collections import Counter\n",
        "from pymorphy2 import MorphAnalyzer\n",
        "pm2 = MorphAnalyzer()\n",
        "nltk.download('stopwords', quiet=True)\n",
        "from nltk.corpus import stopwords\n",
        "from gensim.models import  *\n",
        "from gensim import similarities\n",
        "from gensim.corpora import *\n",
        "from sklearn.feature_extraction.text import TfidfVectorizer\n",
        "from sklearn.manifold import TSNE\n",
        "from sklearn.decomposition import TruncatedSVD, LatentDirichletAllocation\n",
        "from sklearn.pipeline import Pipeline\n",
        "from sklearn.preprocessing import Normalizer\n",
        "from sklearn.feature_extraction.text import *\n",
        "from gensim.corpora import Dictionary\n",
        "from gensim.models import TfidfModel\n",
        "from gensim.models import ldamodel\n",
        "from gensim.models import lsimodel\n",
        "from gensim import similarities"
      ],
      "execution_count": 0,
      "outputs": [
        {
          "output_type": "stream",
          "text": [
            "Populating the interactive namespace from numpy and matplotlib\n"
          ],
          "name": "stdout"
        },
        {
          "output_type": "stream",
          "text": [
            "/usr/local/lib/python3.6/dist-packages/IPython/core/magics/pylab.py:161: UserWarning: pylab import has clobbered these variables: ['clf', 'deprecated']\n",
            "`%matplotlib` prevents importing * from pylab and numpy\n",
            "  \"\\n`%matplotlib` prevents importing * from pylab and numpy\"\n"
          ],
          "name": "stderr"
        }
      ]
    },
    {
      "cell_type": "markdown",
      "metadata": {
        "id": "ejGXzgbhcVRX",
        "colab_type": "text"
      },
      "source": [
        "#  Домашнее задание по NLP # 1 [100 баллов]\n",
        "## Классификация по тональности \n",
        "\n",
        "В этом домашнем задании вам предстоит классифицировать по тональности отзывы на банки с сайта banki.ru.\n",
        "\n",
        "Данные содержат непосредственно тексты отзывов, некоторую дополнительную информацию, а также оценку по шкале от 1 до 5. \n",
        "\n",
        "Тексты хранятся в json-ах в массиве responses.\n",
        "\n",
        "Посмотрим на пример отзыва:"
      ]
    },
    {
      "cell_type": "markdown",
      "metadata": {
        "id": "BVFxBTfAcVRa",
        "colab_type": "text"
      },
      "source": [
        "## Часть 1. Анализ текстов [40/100]\n",
        "\n",
        "1. Посчитайте количество отзывов в разных городах и на разные банки\n",
        "2. Постройте гистограмы длин слов в символах и в словах\n",
        "3. Найдите 10 самых частых:\n",
        "    * слов\n",
        "    * слов без стоп-слов\n",
        "    * лемм \n",
        "* существительных\n",
        "4. Постройте кривые Ципфа и Хипса\n",
        "5. Ответьте на следующие вопросы:\n",
        "    * какое слово встречается чаще, \"сотрудник\" или \"клиент\"?\n",
        "    * сколько раз встречается слова \"мошенничество\" и \"доверие\"?\n",
        "6. В поле \"rating_grade\" записана оценка отзыва по шкале от 1 до 5. Используйте меру $tf-idf$, для того, чтобы найти ключевые слова и биграмы для положительных отзывов (с оценкой 5) и отрицательных отзывов (с оценкой 1)"
      ]
    },
    {
      "cell_type": "code",
      "metadata": {
        "id": "3eNHLMi9v4B4",
        "colab_type": "code",
        "outputId": "66c30de9-e463-45b1-9cdd-d66a712e1745",
        "colab": {
          "base_uri": "https://localhost:8080/",
          "height": 66,
          "referenced_widgets": [
            "c04591fafb894ac5933e698f26210e9f",
            "f05e9feede8b434aaa498abc32931c91",
            "5c04afa50aef41e48a3343c0aa8f4922",
            "30f829e889244df8bac356e25935dd7b",
            "7c3bb46bbb8544f0b2f685ed6e99f61c",
            "cea24d122af64674a697d6e0ce7e3eb1",
            "29f2993c4a5c409ea810efbd2787a857",
            "56724a171cbf46139ad5c0c40c55f0b2"
          ]
        }
      },
      "source": [
        "df = pd.DataFrame({'bank': [], 'city': [], 'rating': [], 'text': [], 'title': []})\n",
        "with bz2.BZ2File('/content/drive/My Drive/banki_responses.json.bz2', 'r') as thefile:\n",
        "    for row in tqdm(thefile):\n",
        "        resp = json.loads(row)\n",
        "        if not resp['rating_not_checked'] and (len(resp['text'].split()) > 0):\n",
        "            df_mrg = pd.DataFrame({'bank': [resp['bank_name']], \n",
        "                         'city': [resp['city']], \n",
        "                         'rating': [resp['rating_grade'] or 0], \n",
        "                         'text': [resp['text']], \n",
        "                         'title': [resp['title']]})\n",
        "            df = pd.concat([df, df_mrg])"
      ],
      "execution_count": 0,
      "outputs": [
        {
          "output_type": "display_data",
          "data": {
            "application/vnd.jupyter.widget-view+json": {
              "model_id": "c04591fafb894ac5933e698f26210e9f",
              "version_minor": 0,
              "version_major": 2
            },
            "text/plain": [
              "HBox(children=(IntProgress(value=1, bar_style='info', max=1), HTML(value='')))"
            ]
          },
          "metadata": {
            "tags": []
          }
        },
        {
          "output_type": "stream",
          "text": [
            "\n"
          ],
          "name": "stdout"
        }
      ]
    },
    {
      "cell_type": "code",
      "metadata": {
        "id": "bjxhIiP_FeLI",
        "colab_type": "code",
        "colab": {}
      },
      "source": [
        "mystopwords = stopwords.words('russian') + ['это', 'наш' , 'тыс', 'млн', 'млрд', 'также',  'т', 'д']\n",
        "mystoplemmas = ['который','прошлый','сей', 'свой', 'наш', 'мочь', 'такой']\n",
        "regex = re.compile(\"[А-Яа-я]+\")\n",
        "\n",
        "def words_only(text, regex=regex):\n",
        "    return \" \".join(regex.findall(text))\n",
        "\n",
        "def remove_stopwords(text, mystopwords = mystopwords):\n",
        "    try:\n",
        "        return \" \".join([token for token in text.split() if not token in mystopwords])\n",
        "    except:\n",
        "        return \"\"\n",
        "\n",
        "def lemmatize(text):\n",
        "    try:\n",
        "        lem = [pm2.parse(word)[0].normal_form for word in text.split()]\n",
        "        return \" \".join(lem).strip()  \n",
        "    except:\n",
        "        return \"\"\n",
        "    \n",
        "def  remove_stoplemmas(text, mystoplemmas = mystoplemmas):\n",
        "    try:\n",
        "        return \" \".join([token for token in text.split() if not token in mystoplemmas])\n",
        "    except:\n",
        "        return \"\"\n",
        "\n",
        "def full_prep(text):\n",
        "    text = text.lower()\n",
        "    return remove_stoplemmas(remove_stopwords(words_only(lemmatize(text))))\n",
        "\n",
        "# df['text_prep'] = df.text.progress_apply(full_prep)"
      ],
      "execution_count": 0,
      "outputs": []
    },
    {
      "cell_type": "code",
      "metadata": {
        "id": "MaiMO6Yj7p0x",
        "colab_type": "code",
        "colab": {}
      },
      "source": [
        "df.to_csv('/content/drive/My Drive/banki_responses.csv', index=False)"
      ],
      "execution_count": 0,
      "outputs": []
    },
    {
      "cell_type": "code",
      "metadata": {
        "id": "jvoQCJRGhk08",
        "colab_type": "code",
        "colab": {}
      },
      "source": [
        "df = pd.read_csv('/content/drive/My Drive/banki_responses.csv')"
      ],
      "execution_count": 0,
      "outputs": []
    },
    {
      "cell_type": "code",
      "metadata": {
        "id": "qbSicVDeXtg_",
        "colab_type": "code",
        "colab": {}
      },
      "source": [
        "df.text_prep = df.text_prep.fillna('')"
      ],
      "execution_count": 0,
      "outputs": []
    },
    {
      "cell_type": "markdown",
      "metadata": {
        "id": "apIdReZSm8--",
        "colab_type": "text"
      },
      "source": [
        "### Количество отзывов на разные города и банки"
      ]
    },
    {
      "cell_type": "code",
      "metadata": {
        "id": "hmj_CrlkjaXR",
        "colab_type": "code",
        "outputId": "4aacac34-7899-4c34-c744-81d7ca1a74d1",
        "colab": {
          "base_uri": "https://localhost:8080/",
          "height": 204
        }
      },
      "source": [
        "df_city_bank = df.groupby(['city', 'bank']).size().rename('count').sort_values(ascending=False).reset_index()\n",
        "df_city_bank.head()"
      ],
      "execution_count": 0,
      "outputs": [
        {
          "output_type": "execute_result",
          "data": {
            "text/html": [
              "<div>\n",
              "<style scoped>\n",
              "    .dataframe tbody tr th:only-of-type {\n",
              "        vertical-align: middle;\n",
              "    }\n",
              "\n",
              "    .dataframe tbody tr th {\n",
              "        vertical-align: top;\n",
              "    }\n",
              "\n",
              "    .dataframe thead th {\n",
              "        text-align: right;\n",
              "    }\n",
              "</style>\n",
              "<table border=\"1\" class=\"dataframe\">\n",
              "  <thead>\n",
              "    <tr style=\"text-align: right;\">\n",
              "      <th></th>\n",
              "      <th>city</th>\n",
              "      <th>bank</th>\n",
              "      <th>count</th>\n",
              "    </tr>\n",
              "  </thead>\n",
              "  <tbody>\n",
              "    <tr>\n",
              "      <th>0</th>\n",
              "      <td>г. Москва</td>\n",
              "      <td>Сбербанк России</td>\n",
              "      <td>8146</td>\n",
              "    </tr>\n",
              "    <tr>\n",
              "      <th>1</th>\n",
              "      <td>г. Москва</td>\n",
              "      <td>Альфа-Банк</td>\n",
              "      <td>3871</td>\n",
              "    </tr>\n",
              "    <tr>\n",
              "      <th>2</th>\n",
              "      <td>г. Москва</td>\n",
              "      <td>Русский Стандарт</td>\n",
              "      <td>2801</td>\n",
              "    </tr>\n",
              "    <tr>\n",
              "      <th>3</th>\n",
              "      <td>г. Москва</td>\n",
              "      <td>ВТБ 24</td>\n",
              "      <td>2714</td>\n",
              "    </tr>\n",
              "    <tr>\n",
              "      <th>4</th>\n",
              "      <td>г. Санкт-Петербург</td>\n",
              "      <td>Сбербанк России</td>\n",
              "      <td>2434</td>\n",
              "    </tr>\n",
              "  </tbody>\n",
              "</table>\n",
              "</div>"
            ],
            "text/plain": [
              "                 city              bank  count\n",
              "0           г. Москва   Сбербанк России   8146\n",
              "1           г. Москва        Альфа-Банк   3871\n",
              "2           г. Москва  Русский Стандарт   2801\n",
              "3           г. Москва            ВТБ 24   2714\n",
              "4  г. Санкт-Петербург   Сбербанк России   2434"
            ]
          },
          "metadata": {
            "tags": []
          },
          "execution_count": 15
        }
      ]
    },
    {
      "cell_type": "markdown",
      "metadata": {
        "id": "4yDK_jxhm1ac",
        "colab_type": "text"
      },
      "source": [
        "### Длина текстов в символах"
      ]
    },
    {
      "cell_type": "code",
      "metadata": {
        "id": "2wJhmkoKl1Oa",
        "colab_type": "code",
        "outputId": "176fea73-5fb2-4158-cb27-b575db5be593",
        "colab": {
          "base_uri": "https://localhost:8080/",
          "height": 265
        }
      },
      "source": [
        "text_len = df.text.apply(len)\n",
        "\n",
        "fig, ax = plt.subplots()\n",
        "lng = text_len.tolist()\n",
        "n, bins, patches = ax.hist(lng)\n",
        "plt.show()"
      ],
      "execution_count": 0,
      "outputs": [
        {
          "output_type": "display_data",
          "data": {
            "image/png": "[encoded data removed]",
            "text/plain": [
              "<Figure size 432x288 with 1 Axes>"
            ]
          },
          "metadata": {
            "tags": [],
            "needs_background": "light"
          }
        }
      ]
    },
    {
      "cell_type": "markdown",
      "metadata": {
        "colab_type": "text",
        "id": "Au9pj8eZqB7H"
      },
      "source": [
        "### Длина текстов в словах"
      ]
    },
    {
      "cell_type": "code",
      "metadata": {
        "colab_type": "code",
        "outputId": "96eddcde-87a7-4400-e8cd-2369efbea1b4",
        "id": "x1bUrEtpqB7J",
        "colab": {
          "base_uri": "https://localhost:8080/",
          "height": 363,
          "referenced_widgets": [
            "d59113e98ecb41a1bf1e3d52e5843d1f",
            "d01bfe4b6b9e42129bc38418a12057b6",
            "f2f0e0b91bc341baaa93c7891519a06f",
            "af1f238b3f1542468214661810733f7f",
            "e1d2944a74da4f1599e17f3924e39ae5",
            "5da0cc138c4f4f10a14e90ae57c9ee08",
            "c7d158dd70434c48ac542c12a00427b7",
            "0c4d9249e9b144f2bc4b9d5370caa244",
            "efafb1527eff41ae9a58725e21d3aa92",
            "ab5815dfadef43ba860d4f8c77974521",
            "41f4691e34ae4abda7aa2b07ad07df28",
            "17642f43900c4269867ff002908b1e69",
            "b23183d5fa104a8b895f6d55ec8135e9",
            "95d3811d282c4b309046e4fd9ef4511e",
            "6996842d0f1f466bb459aacb6cb93d5b",
            "c0b2baa4dabe4e99874124a7ce672a85"
          ]
        }
      },
      "source": [
        "words_len = df.text.progress_apply(toktok.tokenize).progress_apply(len)\n",
        "\n",
        "fig, ax = plt.subplots()\n",
        "lng = words_len.tolist()\n",
        "n, bins, patches = ax.hist(lng)\n",
        "plt.show()"
      ],
      "execution_count": 0,
      "outputs": [
        {
          "output_type": "display_data",
          "data": {
            "application/vnd.jupyter.widget-view+json": {
              "model_id": "d59113e98ecb41a1bf1e3d52e5843d1f",
              "version_minor": 0,
              "version_major": 2
            },
            "text/plain": [
              "HBox(children=(IntProgress(value=0, max=153499), HTML(value='')))"
            ]
          },
          "metadata": {
            "tags": []
          }
        },
        {
          "output_type": "stream",
          "text": [
            "\n"
          ],
          "name": "stdout"
        },
        {
          "output_type": "display_data",
          "data": {
            "application/vnd.jupyter.widget-view+json": {
              "model_id": "efafb1527eff41ae9a58725e21d3aa92",
              "version_minor": 0,
              "version_major": 2
            },
            "text/plain": [
              "HBox(children=(IntProgress(value=0, max=153499), HTML(value='')))"
            ]
          },
          "metadata": {
            "tags": []
          }
        },
        {
          "output_type": "stream",
          "text": [
            "\n"
          ],
          "name": "stdout"
        },
        {
          "output_type": "display_data",
          "data": {
            "image/png": "[encoded data removed]",
            "text/plain": [
              "<Figure size 432x288 with 1 Axes>"
            ]
          },
          "metadata": {
            "tags": [],
            "needs_background": "light"
          }
        }
      ]
    },
    {
      "cell_type": "markdown",
      "metadata": {
        "id": "6YUIuvCPqYT2",
        "colab_type": "text"
      },
      "source": [
        "### 10 самых..."
      ]
    },
    {
      "cell_type": "code",
      "metadata": {
        "id": "Nzy9AOC6knhw",
        "colab_type": "code",
        "outputId": "c5f3be5e-ab3f-4f78-ee4e-45b00a0f65d1",
        "colab": {
          "base_uri": "https://localhost:8080/",
          "height": 66,
          "referenced_widgets": [
            "d1a8bf881e2d49c58c2b6d190ac45335",
            "2be3786b64fb4d578182bfea8473f9ee",
            "8d0b3e00d18b4b018adc8a608081dc3a",
            "8d219c53a98d424b902c2292a876f0c9",
            "b9d83308c7604692aff6431c45ce0a31",
            "0cd66332dfdd421fab092b10cfcac9ab",
            "b58a02e9f0bc4a88931249318e9a93ca",
            "d02b74925c114e1c8d5ac18cce14a443"
          ]
        }
      },
      "source": [
        "stops = stopwords.words('russian')\n",
        "\n",
        "cnt_tokens, cnt_wo_stops, cnt_lemmas, cnt_nouns = \\\n",
        "    Counter(), Counter(), Counter(), Counter()\n",
        "n_types, n_tokens = [], []\n",
        "\n",
        "for index, row in tqdm(df.iterrows(), total = len(df)):\n",
        "\n",
        "    tokens = row['text'].lower().split()\n",
        "    cnt_tokens.update(tokens)\n",
        "    n_types.append(len(cnt_tokens))\n",
        "    n_tokens.append(sum(list(cnt_tokens.values())))\n",
        "\n",
        "    tokens_wo = [t for t in tokens if not t in stops]\n",
        "    cnt_wo_stops.update(tokens_wo)\n",
        "   \n",
        "    lemmas = [pm2.parse(word)[0].normal_form for word in tokens_wo]\n",
        "    cnt_lemmas.update(lemmas)\n",
        "  \n",
        "    nouns = [t for t in tokens if 'NOUN' in pm2.parse(t)[0].tag]\n",
        "    cnt_nouns.update(nouns)"
      ],
      "execution_count": 0,
      "outputs": [
        {
          "output_type": "display_data",
          "data": {
            "application/vnd.jupyter.widget-view+json": {
              "model_id": "d1a8bf881e2d49c58c2b6d190ac45335",
              "version_minor": 0,
              "version_major": 2
            },
            "text/plain": [
              "HBox(children=(IntProgress(value=0, max=153499), HTML(value='')))"
            ]
          },
          "metadata": {
            "tags": []
          }
        },
        {
          "output_type": "stream",
          "text": [
            "\n"
          ],
          "name": "stdout"
        }
      ]
    },
    {
      "cell_type": "markdown",
      "metadata": {
        "id": "olamVhiP8ll4",
        "colab_type": "text"
      },
      "source": [
        "### 10 самых частых слов"
      ]
    },
    {
      "cell_type": "code",
      "metadata": {
        "id": "5bKXQLrm7Xb_",
        "colab_type": "code",
        "outputId": "87db5fb1-785e-44c5-e13e-decd10dae297",
        "colab": {
          "base_uri": "https://localhost:8080/",
          "height": 187
        }
      },
      "source": [
        "for i in cnt_tokens.most_common(10):\n",
        "    print(i)"
      ],
      "execution_count": 0,
      "outputs": [
        {
          "output_type": "stream",
          "text": [
            "('в', 1308201)\n",
            "('и', 1036679)\n",
            "('не', 841941)\n",
            "('на', 696880)\n",
            "('что', 603955)\n",
            "('я', 549713)\n",
            "('с', 449286)\n",
            "('по', 358723)\n",
            "('мне', 302747)\n",
            "('-', 294086)\n"
          ],
          "name": "stdout"
        }
      ]
    },
    {
      "cell_type": "markdown",
      "metadata": {
        "id": "1oqxeJr1s3hD",
        "colab_type": "text"
      },
      "source": [
        "### 10 самых частых слов без стоп-слов"
      ]
    },
    {
      "cell_type": "code",
      "metadata": {
        "id": "N_v6EFCJ7vaM",
        "colab_type": "code",
        "outputId": "b8485670-aa87-4340-e5fa-4a04fd2d5826",
        "colab": {
          "base_uri": "https://localhost:8080/",
          "height": 187
        }
      },
      "source": [
        "for i in cnt_wo_stops.most_common(10):\n",
        "    print(i)"
      ],
      "execution_count": 0,
      "outputs": [
        {
          "output_type": "stream",
          "text": [
            "('-', 294086)\n",
            "('это', 171582)\n",
            "('банка', 160550)\n",
            "('банк', 134069)\n",
            "('деньги', 96154)\n",
            "('карту', 66651)\n",
            "('карты', 64616)\n",
            "('очень', 64613)\n",
            "('заявление', 53267)\n",
            "('кредит', 53104)\n"
          ],
          "name": "stdout"
        }
      ]
    },
    {
      "cell_type": "markdown",
      "metadata": {
        "colab_type": "text",
        "id": "Jbv7La65tNna"
      },
      "source": [
        "### 10 самых частых лемм без стоп-слов"
      ]
    },
    {
      "cell_type": "code",
      "metadata": {
        "id": "LE6CmTFi70HF",
        "colab_type": "code",
        "outputId": "a174252c-86b0-4994-911f-8bec925a2f15",
        "colab": {
          "base_uri": "https://localhost:8080/",
          "height": 187
        }
      },
      "source": [
        "for i in cnt_lemmas.most_common(10):\n",
        "    print(i)"
      ],
      "execution_count": 0,
      "outputs": [
        {
          "output_type": "stream",
          "text": [
            "('-', 294086)\n",
            "('банка', 231913)\n",
            "('карта', 219718)\n",
            "('это', 196558)\n",
            "('банк', 163767)\n",
            "('мой', 157578)\n",
            "('который', 142638)\n",
            "('деньга', 128634)\n",
            "('отделение', 109285)\n",
            "('сотрудник', 109248)\n"
          ],
          "name": "stdout"
        }
      ]
    },
    {
      "cell_type": "markdown",
      "metadata": {
        "id": "Otot8zaS9Py-",
        "colab_type": "text"
      },
      "source": [
        "### 10 самых частых существительных"
      ]
    },
    {
      "cell_type": "code",
      "metadata": {
        "id": "T5h2D69z78Yb",
        "colab_type": "code",
        "outputId": "f995c88d-dd9a-4bc5-d338-6521a5e9a7f8",
        "colab": {
          "base_uri": "https://localhost:8080/",
          "height": 187
        }
      },
      "source": [
        "for i in cnt_nouns.most_common(10):\n",
        "    print(i)"
      ],
      "execution_count": 0,
      "outputs": [
        {
          "output_type": "stream",
          "text": [
            "('банка', 160550)\n",
            "('банк', 134069)\n",
            "('деньги', 96154)\n",
            "('карту', 66651)\n",
            "('карты', 64616)\n",
            "('раз', 61852)\n",
            "('заявление', 53267)\n",
            "('кредит', 53104)\n",
            "('отделение', 50251)\n",
            "('время', 49853)\n"
          ],
          "name": "stdout"
        }
      ]
    },
    {
      "cell_type": "markdown",
      "metadata": {
        "id": "-pTlogUo9iSH",
        "colab_type": "text"
      },
      "source": [
        "### Закон Ципфа"
      ]
    },
    {
      "cell_type": "code",
      "metadata": {
        "id": "l49gHcMn9hMr",
        "colab_type": "code",
        "outputId": "9c30c897-f3b3-4bcb-b8ca-20ea06233d15",
        "colab": {
          "base_uri": "https://localhost:8080/",
          "height": 278
        }
      },
      "source": [
        "freqs = list(cnt_tokens.values())\n",
        "freqs = sorted(freqs, reverse = True)\n",
        "\n",
        "fig, ax = plt.subplots()\n",
        "ax.plot(freqs[:300], range(300))\n",
        "plt.show()"
      ],
      "execution_count": 0,
      "outputs": [
        {
          "output_type": "display_data",
          "data": {
            "image/png": "[encoded data removed]",
            "text/plain": [
              "<Figure size 432x288 with 1 Axes>"
            ]
          },
          "metadata": {
            "tags": [],
            "needs_background": "light"
          }
        }
      ]
    },
    {
      "cell_type": "markdown",
      "metadata": {
        "colab_type": "text",
        "id": "koYH05IE9sA-"
      },
      "source": [
        "### Закон Хипса"
      ]
    },
    {
      "cell_type": "code",
      "metadata": {
        "colab_type": "code",
        "outputId": "3c0070b8-88f1-4df4-d18f-62dbdd0f2e3c",
        "id": "z_OpDYY79sA_",
        "colab": {
          "base_uri": "https://localhost:8080/",
          "height": 289
        }
      },
      "source": [
        "fig, ax = plt.subplots()\n",
        "ax.plot(n_tokens, n_types)\n",
        "plt.show()"
      ],
      "execution_count": 0,
      "outputs": [
        {
          "output_type": "display_data",
          "data": {
            "image/png": "[encoded data removed]",
            "text/plain": [
              "<Figure size 432x288 with 1 Axes>"
            ]
          },
          "metadata": {
            "tags": [],
            "needs_background": "light"
          }
        }
      ]
    },
    {
      "cell_type": "code",
      "metadata": {
        "id": "RBC1L-n6_vik",
        "colab_type": "code",
        "outputId": "fce89064-544b-4296-a52f-fe77b75e02b9",
        "colab": {
          "base_uri": "https://localhost:8080/",
          "height": 51
        }
      },
      "source": [
        "print('Слово \"сотрудник\" встречается {}, а \"клиент\" -- {} раз.'.format(cnt_lemmas['сотрудник'], cnt_lemmas['клиент']))\n",
        "print('Слова \"мошенничество\" и \"доверие\" встречаются {} и {} раза соответственно.'.\n",
        "      format(cnt_lemmas['мошенничество'], cnt_lemmas['доверие']))"
      ],
      "execution_count": 0,
      "outputs": [
        {
          "output_type": "stream",
          "text": [
            "Слово \"сотрудник\" встречается 109248, а \"клиент\" -- 81409 раз.\n",
            "Слова \"мошенничество\" и \"доверие\" встречаются 1429 и 1440 раза соответственно.\n"
          ],
          "name": "stdout"
        }
      ]
    },
    {
      "cell_type": "markdown",
      "metadata": {
        "id": "xhlB1LjaKBN_",
        "colab_type": "text"
      },
      "source": [
        "### Топ ключевых слов и биграмм в отрицательных отзывах"
      ]
    },
    {
      "cell_type": "code",
      "metadata": {
        "id": "tqnsn6HrNRRt",
        "colab_type": "code",
        "outputId": "88689ce4-614d-4501-dfdc-12970ad29266",
        "colab": {
          "base_uri": "https://localhost:8080/",
          "height": 359
        }
      },
      "source": [
        "tfidf = TfidfVectorizer(analyzer='word', ngram_range=(1,2), min_df = 0)\n",
        "tfidf_matrix =  tfidf.fit_transform([' '.join(df.loc[df.rating==1]['text'])])\n",
        "feature_names = tfidf.get_feature_names() \n",
        "tfidf_ranking = []\n",
        "dense = tfidf_matrix.todense()\n",
        "text = dense[0].tolist()[0]\n",
        "phrase_scores = [pair for pair in zip(range(0, len(text)), text) if pair[1] > 0]\n",
        "sorted_phrase_scores = sorted(phrase_scores, key=lambda t: t[1] * -1)\n",
        "phrases = []\n",
        "for phrase, score in [(feature_names[word_id], score) for (word_id, score) in sorted_phrase_scores][:40]:\n",
        "    tfidf_ranking.append(phrase)\n",
        "rankings = pd.DataFrame({'tf-idf': tfidf_ranking})\n",
        "rankings.head(10)"
      ],
      "execution_count": 0,
      "outputs": [
        {
          "output_type": "execute_result",
          "data": {
            "text/html": [
              "<div>\n",
              "<style scoped>\n",
              "    .dataframe tbody tr th:only-of-type {\n",
              "        vertical-align: middle;\n",
              "    }\n",
              "\n",
              "    .dataframe tbody tr th {\n",
              "        vertical-align: top;\n",
              "    }\n",
              "\n",
              "    .dataframe thead th {\n",
              "        text-align: right;\n",
              "    }\n",
              "</style>\n",
              "<table border=\"1\" class=\"dataframe\">\n",
              "  <thead>\n",
              "    <tr style=\"text-align: right;\">\n",
              "      <th></th>\n",
              "      <th>tf-idf</th>\n",
              "    </tr>\n",
              "  </thead>\n",
              "  <tbody>\n",
              "    <tr>\n",
              "      <th>0</th>\n",
              "      <td>не</td>\n",
              "    </tr>\n",
              "    <tr>\n",
              "      <th>1</th>\n",
              "      <td>на</td>\n",
              "    </tr>\n",
              "    <tr>\n",
              "      <th>2</th>\n",
              "      <td>что</td>\n",
              "    </tr>\n",
              "    <tr>\n",
              "      <th>3</th>\n",
              "      <td>по</td>\n",
              "    </tr>\n",
              "    <tr>\n",
              "      <th>4</th>\n",
              "      <td>мне</td>\n",
              "    </tr>\n",
              "    <tr>\n",
              "      <th>5</th>\n",
              "      <td>банка</td>\n",
              "    </tr>\n",
              "    <tr>\n",
              "      <th>6</th>\n",
              "      <td>банк</td>\n",
              "    </tr>\n",
              "    <tr>\n",
              "      <th>7</th>\n",
              "      <td>как</td>\n",
              "    </tr>\n",
              "    <tr>\n",
              "      <th>8</th>\n",
              "      <td>то</td>\n",
              "    </tr>\n",
              "    <tr>\n",
              "      <th>9</th>\n",
              "      <td>меня</td>\n",
              "    </tr>\n",
              "  </tbody>\n",
              "</table>\n",
              "</div>"
            ],
            "text/plain": [
              "  tf-idf\n",
              "0     не\n",
              "1     на\n",
              "2    что\n",
              "3     по\n",
              "4    мне\n",
              "5  банка\n",
              "6   банк\n",
              "7    как\n",
              "8     то\n",
              "9   меня"
            ]
          },
          "metadata": {
            "tags": []
          },
          "execution_count": 21
        }
      ]
    },
    {
      "cell_type": "markdown",
      "metadata": {
        "id": "C3PXrRQhKIHk",
        "colab_type": "text"
      },
      "source": [
        "### Топ ключевых слов и биграмм в положительных отзывах"
      ]
    },
    {
      "cell_type": "code",
      "metadata": {
        "id": "pRrGSz3fFJ-6",
        "colab_type": "code",
        "outputId": "c838b062-90bc-4e28-8af9-44b6dcd61625",
        "colab": {
          "base_uri": "https://localhost:8080/",
          "height": 359
        }
      },
      "source": [
        "tfidf = TfidfVectorizer(analyzer='word', ngram_range=(1,2), min_df = 0)\n",
        "tfidf_matrix =  tfidf.fit_transform([' '.join(df.loc[df.rating==5]['text'])])\n",
        "feature_names = tfidf.get_feature_names() \n",
        "tfidf_ranking = []\n",
        "dense = tfidf_matrix.todense()\n",
        "text = dense[0].tolist()[0]\n",
        "phrase_scores = [pair for pair in zip(range(0, len(text)), text) if pair[1] > 0]\n",
        "sorted_phrase_scores = sorted(phrase_scores, key=lambda t: t[1] * -1)\n",
        "phrases = []\n",
        "for phrase, score in [(feature_names[word_id], score) for (word_id, score) in sorted_phrase_scores][:40]:\n",
        "    tfidf_ranking.append(phrase)\n",
        "rankings = pd.DataFrame({'tf-idf': tfidf_ranking})\n",
        "rankings.head(10)"
      ],
      "execution_count": 0,
      "outputs": [
        {
          "output_type": "execute_result",
          "data": {
            "text/html": [
              "<div>\n",
              "<style scoped>\n",
              "    .dataframe tbody tr th:only-of-type {\n",
              "        vertical-align: middle;\n",
              "    }\n",
              "\n",
              "    .dataframe tbody tr th {\n",
              "        vertical-align: top;\n",
              "    }\n",
              "\n",
              "    .dataframe thead th {\n",
              "        text-align: right;\n",
              "    }\n",
              "</style>\n",
              "<table border=\"1\" class=\"dataframe\">\n",
              "  <thead>\n",
              "    <tr style=\"text-align: right;\">\n",
              "      <th></th>\n",
              "      <th>tf-idf</th>\n",
              "    </tr>\n",
              "  </thead>\n",
              "  <tbody>\n",
              "    <tr>\n",
              "      <th>0</th>\n",
              "      <td>не</td>\n",
              "    </tr>\n",
              "    <tr>\n",
              "      <th>1</th>\n",
              "      <td>на</td>\n",
              "    </tr>\n",
              "    <tr>\n",
              "      <th>2</th>\n",
              "      <td>что</td>\n",
              "    </tr>\n",
              "    <tr>\n",
              "      <th>3</th>\n",
              "      <td>по</td>\n",
              "    </tr>\n",
              "    <tr>\n",
              "      <th>4</th>\n",
              "      <td>банка</td>\n",
              "    </tr>\n",
              "    <tr>\n",
              "      <th>5</th>\n",
              "      <td>все</td>\n",
              "    </tr>\n",
              "    <tr>\n",
              "      <th>6</th>\n",
              "      <td>за</td>\n",
              "    </tr>\n",
              "    <tr>\n",
              "      <th>7</th>\n",
              "      <td>мне</td>\n",
              "    </tr>\n",
              "    <tr>\n",
              "      <th>8</th>\n",
              "      <td>но</td>\n",
              "    </tr>\n",
              "    <tr>\n",
              "      <th>9</th>\n",
              "      <td>как</td>\n",
              "    </tr>\n",
              "  </tbody>\n",
              "</table>\n",
              "</div>"
            ],
            "text/plain": [
              "  tf-idf\n",
              "0     не\n",
              "1     на\n",
              "2    что\n",
              "3     по\n",
              "4  банка\n",
              "5    все\n",
              "6     за\n",
              "7    мне\n",
              "8     но\n",
              "9    как"
            ]
          },
          "metadata": {
            "tags": []
          },
          "execution_count": 22
        }
      ]
    },
    {
      "cell_type": "markdown",
      "metadata": {
        "id": "e-gajKCIcVRb",
        "colab_type": "text"
      },
      "source": [
        "\n",
        "## Часть 2. Тематическое моделирование [20/100]\n",
        "1. Постройте несколько тематических моделей коллекции документов с разным числом тем. Приведите примеры понятных (интерпретируемых) тем.\n",
        "2. Найдите темы, в которых упомянуты конкретные банки (Сбербанк, ВТБ, другой банк). Можете ли вы их прокомментировать / объяснить?\n",
        "\n",
        "Эта часть задания может быть сделана с использованием gensim. "
      ]
    },
    {
      "cell_type": "code",
      "metadata": {
        "id": "fUBTHS2hRu_p",
        "colab_type": "code",
        "colab": {}
      },
      "source": [
        "texts = [text.split() for text in df.text_prep]\n",
        "dictionary = Dictionary(texts)\n",
        "corpus = [dictionary.doc2bow(text) for text in texts]\n",
        "tfidf = TfidfModel(corpus)\n",
        "corpus_tfidf = tfidf[corpus]\n",
        "lsi = lsimodel.LsiModel(corpus=corpus_tfidf, id2word=dictionary, num_topics=30)\n",
        "corpus = [dictionary.doc2bow(text) for text in texts]"
      ],
      "execution_count": 0,
      "outputs": []
    },
    {
      "cell_type": "code",
      "metadata": {
        "id": "ytRRtxbgd6rI",
        "colab_type": "code",
        "outputId": "ce180b15-eb1f-4aef-b9e2-5cc7052ba1a2",
        "colab": {
          "base_uri": "https://localhost:8080/",
          "height": 1000
        }
      },
      "source": [
        "lsi.print_topics(30)"
      ],
      "execution_count": 0,
      "outputs": [
        {
          "output_type": "execute_result",
          "data": {
            "text/plain": [
              "[(0,\n",
              "  '0.170*\"карта\" + 0.125*\"кредит\" + 0.112*\"заявление\" + 0.109*\"деньга\" + 0.100*\"сч\" + 0.100*\"отделение\" + 0.097*\"сумма\" + 0.095*\"кредитный\" + 0.094*\"банкомат\" + 0.091*\"сотрудник\"'),\n",
              " (1,\n",
              "  '0.367*\"кредит\" + -0.262*\"банкомат\" + -0.213*\"вклад\" + -0.209*\"карта\" + -0.151*\"деньга\" + 0.140*\"погашение\" + 0.131*\"договор\" + 0.129*\"задолженность\" + 0.122*\"страховка\" + 0.121*\"кредитный\"'),\n",
              " (2,\n",
              "  '-0.500*\"вклад\" + 0.207*\"банкомат\" + 0.146*\"сбербанк\" + 0.145*\"заявление\" + 0.135*\"карта\" + -0.133*\"открыть\" + -0.128*\"очередь\" + 0.106*\"руб\" + 0.106*\"средство\" + -0.104*\"вклада\"'),\n",
              " (3,\n",
              "  '-0.283*\"вклад\" + 0.234*\"номер\" + -0.221*\"сумма\" + -0.202*\"руб\" + 0.160*\"звонок\" + -0.153*\"договор\" + -0.151*\"погашение\" + -0.142*\"досрочный\" + 0.136*\"телефон\" + 0.128*\"заявка\"'),\n",
              " (4,\n",
              "  '0.345*\"вклад\" + 0.254*\"номер\" + -0.195*\"кредит\" + -0.173*\"банкомат\" + -0.150*\"заявка\" + 0.149*\"звонок\" + -0.140*\"карта\" + 0.140*\"ваш\" + 0.138*\"денежный\" + 0.119*\"телефон\"'),\n",
              " (5,\n",
              "  '0.418*\"банкомат\" + -0.390*\"карта\" + -0.182*\"кредитный\" + -0.169*\"лимит\" + 0.154*\"деньга\" + -0.138*\"карты\" + -0.122*\"смс\" + 0.117*\"чек\" + 0.113*\"купюра\" + -0.109*\"комиссия\"'),\n",
              " (6,\n",
              "  '0.240*\"заявление\" + 0.228*\"заявка\" + 0.208*\"сбербанк\" + -0.155*\"плат\" + 0.142*\"г\" + 0.135*\"рассмотрение\" + 0.130*\"документ\" + -0.126*\"банкомат\" + -0.123*\"задолженность\" + 0.118*\"денежный\"'),\n",
              " (7,\n",
              "  '-0.367*\"вклад\" + 0.206*\"перевод\" + -0.182*\"карта\" + -0.162*\"заявление\" + -0.128*\"задолженность\" + -0.117*\"звонить\" + -0.115*\"смс\" + 0.112*\"комиссия\" + 0.112*\"денежный\" + -0.107*\"закрыть\"'),\n",
              " (8,\n",
              "  '0.401*\"банкомат\" + -0.273*\"сбербанк\" + -0.238*\"плат\" + -0.197*\"перевод\" + 0.182*\"альфа\" + 0.153*\"карта\" + 0.149*\"кредитный\" + 0.129*\"лимит\" + -0.129*\"онлайн\" + -0.119*\"терминал\"'),\n",
              " (9,\n",
              "  '-0.341*\"заявка\" + -0.177*\"смс\" + -0.177*\"вклад\" + 0.162*\"очередь\" + 0.157*\"заявление\" + 0.143*\"карта\" + -0.142*\"киви\" + 0.141*\"отделение\" + 0.129*\"задолженность\" + -0.128*\"кошел\"'),\n",
              " (10,\n",
              "  '-0.351*\"сбербанк\" + -0.281*\"страховка\" + -0.204*\"страхование\" + 0.180*\"заявка\" + -0.172*\"услуга\" + -0.169*\"страховой\" + -0.160*\"смс\" + -0.159*\"мобильный\" + -0.157*\"номер\" + -0.146*\"кредит\"'),\n",
              " (11,\n",
              "  '0.289*\"сбербанк\" + -0.269*\"перевод\" + -0.231*\"сч\" + -0.222*\"альфа\" + -0.167*\"заявление\" + -0.152*\"комиссия\" + 0.147*\"заявка\" + 0.145*\"терминал\" + -0.145*\"страховка\" + -0.145*\"деньга\"'),\n",
              " (12,\n",
              "  '-0.423*\"альфа\" + 0.297*\"терминал\" + 0.286*\"киви\" + 0.245*\"кошел\" + -0.217*\"сбербанк\" + 0.163*\"договор\" + -0.135*\"претензия\" + -0.128*\"погашение\" + -0.127*\"кредит\" + -0.123*\"сч\"'),\n",
              " (13,\n",
              "  '0.292*\"альфа\" + -0.282*\"руб\" + -0.271*\"сбербанк\" + 0.200*\"досрочный\" + -0.186*\"комиссия\" + 0.179*\"погашение\" + 0.170*\"услуга\" + -0.154*\"перевод\" + -0.144*\"заявка\" + 0.135*\"смс\"'),\n",
              " (14,\n",
              "  '0.438*\"руб\" + -0.200*\"сбербанк\" + 0.169*\"смс\" + -0.163*\"кредит\" + -0.160*\"деньга\" + 0.156*\"комиссия\" + 0.141*\"очередь\" + 0.132*\"курс\" + 0.129*\"сумма\" + -0.106*\"кредитный\"'),\n",
              " (15,\n",
              "  '0.527*\"альфа\" + -0.266*\"досрочный\" + 0.249*\"руб\" + -0.238*\"погашение\" + 0.224*\"терминал\" + -0.172*\"банкомат\" + 0.167*\"претензия\" + -0.125*\"перевод\" + 0.125*\"г\" + -0.096*\"курс\"'),\n",
              " (16,\n",
              "  '0.292*\"перевод\" + 0.239*\"терминал\" + 0.203*\"кредит\" + -0.203*\"курс\" + -0.178*\"смс\" + 0.154*\"карта\" + 0.146*\"денежный\" + 0.140*\"номер\" + 0.129*\"кредитный\" + 0.128*\"альфа\"'),\n",
              " (17,\n",
              "  '0.291*\"смс\" + 0.271*\"справка\" + -0.235*\"плат\" + 0.228*\"киви\" + 0.220*\"кошел\" + 0.138*\"кредит\" + -0.134*\"страховка\" + 0.133*\"закрытие\" + 0.129*\"сч\" + -0.121*\"карта\"'),\n",
              " (18,\n",
              "  '0.297*\"курс\" + -0.275*\"смс\" + 0.222*\"киви\" + 0.215*\"кошел\" + 0.207*\"альфа\" + 0.185*\"досрочный\" + 0.174*\"руб\" + 0.170*\"евро\" + -0.160*\"р\" + 0.159*\"погашение\"'),\n",
              " (19,\n",
              "  '-0.286*\"денежный\" + 0.265*\"договор\" + -0.250*\"средство\" + 0.244*\"банкомат\" + 0.180*\"справка\" + -0.145*\"заявление\" + -0.139*\"страховка\" + -0.121*\"смс\" + 0.120*\"сбербанк\" + -0.113*\"очень\"'),\n",
              " (20,\n",
              "  '0.501*\"руб\" + -0.271*\"терминал\" + -0.261*\"курс\" + -0.255*\"р\" + -0.166*\"евро\" + -0.156*\"рублей\" + -0.145*\"рубль\" + 0.129*\"банкомат\" + -0.112*\"кредитный\" + -0.103*\"смс\"'),\n",
              " (21,\n",
              "  '0.299*\"терминал\" + 0.251*\"заявление\" + 0.216*\"комиссия\" + 0.211*\"р\" + -0.201*\"денежный\" + -0.167*\"средство\" + -0.167*\"альфа\" + -0.154*\"курс\" + -0.146*\"киви\" + -0.140*\"кошел\"'),\n",
              " (22,\n",
              "  '0.535*\"р\" + -0.235*\"руб\" + 0.234*\"комиссия\" + 0.224*\"киви\" + 0.197*\"кошел\" + -0.183*\"курс\" + -0.153*\"кредитный\" + 0.123*\"снятие\" + -0.121*\"справка\" + -0.121*\"заявление\"'),\n",
              " (23,\n",
              "  '-0.320*\"лимит\" + -0.218*\"кредитный\" + 0.215*\"втб\" + -0.169*\"р\" + 0.165*\"плат\" + -0.161*\"сбербанк\" + 0.150*\"смс\" + 0.145*\"г\" + 0.136*\"карта\" + 0.122*\"евро\"'),\n",
              " (24,\n",
              "  '0.224*\"курс\" + 0.208*\"г\" + 0.203*\"р\" + 0.187*\"ваш\" + 0.159*\"горячий\" + -0.151*\"досрочный\" + -0.147*\"погашение\" + 0.143*\"евро\" + -0.129*\"руб\" + 0.127*\"страховка\"'),\n",
              " (25,\n",
              "  '-0.230*\"персональный\" + -0.226*\"заявление\" + -0.210*\"перевод\" + 0.203*\"сч\" + 0.183*\"терминал\" + -0.175*\"комиссия\" + -0.149*\"плат\" + 0.144*\"втб\" + -0.135*\"очередь\" + 0.135*\"номер\"'),\n",
              " (26,\n",
              "  '0.315*\"комиссия\" + -0.311*\"р\" + -0.248*\"персональный\" + -0.203*\"обработка\" + -0.166*\"согласие\" + 0.161*\"договор\" + -0.149*\"удалить\" + -0.135*\"адресовать\" + 0.130*\"перевод\" + -0.126*\"страховка\"'),\n",
              " (27,\n",
              "  '0.248*\"терминал\" + -0.233*\"номер\" + 0.202*\"горячий\" + 0.153*\"рф\" + 0.152*\"линия\" + -0.145*\"договор\" + 0.142*\"персональный\" + -0.142*\"плат\" + 0.137*\"кредит\" + 0.134*\"закон\"'),\n",
              " (28,\n",
              "  '0.567*\"ваш\" + -0.200*\"мтс\" + -0.190*\"горячий\" + -0.161*\"втб\" + -0.140*\"линия\" + 0.125*\"заявка\" + 0.121*\"сч\" + -0.108*\"адресовать\" + -0.106*\"звонок\" + -0.103*\"траст\"'),\n",
              " (29,\n",
              "  '-0.247*\"р\" + -0.234*\"заявление\" + 0.182*\"центр\" + 0.175*\"колл\" + 0.171*\"смс\" + 0.156*\"персональный\" + 0.152*\"киви\" + -0.136*\"плат\" + 0.134*\"страховой\" + 0.127*\"январь\"')]"
            ]
          },
          "metadata": {
            "tags": []
          },
          "execution_count": 27
        }
      ]
    },
    {
      "cell_type": "code",
      "metadata": {
        "id": "AVyVLFsTdBlI",
        "colab_type": "code",
        "colab": {}
      },
      "source": [
        "lda = ldamodel.LdaModel(corpus, num_topics=30, id2word=dictionary, passes=15)"
      ],
      "execution_count": 0,
      "outputs": []
    },
    {
      "cell_type": "code",
      "metadata": {
        "id": "Mx9xr1R2VCeB",
        "colab_type": "code",
        "outputId": "1b76910a-200c-4837-d018-57b9c724a4b6",
        "colab": {
          "base_uri": "https://localhost:8080/",
          "height": 1000
        }
      },
      "source": [
        "lda.print_topics(30)"
      ],
      "execution_count": 0,
      "outputs": [
        {
          "output_type": "execute_result",
          "data": {
            "text/plain": [
              "[(0,\n",
              "  '0.046*\"весь\" + 0.023*\"банк\" + 0.019*\"очень\" + 0.015*\"год\" + 0.013*\"ещ\" + 0.009*\"просто\" + 0.009*\"хороший\" + 0.009*\"большой\" + 0.008*\"самый\" + 0.007*\"пользоваться\"'),\n",
              " (1,\n",
              "  '0.049*\"го\" + 0.027*\"дата\" + 0.022*\"число\" + 0.020*\"пожалуйста\" + 0.017*\"администратора\" + 0.012*\"декабрь\" + 0.011*\"январь\" + 0.010*\"числа\" + 0.010*\"января\" + 0.009*\"декабря\"'),\n",
              " (2,\n",
              "  '0.029*\"банк\" + 0.015*\"рф\" + 0.013*\"денежный\" + 0.012*\"средство\" + 0.012*\"г\" + 0.012*\"право\" + 0.012*\"договор\" + 0.011*\"банковский\" + 0.009*\"закон\" + 0.008*\"суд\"'),\n",
              " (3,\n",
              "  '0.039*\"отделение\" + 0.034*\"очередь\" + 0.023*\"работать\" + 0.022*\"офис\" + 0.018*\"время\" + 0.016*\"минута\" + 0.013*\"касса\" + 0.012*\"человек\" + 0.011*\"работа\" + 0.010*\"клиент\"'),\n",
              " (4,\n",
              "  '0.034*\"банка\" + 0.028*\"номер\" + 0.028*\"телефон\" + 0.027*\"звонок\" + 0.025*\"ваш\" + 0.019*\"звонить\" + 0.013*\"сотрудник\" + 0.011*\"банк\" + 0.010*\"дать\" + 0.009*\"кредит\"'),\n",
              " (5,\n",
              "  '0.171*\"сч\" + 0.029*\"счета\" + 0.028*\"счет\" + 0.024*\"деньга\" + 0.023*\"открыть\" + 0.021*\"открытие\" + 0.018*\"расч\" + 0.015*\"тный\" + 0.015*\"закрытие\" + 0.014*\"лицо\"'),\n",
              " (6,\n",
              "  '0.163*\"альфа\" + 0.024*\"мкб\" + 0.023*\"альф\" + 0.019*\"клик\" + 0.013*\"претензия\" + 0.008*\"альфы\" + 0.007*\"аба\" + 0.006*\"абэ\" + 0.005*\"аб\" + 0.004*\"газпромбанк\"'),\n",
              " (7,\n",
              "  '0.031*\"сотрудник\" + 0.015*\"банка\" + 0.013*\"отделение\" + 0.013*\"сотрудница\" + 0.009*\"девушка\" + 0.008*\"клиент\" + 0.008*\"вопрос\" + 0.008*\"г\" + 0.008*\"попросить\" + 0.008*\"обратиться\"'),\n",
              " (8,\n",
              "  '0.042*\"банка\" + 0.021*\"клиент\" + 0.020*\"банк\" + 0.010*\"вопрос\" + 0.009*\"весь\" + 0.009*\"время\" + 0.007*\"проблема\" + 0.007*\"работа\" + 0.006*\"сотрудник\" + 0.005*\"иметь\"'),\n",
              " (9,\n",
              "  '0.028*\"весь\" + 0.016*\"ещ\" + 0.016*\"звонить\" + 0.013*\"день\" + 0.012*\"позвонить\" + 0.011*\"девушка\" + 0.011*\"банк\" + 0.008*\"сказать\" + 0.008*\"ничто\" + 0.007*\"телефон\"'),\n",
              " (10,\n",
              "  '0.047*\"кредит\" + 0.024*\"заявка\" + 0.022*\"кредитный\" + 0.020*\"документ\" + 0.018*\"банка\" + 0.016*\"день\" + 0.012*\"банк\" + 0.011*\"весь\" + 0.011*\"менеджер\" + 0.010*\"решение\"'),\n",
              " (11,\n",
              "  '0.150*\"карта\" + 0.027*\"карту\" + 0.025*\"карты\" + 0.018*\"кредитный\" + 0.017*\"отделение\" + 0.015*\"банка\" + 0.014*\"заявление\" + 0.014*\"получить\" + 0.009*\"дебетовый\" + 0.009*\"карточка\"'),\n",
              " (12,\n",
              "  '0.051*\"плат\" + 0.046*\"перевод\" + 0.034*\"деньга\" + 0.018*\"сч\" + 0.016*\"система\" + 0.016*\"служба\" + 0.013*\"поддержка\" + 0.012*\"жный\" + 0.011*\"операция\" + 0.011*\"оплата\"'),\n",
              " (13,\n",
              "  '0.041*\"жена\" + 0.034*\"муж\" + 0.020*\"мама\" + 0.018*\"реб\" + 0.017*\"нок\" + 0.008*\"жить\" + 0.007*\"сын\" + 0.006*\"семья\" + 0.006*\"мария\" + 0.006*\"дом\"'),\n",
              " (14,\n",
              "  '0.062*\"магазин\" + 0.055*\"сити\" + 0.054*\"ситибанк\" + 0.032*\"покупка\" + 0.029*\"ситифон\" + 0.019*\"оплата\" + 0.019*\"ситибанка\" + 0.016*\"товар\" + 0.016*\"акция\" + 0.014*\"билет\"'),\n",
              " (15,\n",
              "  '0.016*\"ммб\" + 0.010*\"хкф\" + 0.008*\"детский\" + 0.007*\"бинбанка\" + 0.007*\"бин\" + 0.006*\"кутузовский\" + 0.006*\"марьино\" + 0.005*\"импэксбанк\" + 0.005*\"симпатичный\" + 0.005*\"внешторгбанк\"'),\n",
              " (16,\n",
              "  '0.050*\"кредит\" + 0.023*\"сумма\" + 0.023*\"плат\" + 0.023*\"банка\" + 0.017*\"кредитный\" + 0.016*\"банк\" + 0.014*\"задолженность\" + 0.014*\"весь\" + 0.014*\"погашение\" + 0.012*\"погасить\"'),\n",
              " (17,\n",
              "  '0.068*\"сб\" + 0.011*\"лист\" + 0.010*\"дельта\" + 0.008*\"судебный\" + 0.008*\"пристав\" + 0.007*\"печальный\" + 0.007*\"исполнительный\" + 0.006*\"питер\" + 0.006*\"наивный\" + 0.006*\"послезавтра\"'),\n",
              " (18,\n",
              "  '0.045*\"карта\" + 0.022*\"сумма\" + 0.022*\"лимит\" + 0.020*\"смс\" + 0.018*\"выписка\" + 0.016*\"сч\" + 0.014*\"руб\" + 0.013*\"кредитный\" + 0.013*\"операция\" + 0.012*\"банк\"'),\n",
              " (19,\n",
              "  '0.087*\"договор\" + 0.023*\"кредит\" + 0.018*\"страховка\" + 0.014*\"страховой\" + 0.014*\"сумма\" + 0.013*\"банка\" + 0.012*\"договора\" + 0.012*\"подписать\" + 0.011*\"страхование\" + 0.009*\"условие\"'),\n",
              " (20,\n",
              "  '0.106*\"сбербанк\" + 0.029*\"услуга\" + 0.028*\"номер\" + 0.026*\"мобильный\" + 0.025*\"сбербанка\" + 0.022*\"онлайн\" + 0.017*\"сбер\" + 0.015*\"телефон\" + 0.013*\"смс\" + 0.013*\"отделение\"'),\n",
              " (21,\n",
              "  '0.070*\"втб\" + 0.038*\"интернет\" + 0.027*\"система\" + 0.025*\"интернетом\" + 0.017*\"пароль\" + 0.013*\"банкинг\" + 0.013*\"телебанк\" + 0.013*\"код\" + 0.012*\"доступ\" + 0.011*\"ввести\"'),\n",
              " (22,\n",
              "  '0.044*\"документ\" + 0.033*\"паспорт\" + 0.023*\"копия\" + 0.019*\"справка\" + 0.015*\"дать\" + 0.014*\"подпись\" + 0.011*\"документы\" + 0.010*\"получить\" + 0.010*\"письмо\" + 0.009*\"выдать\"'),\n",
              " (23,\n",
              "  '0.036*\"очень\" + 0.029*\"весь\" + 0.019*\"банка\" + 0.016*\"спасибо\" + 0.015*\"быстро\" + 0.015*\"обслуживание\" + 0.013*\"сотрудник\" + 0.012*\"офис\" + 0.011*\"работа\" + 0.010*\"хотеть\"'),\n",
              " (24,\n",
              "  '0.033*\"салон\" + 0.017*\"мтс\" + 0.015*\"бла\" + 0.014*\"тверская\" + 0.011*\"кассирша\" + 0.010*\"мини\" + 0.009*\"европа\" + 0.009*\"кко\" + 0.008*\"машина\" + 0.006*\"убить\"'),\n",
              " (25,\n",
              "  '0.107*\"вклад\" + 0.031*\"банка\" + 0.025*\"открыть\" + 0.024*\"депозит\" + 0.023*\"процент\" + 0.020*\"деньга\" + 0.014*\"договор\" + 0.014*\"вклада\" + 0.013*\"ставка\" + 0.013*\"сумма\"'),\n",
              " (26,\n",
              "  '0.064*\"комиссия\" + 0.031*\"банка\" + 0.028*\"тариф\" + 0.024*\"обслуживание\" + 0.024*\"банк\" + 0.021*\"русский\" + 0.014*\"стандарт\" + 0.013*\"условие\" + 0.013*\"снятие\" + 0.011*\"рс\"'),\n",
              " (27,\n",
              "  '0.057*\"админа\" + 0.050*\"курс\" + 0.046*\"евро\" + 0.034*\"доллар\" + 0.027*\"вый\" + 0.026*\"валюта\" + 0.021*\"рубл\" + 0.020*\"валютный\" + 0.020*\"рубль\" + 0.017*\"росбанк\"'),\n",
              " (28,\n",
              "  '0.077*\"банкомат\" + 0.072*\"деньга\" + 0.017*\"снять\" + 0.017*\"деньги\" + 0.014*\"карта\" + 0.013*\"сумма\" + 0.013*\"сч\" + 0.010*\"выдать\" + 0.009*\"чек\" + 0.008*\"операция\"'),\n",
              " (29,\n",
              "  '0.037*\"заявление\" + 0.030*\"банка\" + 0.020*\"отделение\" + 0.017*\"ответ\" + 0.015*\"г\" + 0.015*\"написать\" + 0.015*\"день\" + 0.014*\"сотрудник\" + 0.013*\"банк\" + 0.011*\"претензия\"')]"
            ]
          },
          "metadata": {
            "tags": []
          },
          "execution_count": 31
        }
      ]
    },
    {
      "cell_type": "markdown",
      "metadata": {
        "id": "h4RNMSfbt8lV",
        "colab_type": "text"
      },
      "source": [
        "Так если посмотреть, то складывается ощущение, будто основные проблемы -- это комиссия. А также кредитные лимиты. Хоть есть название банка, хоть нет. Но имеено со Сбером часто попадается страховка. Также касательно конкретных банков люди упоминают мобильный банкинг."
      ]
    },
    {
      "cell_type": "markdown",
      "metadata": {
        "id": "ibqwPiz2cVRb",
        "colab_type": "text"
      },
      "source": [
        "## Часть 3. Классификация текстов [40/100]\n",
        "\n",
        "Сформулируем для простоты задачу бинарной классификации: будем классифицировать на два класса, то есть, различать резко отрицательные отзывы (с оценкой 1) и положительные отзывы (с оценкой 5). \n",
        "\n",
        "1.  Составьте обучающее и тестовое множество: выберите из всего набора данных N1 отзывов с оценкой 1 и N2 отзывов с оценкой 5 (значение N1 и N2 – на ваше усмотрение). Используйте ```sklearn.model_selection.train_test_split``` для разделения множества отобранных документов на обучающее и тестовое. \n",
        "2. Используйте любой известный вам алгоритм классификации текстов для решения задачи и получите baseline. Сравните разные варианты векторизации текста: использование только униграм, пар или троек слов или с использованием символьных $n$-грам. \n",
        "3. Сравните, как изменяется качество решения задачи при использовании скрытых тем в качестве признаков:\n",
        "* 1-ый вариант: $tf-idf$ преобразование (```sklearn.feature_extraction.text.TfidfTransformer```) и сингулярное разложение (оно же – латентый семантический анализ) (```sklearn.decomposition.TruncatedSVD```), \n",
        "* 2-ой вариант: тематические модели LDA (```sklearn.decomposition.LatentDirichletAllocation```). \n",
        "\n",
        "Используйте accuracy и F-measure для оценки качества классификации. \n",
        "\n",
        "Ниже написан примерный Pipeline для классификации текстов. \n",
        "\n",
        "Эта часть задания может быть сделана с использованием sklearn. "
      ]
    },
    {
      "cell_type": "code",
      "metadata": {
        "id": "OHak5E5zWVE2",
        "colab_type": "code",
        "colab": {}
      },
      "source": [
        "df1 = df[df.rating==1][:10000]\n",
        "df5 = df[df.rating==5][:40000]\n",
        "df_15 = pd.concat([df1, df5])\n",
        "df_15['label'] = df_15['rating'].apply(lambda x: 1 if x==1 else 0)"
      ],
      "execution_count": 0,
      "outputs": []
    },
    {
      "cell_type": "code",
      "metadata": {
        "id": "Wi_kS0iaW52t",
        "colab_type": "code",
        "colab": {}
      },
      "source": [
        "X_train, X_test, y_train, y_test = train_test_split(df_15['text_prep'], df_15['label'])"
      ],
      "execution_count": 0,
      "outputs": []
    },
    {
      "cell_type": "code",
      "metadata": {
        "id": "vzqHeUe9YoWI",
        "colab_type": "code",
        "outputId": "84708f5a-b581-4dea-eaf6-5a55b4e41a19",
        "colab": {
          "base_uri": "https://localhost:8080/",
          "height": 408
        }
      },
      "source": [
        "clf = Pipeline([\n",
        "    ('vect', CountVectorizer(analyzer = 'char', ngram_range={4,6})),\n",
        "    ('clf', RandomForestClassifier()),\n",
        "])\n",
        "\n",
        "clf.fit(X_train, y_train)"
      ],
      "execution_count": 0,
      "outputs": [
        {
          "output_type": "execute_result",
          "data": {
            "text/plain": [
              "Pipeline(memory=None,\n",
              "         steps=[('vect',\n",
              "                 CountVectorizer(analyzer='char', binary=False,\n",
              "                                 decode_error='strict',\n",
              "                                 dtype=<class 'numpy.int64'>, encoding='utf-8',\n",
              "                                 input='content', lowercase=True, max_df=1.0,\n",
              "                                 max_features=None, min_df=1,\n",
              "                                 ngram_range={4, 6}, preprocessor=None,\n",
              "                                 stop_words=None, strip_accents=None,\n",
              "                                 token_pattern='(?u)\\\\b\\\\w\\\\w+\\\\b',\n",
              "                                 tokenizer=None, vocabulary=Non...\n",
              "                 RandomForestClassifier(bootstrap=True, ccp_alpha=0.0,\n",
              "                                        class_weight=None, criterion='gini',\n",
              "                                        max_depth=None, max_features='auto',\n",
              "                                        max_leaf_nodes=None, max_samples=None,\n",
              "                                        min_impurity_decrease=0.0,\n",
              "                                        min_impurity_split=None,\n",
              "                                        min_samples_leaf=1, min_samples_split=2,\n",
              "                                        min_weight_fraction_leaf=0.0,\n",
              "                                        n_estimators=100, n_jobs=None,\n",
              "                                        oob_score=False, random_state=None,\n",
              "                                        verbose=0, warm_start=False))],\n",
              "         verbose=False)"
            ]
          },
          "metadata": {
            "tags": []
          },
          "execution_count": 43
        }
      ]
    },
    {
      "cell_type": "code",
      "metadata": {
        "id": "YWec3FJuYtQ-",
        "colab_type": "code",
        "outputId": "66e9c9e8-32f4-4e65-e38d-f47643965bce",
        "colab": {
          "base_uri": "https://localhost:8080/",
          "height": 502
        }
      },
      "source": [
        "predictions = clf.predict(X_test)\n",
        "\n",
        "print(\"Precision: {0:6.2f}\".format(precision_score(y_test, predictions, average='macro')))\n",
        "print(\"Recall: {0:6.2f}\".format(recall_score(y_test, predictions, average='macro')))\n",
        "print(\"F1-measure: {0:6.2f}\".format(f1_score(y_test, predictions, average='macro')))\n",
        "print(\"Accuracy: {0:6.2f}\".format(accuracy_score(y_test, predictions)))\n",
        "print(classification_report(y_test, predictions))\n",
        "\n",
        "labels = clf.classes_\n",
        "sns.heatmap(data=confusion_matrix(y_test, predictions), annot=True, fmt=\"d\", cbar=False, xticklabels=labels, yticklabels=labels)\n",
        "plt.title(\"Confusion matrix\")\n",
        "plt.show()"
      ],
      "execution_count": 0,
      "outputs": [
        {
          "output_type": "stream",
          "text": [
            "Precision:   0.92\n",
            "Recall:   0.91\n",
            "F1-measure:   0.92\n",
            "Accuracy:   0.92\n",
            "              precision    recall  f1-score   support\n",
            "\n",
            "           0       0.91      0.96      0.93      3630\n",
            "           1       0.94      0.87      0.90      2549\n",
            "\n",
            "    accuracy                           0.92      6179\n",
            "   macro avg       0.92      0.91      0.92      6179\n",
            "weighted avg       0.92      0.92      0.92      6179\n",
            "\n"
          ],
          "name": "stdout"
        },
        {
          "output_type": "display_data",
          "data": {
            "image/png": "[encoded data removed]",
            "text/plain": [
              "<Figure size 432x288 with 1 Axes>"
            ]
          },
          "metadata": {
            "tags": [],
            "needs_background": "light"
          }
        }
      ]
    },
    {
      "cell_type": "code",
      "metadata": {
        "id": "a9-66ofedoiy",
        "colab_type": "code",
        "outputId": "01f61256-8d73-47ef-a545-03680cf953e5",
        "colab": {
          "base_uri": "https://localhost:8080/",
          "height": 408
        }
      },
      "source": [
        "clf = Pipeline([\n",
        "    ('vect', CountVectorizer(analyzer = 'char', ngram_range={1,3})),\n",
        "    ('clf', RandomForestClassifier()),\n",
        "])\n",
        "\n",
        "clf.fit(X_train, y_train)"
      ],
      "execution_count": 0,
      "outputs": [
        {
          "output_type": "execute_result",
          "data": {
            "text/plain": [
              "Pipeline(memory=None,\n",
              "         steps=[('vect',\n",
              "                 CountVectorizer(analyzer='char', binary=False,\n",
              "                                 decode_error='strict',\n",
              "                                 dtype=<class 'numpy.int64'>, encoding='utf-8',\n",
              "                                 input='content', lowercase=True, max_df=1.0,\n",
              "                                 max_features=None, min_df=1,\n",
              "                                 ngram_range={1, 3}, preprocessor=None,\n",
              "                                 stop_words=None, strip_accents=None,\n",
              "                                 token_pattern='(?u)\\\\b\\\\w\\\\w+\\\\b',\n",
              "                                 tokenizer=None, vocabulary=Non...\n",
              "                 RandomForestClassifier(bootstrap=True, ccp_alpha=0.0,\n",
              "                                        class_weight=None, criterion='gini',\n",
              "                                        max_depth=None, max_features='auto',\n",
              "                                        max_leaf_nodes=None, max_samples=None,\n",
              "                                        min_impurity_decrease=0.0,\n",
              "                                        min_impurity_split=None,\n",
              "                                        min_samples_leaf=1, min_samples_split=2,\n",
              "                                        min_weight_fraction_leaf=0.0,\n",
              "                                        n_estimators=100, n_jobs=None,\n",
              "                                        oob_score=False, random_state=None,\n",
              "                                        verbose=0, warm_start=False))],\n",
              "         verbose=False)"
            ]
          },
          "metadata": {
            "tags": []
          },
          "execution_count": 61
        }
      ]
    },
    {
      "cell_type": "code",
      "metadata": {
        "id": "wIM1P0avjw56",
        "colab_type": "code",
        "outputId": "3a626aa2-5854-45b2-f3b4-4320a8f5ce86",
        "colab": {
          "base_uri": "https://localhost:8080/",
          "height": 502
        }
      },
      "source": [
        "predictions = clf.predict(X_test)\n",
        "\n",
        "print(\"Precision: {0:6.2f}\".format(precision_score(y_test, predictions, average='macro')))\n",
        "print(\"Recall: {0:6.2f}\".format(recall_score(y_test, predictions, average='macro')))\n",
        "print(\"F1-measure: {0:6.2f}\".format(f1_score(y_test, predictions, average='macro')))\n",
        "print(\"Accuracy: {0:6.2f}\".format(accuracy_score(y_test, predictions)))\n",
        "print(classification_report(y_test, predictions))\n",
        "\n",
        "labels = clf.classes_\n",
        "sns.heatmap(data=confusion_matrix(y_test, predictions), annot=True, fmt=\"d\", cbar=False, xticklabels=labels, yticklabels=labels)\n",
        "plt.title(\"Confusion matrix\")\n",
        "plt.show()"
      ],
      "execution_count": 0,
      "outputs": [
        {
          "output_type": "stream",
          "text": [
            "Precision:   0.91\n",
            "Recall:   0.89\n",
            "F1-measure:   0.90\n",
            "Accuracy:   0.90\n",
            "              precision    recall  f1-score   support\n",
            "\n",
            "           0       0.89      0.95      0.92      3630\n",
            "           1       0.93      0.83      0.88      2549\n",
            "\n",
            "    accuracy                           0.90      6179\n",
            "   macro avg       0.91      0.89      0.90      6179\n",
            "weighted avg       0.90      0.90      0.90      6179\n",
            "\n"
          ],
          "name": "stdout"
        },
        {
          "output_type": "display_data",
          "data": {
            "image/png": "[encoded data removed]",
            "text/plain": [
              "<Figure size 432x288 with 1 Axes>"
            ]
          },
          "metadata": {
            "tags": [],
            "needs_background": "light"
          }
        }
      ]
    },
    {
      "cell_type": "code",
      "metadata": {
        "colab_type": "code",
        "id": "g6YDQiECjz0P",
        "outputId": "89bf7f19-286d-43b4-b7c4-a257b10cf073",
        "colab": {
          "base_uri": "https://localhost:8080/",
          "height": 408
        }
      },
      "source": [
        "clf = Pipeline([ \n",
        "    ('vect', CountVectorizer(analyzer='char', ngram_range=(1,3))), \n",
        "    ('lda', LatentDirichletAllocation()), \n",
        "    ('clf', RandomForestClassifier())\n",
        "])\n",
        "\n",
        "clf.fit(X_train, y_train)"
      ],
      "execution_count": 0,
      "outputs": [
        {
          "output_type": "execute_result",
          "data": {
            "text/plain": [
              "Pipeline(memory=None,\n",
              "         steps=[('vect',\n",
              "                 CountVectorizer(analyzer='char', binary=False,\n",
              "                                 decode_error='strict',\n",
              "                                 dtype=<class 'numpy.int64'>, encoding='utf-8',\n",
              "                                 input='content', lowercase=True, max_df=1.0,\n",
              "                                 max_features=None, min_df=1,\n",
              "                                 ngram_range=(1, 3), preprocessor=None,\n",
              "                                 stop_words=None, strip_accents=None,\n",
              "                                 token_pattern='(?u)\\\\b\\\\w\\\\w+\\\\b',\n",
              "                                 tokenizer=None, vocabulary=Non...\n",
              "                 RandomForestClassifier(bootstrap=True, ccp_alpha=0.0,\n",
              "                                        class_weight=None, criterion='gini',\n",
              "                                        max_depth=None, max_features='auto',\n",
              "                                        max_leaf_nodes=None, max_samples=None,\n",
              "                                        min_impurity_decrease=0.0,\n",
              "                                        min_impurity_split=None,\n",
              "                                        min_samples_leaf=1, min_samples_split=2,\n",
              "                                        min_weight_fraction_leaf=0.0,\n",
              "                                        n_estimators=100, n_jobs=None,\n",
              "                                        oob_score=False, random_state=None,\n",
              "                                        verbose=0, warm_start=False))],\n",
              "         verbose=False)"
            ]
          },
          "metadata": {
            "tags": []
          },
          "execution_count": 63
        }
      ]
    },
    {
      "cell_type": "code",
      "metadata": {
        "colab_type": "code",
        "id": "LGQ3ulQTjz0T",
        "outputId": "8cf86c84-cc2a-4c21-a1d4-0a533a609104",
        "colab": {
          "base_uri": "https://localhost:8080/",
          "height": 502
        }
      },
      "source": [
        "predictions = clf.predict(X_test)\n",
        "\n",
        "print(\"Precision: {0:6.2f}\".format(precision_score(y_test, predictions, average='macro')))\n",
        "print(\"Recall: {0:6.2f}\".format(recall_score(y_test, predictions, average='macro')))\n",
        "print(\"F1-measure: {0:6.2f}\".format(f1_score(y_test, predictions, average='macro')))\n",
        "print(\"Accuracy: {0:6.2f}\".format(accuracy_score(y_test, predictions)))\n",
        "print(classification_report(y_test, predictions))\n",
        "\n",
        "labels = clf.classes_\n",
        "sns.heatmap(data=confusion_matrix(y_test, predictions), annot=True, fmt=\"d\", cbar=False, xticklabels=labels, yticklabels=labels)\n",
        "plt.title(\"Confusion matrix\")\n",
        "plt.show()"
      ],
      "execution_count": 0,
      "outputs": [
        {
          "output_type": "stream",
          "text": [
            "Precision:   0.87\n",
            "Recall:   0.87\n",
            "F1-measure:   0.87\n",
            "Accuracy:   0.88\n",
            "              precision    recall  f1-score   support\n",
            "\n",
            "           0       0.89      0.90      0.89      3630\n",
            "           1       0.86      0.84      0.85      2549\n",
            "\n",
            "    accuracy                           0.88      6179\n",
            "   macro avg       0.87      0.87      0.87      6179\n",
            "weighted avg       0.88      0.88      0.88      6179\n",
            "\n"
          ],
          "name": "stdout"
        },
        {
          "output_type": "display_data",
          "data": {
            "image/png": "[encoded data removed]",
            "text/plain": [
              "<Figure size 432x288 with 1 Axes>"
            ]
          },
          "metadata": {
            "tags": [],
            "needs_background": "light"
          }
        }
      ]
    }
  ]
}