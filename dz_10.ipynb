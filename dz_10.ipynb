{
 "cells": [
  {
   "cell_type": "code",
   "execution_count": 1,
   "metadata": {},
   "outputs": [],
   "source": [
    "import pandas as pd\n",
    "import numpy as np\n",
    "import matplotlib.pyplot as plt\n",
    "%matplotlib inline"
   ]
  },
  {
   "cell_type": "code",
   "execution_count": 2,
   "metadata": {},
   "outputs": [],
   "source": [
    "movies = pd.read_csv('./netology-recsys-master/lecture-1/movies.csv')"
   ]
  },
  {
   "cell_type": "code",
   "execution_count": 3,
   "metadata": {},
   "outputs": [],
   "source": [
    "tags = pd.read_csv('./netology-recsys-master/lecture-1/tags.csv')"
   ]
  },
  {
   "cell_type": "code",
   "execution_count": 4,
   "metadata": {},
   "outputs": [],
   "source": [
    "ratings = pd.read_csv('./netology-recsys-master/lecture-1/ratings.csv')"
   ]
  },
  {
   "cell_type": "code",
   "execution_count": 5,
   "metadata": {},
   "outputs": [],
   "source": [
    "# закинем все тэги в одну строку\n",
    "tags_grpd = tags.groupby('movieId')['tag'].apply(lambda x: ' '.join(x))"
   ]
  },
  {
   "cell_type": "code",
   "execution_count": 6,
   "metadata": {},
   "outputs": [],
   "source": [
    "# выделим уникальные movieId для тэгов\n",
    "tags_unique = pd.DataFrame(tags['movieId'].unique(), columns=['movieId'])"
   ]
  },
  {
   "cell_type": "code",
   "execution_count": 7,
   "metadata": {},
   "outputs": [],
   "source": [
    "tags_grpd_df = pd.merge(tags_unique, tags_grpd, on='movieId')"
   ]
  },
  {
   "cell_type": "code",
   "execution_count": 8,
   "metadata": {},
   "outputs": [
    {
     "data": {
      "text/html": [
       "<div>\n",
       "<style scoped>\n",
       "    .dataframe tbody tr th:only-of-type {\n",
       "        vertical-align: middle;\n",
       "    }\n",
       "\n",
       "    .dataframe tbody tr th {\n",
       "        vertical-align: top;\n",
       "    }\n",
       "\n",
       "    .dataframe thead th {\n",
       "        text-align: right;\n",
       "    }\n",
       "</style>\n",
       "<table border=\"1\" class=\"dataframe\">\n",
       "  <thead>\n",
       "    <tr style=\"text-align: right;\">\n",
       "      <th></th>\n",
       "      <th>userId</th>\n",
       "      <th>movieId</th>\n",
       "      <th>tag</th>\n",
       "      <th>timestamp</th>\n",
       "    </tr>\n",
       "  </thead>\n",
       "  <tbody>\n",
       "    <tr>\n",
       "      <td>0</td>\n",
       "      <td>2</td>\n",
       "      <td>60756</td>\n",
       "      <td>funny</td>\n",
       "      <td>1445714994</td>\n",
       "    </tr>\n",
       "    <tr>\n",
       "      <td>1</td>\n",
       "      <td>2</td>\n",
       "      <td>60756</td>\n",
       "      <td>Highly quotable</td>\n",
       "      <td>1445714996</td>\n",
       "    </tr>\n",
       "    <tr>\n",
       "      <td>2</td>\n",
       "      <td>2</td>\n",
       "      <td>60756</td>\n",
       "      <td>will ferrell</td>\n",
       "      <td>1445714992</td>\n",
       "    </tr>\n",
       "    <tr>\n",
       "      <td>3</td>\n",
       "      <td>2</td>\n",
       "      <td>89774</td>\n",
       "      <td>Boxing story</td>\n",
       "      <td>1445715207</td>\n",
       "    </tr>\n",
       "    <tr>\n",
       "      <td>4</td>\n",
       "      <td>2</td>\n",
       "      <td>89774</td>\n",
       "      <td>MMA</td>\n",
       "      <td>1445715200</td>\n",
       "    </tr>\n",
       "  </tbody>\n",
       "</table>\n",
       "</div>"
      ],
      "text/plain": [
       "   userId  movieId              tag   timestamp\n",
       "0       2    60756            funny  1445714994\n",
       "1       2    60756  Highly quotable  1445714996\n",
       "2       2    60756     will ferrell  1445714992\n",
       "3       2    89774     Boxing story  1445715207\n",
       "4       2    89774              MMA  1445715200"
      ]
     },
     "execution_count": 8,
     "metadata": {},
     "output_type": "execute_result"
    }
   ],
   "source": [
    "tags.head()"
   ]
  },
  {
   "cell_type": "code",
   "execution_count": 8,
   "metadata": {},
   "outputs": [],
   "source": [
    "from sklearn.feature_extraction.text import TfidfTransformer, CountVectorizer"
   ]
  },
  {
   "cell_type": "markdown",
   "metadata": {},
   "source": [
    "### Оформим tf-idf для тэгов"
   ]
  },
  {
   "cell_type": "code",
   "execution_count": 9,
   "metadata": {},
   "outputs": [],
   "source": [
    "cv = CountVectorizer()\n",
    "cv_tag = cv.fit_transform(tags_grpd_df['tag'])"
   ]
  },
  {
   "cell_type": "code",
   "execution_count": 10,
   "metadata": {},
   "outputs": [],
   "source": [
    "tft = TfidfTransformer()\n",
    "tft_tag = tft.fit_transform(cv_tag).todense()"
   ]
  },
  {
   "cell_type": "code",
   "execution_count": 11,
   "metadata": {},
   "outputs": [],
   "source": [
    "cols = [None for _ in range(len(cv.vocabulary_))]\n",
    "for i in cv.vocabulary_:\n",
    "    cols[cv.vocabulary_[i]] = i"
   ]
  },
  {
   "cell_type": "code",
   "execution_count": 12,
   "metadata": {},
   "outputs": [],
   "source": [
    "tf_tag_df = pd.DataFrame(tft_tag, columns=cols)"
   ]
  },
  {
   "cell_type": "code",
   "execution_count": 13,
   "metadata": {},
   "outputs": [],
   "source": [
    "tf_tag_df = pd.concat((tags_unique, tf_tag_df), axis=1)"
   ]
  },
  {
   "cell_type": "code",
   "execution_count": 14,
   "metadata": {},
   "outputs": [],
   "source": [
    "movies['genres_split'] = movies.genres.str.split('|')"
   ]
  },
  {
   "cell_type": "code",
   "execution_count": 15,
   "metadata": {},
   "outputs": [],
   "source": [
    "movies['genres_space'] = movies.apply(lambda r: ' '.join(r['genres_split']), axis=1)"
   ]
  },
  {
   "cell_type": "code",
   "execution_count": 16,
   "metadata": {},
   "outputs": [],
   "source": [
    "cv = CountVectorizer()\n",
    "cv_genre = cv.fit_transform(movies['genres_space'])"
   ]
  },
  {
   "cell_type": "code",
   "execution_count": 17,
   "metadata": {},
   "outputs": [],
   "source": [
    "tft = TfidfTransformer()\n",
    "tft_genre = tft.fit_transform(cv_genre).todense()"
   ]
  },
  {
   "cell_type": "code",
   "execution_count": 38,
   "metadata": {},
   "outputs": [],
   "source": [
    "cols = [None for _ in range(len(cv.vocabulary_))]\n",
    "for i in cv.vocabulary_:\n",
    "    cols[cv.vocabulary_[i]] = i"
   ]
  },
  {
   "cell_type": "markdown",
   "metadata": {},
   "source": [
    "### Очередь tf-idf для жанров"
   ]
  },
  {
   "cell_type": "code",
   "execution_count": 39,
   "metadata": {},
   "outputs": [],
   "source": [
    "genre_unique = pd.DataFrame(movies['movieId'].unique(), columns=['movieId'])"
   ]
  },
  {
   "cell_type": "code",
   "execution_count": 40,
   "metadata": {},
   "outputs": [],
   "source": [
    "tf_genre_df = pd.DataFrame(tft_genre, columns=cols)\n",
    "tf_genre_df = pd.concat((genre_unique, tf_genre_df), axis=1)"
   ]
  },
  {
   "cell_type": "code",
   "execution_count": 41,
   "metadata": {},
   "outputs": [],
   "source": [
    "tfs = tf_genre_df.join(tf_tag_df, on = ['movieId'], lsuffix = '_genre', rsuffix = '_tag')"
   ]
  },
  {
   "cell_type": "code",
   "execution_count": 42,
   "metadata": {},
   "outputs": [],
   "source": [
    "rates_cnt = ratings.groupby('movieId')[['userId']].count()"
   ]
  },
  {
   "cell_type": "code",
   "execution_count": 23,
   "metadata": {},
   "outputs": [],
   "source": [
    "rates_mean = ratings.groupby('movieId')[['rating']].mean()"
   ]
  },
  {
   "cell_type": "code",
   "execution_count": 24,
   "metadata": {},
   "outputs": [],
   "source": [
    "rates_mrg = pd.merge(rates_cnt, rates_mean, on = 'movieId')"
   ]
  },
  {
   "cell_type": "code",
   "execution_count": 25,
   "metadata": {},
   "outputs": [],
   "source": [
    "rate_users = len(ratings['userId'].unique())\n",
    "rates_mrg['rateing_weighted'] = rates_mrg['userId']*rates_mrg['rating']/rate_users"
   ]
  },
  {
   "cell_type": "code",
   "execution_count": 26,
   "metadata": {},
   "outputs": [],
   "source": [
    "rates_mrg.columns = ['users', 'rating', 'rating_weighted']"
   ]
  },
  {
   "cell_type": "code",
   "execution_count": 27,
   "metadata": {},
   "outputs": [],
   "source": [
    "# схлопываем все в одну таблицу\n",
    "df_fin = pd.merge(rates_mrg, tfs, left_on = 'movieId', right_on = 'movieId_genre')"
   ]
  },
  {
   "cell_type": "code",
   "execution_count": 28,
   "metadata": {},
   "outputs": [],
   "source": [
    "df_fin = df_fin.fillna(df_fin.mean())"
   ]
  },
  {
   "cell_type": "markdown",
   "metadata": {},
   "source": [
    "### Строим саму модель"
   ]
  },
  {
   "cell_type": "code",
   "execution_count": 29,
   "metadata": {},
   "outputs": [],
   "source": [
    "# подготовим список переменных для регрессии\n",
    "cols_reg = list(df_fin.columns)\n",
    "cols_reg.remove('users')\n",
    "cols_reg.remove('movieId_genre')\n",
    "cols_reg.remove('movieId_tag')\n",
    "cols_reg.remove('rating')"
   ]
  },
  {
   "cell_type": "code",
   "execution_count": 30,
   "metadata": {},
   "outputs": [],
   "source": [
    "X, y = df_fin[cols_reg], df_fin['rating']"
   ]
  },
  {
   "cell_type": "code",
   "execution_count": 31,
   "metadata": {},
   "outputs": [],
   "source": [
    "from sklearn.ensemble import RandomForestRegressor\n",
    "from sklearn.model_selection import train_test_split\n",
    "from sklearn.metrics import mean_absolute_error, mean_squared_error"
   ]
  },
  {
   "cell_type": "code",
   "execution_count": 32,
   "metadata": {},
   "outputs": [],
   "source": [
    "X_train, X_test, y_train, y_test = train_test_split(X, y, test_size = .2)"
   ]
  },
  {
   "cell_type": "code",
   "execution_count": 33,
   "metadata": {},
   "outputs": [
    {
     "name": "stderr",
     "output_type": "stream",
     "text": [
      "/home/siak/.local/lib/python3.7/site-packages/sklearn/ensemble/forest.py:245: FutureWarning: The default value of n_estimators will change from 10 in version 0.20 to 100 in 0.22.\n",
      "  \"10 in version 0.20 to 100 in 0.22.\", FutureWarning)\n"
     ]
    },
    {
     "data": {
      "text/plain": [
       "RandomForestRegressor(bootstrap=True, criterion='mse', max_depth=None,\n",
       "                      max_features='auto', max_leaf_nodes=None,\n",
       "                      min_impurity_decrease=0.0, min_impurity_split=None,\n",
       "                      min_samples_leaf=1, min_samples_split=2,\n",
       "                      min_weight_fraction_leaf=0.0, n_estimators=10,\n",
       "                      n_jobs=None, oob_score=False, random_state=None,\n",
       "                      verbose=0, warm_start=False)"
      ]
     },
     "execution_count": 33,
     "metadata": {},
     "output_type": "execute_result"
    }
   ],
   "source": [
    "# строим случайный лес\n",
    "\n",
    "model = RandomForestRegressor()\n",
    "model.fit(X_train, y_train)"
   ]
  },
  {
   "cell_type": "code",
   "execution_count": 34,
   "metadata": {},
   "outputs": [
    {
     "name": "stdout",
     "output_type": "stream",
     "text": [
      "R^2_train = 0.8075972675922378\n",
      "R^2_test = 0.5325848256097261\n",
      "MAE_train = 0.20996729409425072\n",
      "MAE_test = 0.37674112077681904\n",
      "MSE_train = 0.14611597750403124\n",
      "MSE_test = 0.3482934418330896\n"
     ]
    }
   ],
   "source": [
    "# смотрим на результат\n",
    "\n",
    "print('R^2_train =', model.score(X_train, y_train))\n",
    "print('R^2_test =', model.score(X_test, y_test))\n",
    "print('MAE_train =', mean_absolute_error(model.predict(X_train), y_train))\n",
    "print('MAE_test =', mean_absolute_error(model.predict(X_test), y_test))\n",
    "print('MSE_train =', mean_squared_error(model.predict(X_train), y_train))\n",
    "print('MSE_test =', mean_squared_error(model.predict(X_test), y_test))"
   ]
  },
  {
   "cell_type": "code",
   "execution_count": 36,
   "metadata": {},
   "outputs": [
    {
     "data": {
      "text/plain": [
       "array([1.5       , 3.25388391, 1.        , ..., 3.65916667, 3.05740741,\n",
       "       2.49375   ])"
      ]
     },
     "execution_count": 36,
     "metadata": {},
     "output_type": "execute_result"
    }
   ],
   "source": [
    "model.predict(X_test)"
   ]
  },
  {
   "cell_type": "code",
   "execution_count": 37,
   "metadata": {},
   "outputs": [
    {
     "data": {
      "text/html": [
       "<div>\n",
       "<style scoped>\n",
       "    .dataframe tbody tr th:only-of-type {\n",
       "        vertical-align: middle;\n",
       "    }\n",
       "\n",
       "    .dataframe tbody tr th {\n",
       "        vertical-align: top;\n",
       "    }\n",
       "\n",
       "    .dataframe thead th {\n",
       "        text-align: right;\n",
       "    }\n",
       "</style>\n",
       "<table border=\"1\" class=\"dataframe\">\n",
       "  <thead>\n",
       "    <tr style=\"text-align: right;\">\n",
       "      <th></th>\n",
       "      <th>rating_weighted</th>\n",
       "      <th>action_genre</th>\n",
       "      <th>adventure_genre</th>\n",
       "      <th>animation_genre</th>\n",
       "      <th>children_genre</th>\n",
       "      <th>comedy_genre</th>\n",
       "      <th>crime_genre</th>\n",
       "      <th>documentary_genre</th>\n",
       "      <th>drama_genre</th>\n",
       "      <th>fantasy_genre</th>\n",
       "      <th>...</th>\n",
       "      <th>york</th>\n",
       "      <th>you</th>\n",
       "      <th>younger</th>\n",
       "      <th>your</th>\n",
       "      <th>zellweger</th>\n",
       "      <th>zither</th>\n",
       "      <th>zoe</th>\n",
       "      <th>zombie</th>\n",
       "      <th>zombies</th>\n",
       "      <th>zooey</th>\n",
       "    </tr>\n",
       "  </thead>\n",
       "  <tbody>\n",
       "    <tr>\n",
       "      <td>8595</td>\n",
       "      <td>0.004918</td>\n",
       "      <td>0.000000</td>\n",
       "      <td>0.0</td>\n",
       "      <td>0.0</td>\n",
       "      <td>0.0</td>\n",
       "      <td>0.000000</td>\n",
       "      <td>0.527067</td>\n",
       "      <td>0.0</td>\n",
       "      <td>0.307226</td>\n",
       "      <td>0.000000</td>\n",
       "      <td>...</td>\n",
       "      <td>0.003937</td>\n",
       "      <td>0.0</td>\n",
       "      <td>0.0</td>\n",
       "      <td>0.000629</td>\n",
       "      <td>0.000383</td>\n",
       "      <td>0.000424</td>\n",
       "      <td>0.00043</td>\n",
       "      <td>0.0012</td>\n",
       "      <td>0.003393</td>\n",
       "      <td>0.000331</td>\n",
       "    </tr>\n",
       "    <tr>\n",
       "      <td>9492</td>\n",
       "      <td>0.006557</td>\n",
       "      <td>0.000000</td>\n",
       "      <td>0.0</td>\n",
       "      <td>0.0</td>\n",
       "      <td>0.0</td>\n",
       "      <td>0.478734</td>\n",
       "      <td>0.758507</td>\n",
       "      <td>0.0</td>\n",
       "      <td>0.442132</td>\n",
       "      <td>0.000000</td>\n",
       "      <td>...</td>\n",
       "      <td>0.003937</td>\n",
       "      <td>0.0</td>\n",
       "      <td>0.0</td>\n",
       "      <td>0.000629</td>\n",
       "      <td>0.000383</td>\n",
       "      <td>0.000424</td>\n",
       "      <td>0.00043</td>\n",
       "      <td>0.0012</td>\n",
       "      <td>0.003393</td>\n",
       "      <td>0.000331</td>\n",
       "    </tr>\n",
       "    <tr>\n",
       "      <td>4826</td>\n",
       "      <td>0.006557</td>\n",
       "      <td>0.000000</td>\n",
       "      <td>0.0</td>\n",
       "      <td>0.0</td>\n",
       "      <td>0.0</td>\n",
       "      <td>0.000000</td>\n",
       "      <td>0.321186</td>\n",
       "      <td>0.0</td>\n",
       "      <td>0.187219</td>\n",
       "      <td>0.000000</td>\n",
       "      <td>...</td>\n",
       "      <td>0.003937</td>\n",
       "      <td>0.0</td>\n",
       "      <td>0.0</td>\n",
       "      <td>0.000629</td>\n",
       "      <td>0.000383</td>\n",
       "      <td>0.000424</td>\n",
       "      <td>0.00043</td>\n",
       "      <td>0.0012</td>\n",
       "      <td>0.003393</td>\n",
       "      <td>0.000331</td>\n",
       "    </tr>\n",
       "    <tr>\n",
       "      <td>2712</td>\n",
       "      <td>0.011475</td>\n",
       "      <td>0.502044</td>\n",
       "      <td>0.0</td>\n",
       "      <td>0.0</td>\n",
       "      <td>0.0</td>\n",
       "      <td>0.000000</td>\n",
       "      <td>0.000000</td>\n",
       "      <td>0.0</td>\n",
       "      <td>0.338784</td>\n",
       "      <td>0.000000</td>\n",
       "      <td>...</td>\n",
       "      <td>0.003937</td>\n",
       "      <td>0.0</td>\n",
       "      <td>0.0</td>\n",
       "      <td>0.000629</td>\n",
       "      <td>0.000383</td>\n",
       "      <td>0.000424</td>\n",
       "      <td>0.00043</td>\n",
       "      <td>0.0012</td>\n",
       "      <td>0.003393</td>\n",
       "      <td>0.000331</td>\n",
       "    </tr>\n",
       "    <tr>\n",
       "      <td>4914</td>\n",
       "      <td>0.038525</td>\n",
       "      <td>0.000000</td>\n",
       "      <td>0.0</td>\n",
       "      <td>0.0</td>\n",
       "      <td>0.0</td>\n",
       "      <td>0.397590</td>\n",
       "      <td>0.000000</td>\n",
       "      <td>0.0</td>\n",
       "      <td>0.000000</td>\n",
       "      <td>0.717646</td>\n",
       "      <td>...</td>\n",
       "      <td>0.003937</td>\n",
       "      <td>0.0</td>\n",
       "      <td>0.0</td>\n",
       "      <td>0.000629</td>\n",
       "      <td>0.000383</td>\n",
       "      <td>0.000424</td>\n",
       "      <td>0.00043</td>\n",
       "      <td>0.0012</td>\n",
       "      <td>0.003393</td>\n",
       "      <td>0.000331</td>\n",
       "    </tr>\n",
       "    <tr>\n",
       "      <td>...</td>\n",
       "      <td>...</td>\n",
       "      <td>...</td>\n",
       "      <td>...</td>\n",
       "      <td>...</td>\n",
       "      <td>...</td>\n",
       "      <td>...</td>\n",
       "      <td>...</td>\n",
       "      <td>...</td>\n",
       "      <td>...</td>\n",
       "      <td>...</td>\n",
       "      <td>...</td>\n",
       "      <td>...</td>\n",
       "      <td>...</td>\n",
       "      <td>...</td>\n",
       "      <td>...</td>\n",
       "      <td>...</td>\n",
       "      <td>...</td>\n",
       "      <td>...</td>\n",
       "      <td>...</td>\n",
       "      <td>...</td>\n",
       "      <td>...</td>\n",
       "    </tr>\n",
       "    <tr>\n",
       "      <td>1856</td>\n",
       "      <td>0.036885</td>\n",
       "      <td>0.000000</td>\n",
       "      <td>0.0</td>\n",
       "      <td>0.0</td>\n",
       "      <td>0.0</td>\n",
       "      <td>0.734632</td>\n",
       "      <td>0.000000</td>\n",
       "      <td>0.0</td>\n",
       "      <td>0.678466</td>\n",
       "      <td>0.000000</td>\n",
       "      <td>...</td>\n",
       "      <td>0.003937</td>\n",
       "      <td>0.0</td>\n",
       "      <td>0.0</td>\n",
       "      <td>0.000629</td>\n",
       "      <td>0.000383</td>\n",
       "      <td>0.000424</td>\n",
       "      <td>0.00043</td>\n",
       "      <td>0.0012</td>\n",
       "      <td>0.003393</td>\n",
       "      <td>0.000331</td>\n",
       "    </tr>\n",
       "    <tr>\n",
       "      <td>189</td>\n",
       "      <td>0.098361</td>\n",
       "      <td>0.000000</td>\n",
       "      <td>0.0</td>\n",
       "      <td>0.0</td>\n",
       "      <td>0.0</td>\n",
       "      <td>0.000000</td>\n",
       "      <td>0.000000</td>\n",
       "      <td>0.0</td>\n",
       "      <td>0.540377</td>\n",
       "      <td>0.000000</td>\n",
       "      <td>...</td>\n",
       "      <td>0.000000</td>\n",
       "      <td>0.0</td>\n",
       "      <td>0.0</td>\n",
       "      <td>0.000000</td>\n",
       "      <td>0.000000</td>\n",
       "      <td>0.000000</td>\n",
       "      <td>0.00000</td>\n",
       "      <td>0.0000</td>\n",
       "      <td>0.000000</td>\n",
       "      <td>0.000000</td>\n",
       "    </tr>\n",
       "    <tr>\n",
       "      <td>8606</td>\n",
       "      <td>0.006557</td>\n",
       "      <td>0.000000</td>\n",
       "      <td>0.0</td>\n",
       "      <td>0.0</td>\n",
       "      <td>0.0</td>\n",
       "      <td>0.734632</td>\n",
       "      <td>0.000000</td>\n",
       "      <td>0.0</td>\n",
       "      <td>0.678466</td>\n",
       "      <td>0.000000</td>\n",
       "      <td>...</td>\n",
       "      <td>0.003937</td>\n",
       "      <td>0.0</td>\n",
       "      <td>0.0</td>\n",
       "      <td>0.000629</td>\n",
       "      <td>0.000383</td>\n",
       "      <td>0.000424</td>\n",
       "      <td>0.00043</td>\n",
       "      <td>0.0012</td>\n",
       "      <td>0.003393</td>\n",
       "      <td>0.000331</td>\n",
       "    </tr>\n",
       "    <tr>\n",
       "      <td>4313</td>\n",
       "      <td>0.004098</td>\n",
       "      <td>0.000000</td>\n",
       "      <td>0.0</td>\n",
       "      <td>0.0</td>\n",
       "      <td>0.0</td>\n",
       "      <td>0.734632</td>\n",
       "      <td>0.000000</td>\n",
       "      <td>0.0</td>\n",
       "      <td>0.678466</td>\n",
       "      <td>0.000000</td>\n",
       "      <td>...</td>\n",
       "      <td>0.003937</td>\n",
       "      <td>0.0</td>\n",
       "      <td>0.0</td>\n",
       "      <td>0.000629</td>\n",
       "      <td>0.000383</td>\n",
       "      <td>0.000424</td>\n",
       "      <td>0.00043</td>\n",
       "      <td>0.0012</td>\n",
       "      <td>0.003393</td>\n",
       "      <td>0.000331</td>\n",
       "    </tr>\n",
       "    <tr>\n",
       "      <td>5841</td>\n",
       "      <td>0.006557</td>\n",
       "      <td>0.000000</td>\n",
       "      <td>0.0</td>\n",
       "      <td>0.0</td>\n",
       "      <td>0.0</td>\n",
       "      <td>0.000000</td>\n",
       "      <td>0.000000</td>\n",
       "      <td>0.0</td>\n",
       "      <td>0.391730</td>\n",
       "      <td>0.000000</td>\n",
       "      <td>...</td>\n",
       "      <td>0.003937</td>\n",
       "      <td>0.0</td>\n",
       "      <td>0.0</td>\n",
       "      <td>0.000629</td>\n",
       "      <td>0.000383</td>\n",
       "      <td>0.000424</td>\n",
       "      <td>0.00043</td>\n",
       "      <td>0.0012</td>\n",
       "      <td>0.003393</td>\n",
       "      <td>0.000331</td>\n",
       "    </tr>\n",
       "  </tbody>\n",
       "</table>\n",
       "<p>7779 rows × 1769 columns</p>\n",
       "</div>"
      ],
      "text/plain": [
       "      rating_weighted  action_genre  adventure_genre  animation_genre  \\\n",
       "8595         0.004918      0.000000              0.0              0.0   \n",
       "9492         0.006557      0.000000              0.0              0.0   \n",
       "4826         0.006557      0.000000              0.0              0.0   \n",
       "2712         0.011475      0.502044              0.0              0.0   \n",
       "4914         0.038525      0.000000              0.0              0.0   \n",
       "...               ...           ...              ...              ...   \n",
       "1856         0.036885      0.000000              0.0              0.0   \n",
       "189          0.098361      0.000000              0.0              0.0   \n",
       "8606         0.006557      0.000000              0.0              0.0   \n",
       "4313         0.004098      0.000000              0.0              0.0   \n",
       "5841         0.006557      0.000000              0.0              0.0   \n",
       "\n",
       "      children_genre  comedy_genre  crime_genre  documentary_genre  \\\n",
       "8595             0.0      0.000000     0.527067                0.0   \n",
       "9492             0.0      0.478734     0.758507                0.0   \n",
       "4826             0.0      0.000000     0.321186                0.0   \n",
       "2712             0.0      0.000000     0.000000                0.0   \n",
       "4914             0.0      0.397590     0.000000                0.0   \n",
       "...              ...           ...          ...                ...   \n",
       "1856             0.0      0.734632     0.000000                0.0   \n",
       "189              0.0      0.000000     0.000000                0.0   \n",
       "8606             0.0      0.734632     0.000000                0.0   \n",
       "4313             0.0      0.734632     0.000000                0.0   \n",
       "5841             0.0      0.000000     0.000000                0.0   \n",
       "\n",
       "      drama_genre  fantasy_genre  ...      york  you  younger      your  \\\n",
       "8595     0.307226       0.000000  ...  0.003937  0.0      0.0  0.000629   \n",
       "9492     0.442132       0.000000  ...  0.003937  0.0      0.0  0.000629   \n",
       "4826     0.187219       0.000000  ...  0.003937  0.0      0.0  0.000629   \n",
       "2712     0.338784       0.000000  ...  0.003937  0.0      0.0  0.000629   \n",
       "4914     0.000000       0.717646  ...  0.003937  0.0      0.0  0.000629   \n",
       "...           ...            ...  ...       ...  ...      ...       ...   \n",
       "1856     0.678466       0.000000  ...  0.003937  0.0      0.0  0.000629   \n",
       "189      0.540377       0.000000  ...  0.000000  0.0      0.0  0.000000   \n",
       "8606     0.678466       0.000000  ...  0.003937  0.0      0.0  0.000629   \n",
       "4313     0.678466       0.000000  ...  0.003937  0.0      0.0  0.000629   \n",
       "5841     0.391730       0.000000  ...  0.003937  0.0      0.0  0.000629   \n",
       "\n",
       "      zellweger    zither      zoe  zombie   zombies     zooey  \n",
       "8595   0.000383  0.000424  0.00043  0.0012  0.003393  0.000331  \n",
       "9492   0.000383  0.000424  0.00043  0.0012  0.003393  0.000331  \n",
       "4826   0.000383  0.000424  0.00043  0.0012  0.003393  0.000331  \n",
       "2712   0.000383  0.000424  0.00043  0.0012  0.003393  0.000331  \n",
       "4914   0.000383  0.000424  0.00043  0.0012  0.003393  0.000331  \n",
       "...         ...       ...      ...     ...       ...       ...  \n",
       "1856   0.000383  0.000424  0.00043  0.0012  0.003393  0.000331  \n",
       "189    0.000000  0.000000  0.00000  0.0000  0.000000  0.000000  \n",
       "8606   0.000383  0.000424  0.00043  0.0012  0.003393  0.000331  \n",
       "4313   0.000383  0.000424  0.00043  0.0012  0.003393  0.000331  \n",
       "5841   0.000383  0.000424  0.00043  0.0012  0.003393  0.000331  \n",
       "\n",
       "[7779 rows x 1769 columns]"
      ]
     },
     "execution_count": 37,
     "metadata": {},
     "output_type": "execute_result"
    }
   ],
   "source": [
    "X_train"
   ]
  },
  {
   "cell_type": "code",
   "execution_count": null,
   "metadata": {},
   "outputs": [],
   "source": []
  }
 ],
 "metadata": {
  "kernelspec": {
   "display_name": "Python 3",
   "language": "python",
   "name": "python3"
  },
  "language_info": {
   "codemirror_mode": {
    "name": "ipython",
    "version": 3
   },
   "file_extension": ".py",
   "mimetype": "text/x-python",
   "name": "python",
   "nbconvert_exporter": "python",
   "pygments_lexer": "ipython3",
   "version": "3.7.3"
  }
 },
 "nbformat": 4,
 "nbformat_minor": 2
}
