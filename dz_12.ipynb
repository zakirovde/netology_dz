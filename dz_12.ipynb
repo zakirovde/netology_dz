{
 "cells": [
  {
   "cell_type": "code",
   "execution_count": 217,
   "metadata": {},
   "outputs": [],
   "source": [
    "import pandas as pd\n",
    "import numpy as np\n",
    "from tqdm import tqdm_notebook\n",
    "import scipy.sparse as sparse\n",
    "from implicit.als import AlternatingLeastSquares"
   ]
  },
  {
   "cell_type": "code",
   "execution_count": 218,
   "metadata": {},
   "outputs": [],
   "source": [
    "utb = pd.read_csv('./hetrec2011-delicious-2k/user_taggedbookmarks.dat', sep='\\t')\n",
    "bookmarks = pd.read_csv('./hetrec2011-delicious-2k/bookmarks.dat', sep='\\t', encoding='iso-8859-15')"
   ]
  },
  {
   "cell_type": "code",
   "execution_count": 219,
   "metadata": {},
   "outputs": [
    {
     "data": {
      "text/html": [
       "<div>\n",
       "<style scoped>\n",
       "    .dataframe tbody tr th:only-of-type {\n",
       "        vertical-align: middle;\n",
       "    }\n",
       "\n",
       "    .dataframe tbody tr th {\n",
       "        vertical-align: top;\n",
       "    }\n",
       "\n",
       "    .dataframe thead th {\n",
       "        text-align: right;\n",
       "    }\n",
       "</style>\n",
       "<table border=\"1\" class=\"dataframe\">\n",
       "  <thead>\n",
       "    <tr style=\"text-align: right;\">\n",
       "      <th></th>\n",
       "      <th>userID</th>\n",
       "      <th>bookmarkID</th>\n",
       "      <th>tagID</th>\n",
       "    </tr>\n",
       "  </thead>\n",
       "  <tbody>\n",
       "    <tr>\n",
       "      <td>0</td>\n",
       "      <td>8</td>\n",
       "      <td>1</td>\n",
       "      <td>1</td>\n",
       "    </tr>\n",
       "    <tr>\n",
       "      <td>1</td>\n",
       "      <td>8</td>\n",
       "      <td>2</td>\n",
       "      <td>1</td>\n",
       "    </tr>\n",
       "    <tr>\n",
       "      <td>2</td>\n",
       "      <td>8</td>\n",
       "      <td>7</td>\n",
       "      <td>1</td>\n",
       "    </tr>\n",
       "    <tr>\n",
       "      <td>3</td>\n",
       "      <td>8</td>\n",
       "      <td>7</td>\n",
       "      <td>6</td>\n",
       "    </tr>\n",
       "    <tr>\n",
       "      <td>4</td>\n",
       "      <td>8</td>\n",
       "      <td>7</td>\n",
       "      <td>7</td>\n",
       "    </tr>\n",
       "  </tbody>\n",
       "</table>\n",
       "</div>"
      ],
      "text/plain": [
       "   userID  bookmarkID  tagID\n",
       "0       8           1      1\n",
       "1       8           2      1\n",
       "2       8           7      1\n",
       "3       8           7      6\n",
       "4       8           7      7"
      ]
     },
     "execution_count": 219,
     "metadata": {},
     "output_type": "execute_result"
    }
   ],
   "source": [
    "utb = utb[['userID', 'bookmarkID', 'tagID']]\n",
    "utb.head()"
   ]
  },
  {
   "cell_type": "markdown",
   "metadata": {},
   "source": [
    "### Составим словарь соответствия названия закладки и ее идентификатора"
   ]
  },
  {
   "cell_type": "code",
   "execution_count": 220,
   "metadata": {},
   "outputs": [
    {
     "data": {
      "application/vnd.jupyter.widget-view+json": {
       "model_id": "6adb497cae15469dad3e4e03a74c8f56",
       "version_major": 2,
       "version_minor": 0
      },
      "text/plain": [
       "HBox(children=(IntProgress(value=1, bar_style='info', max=1), HTML(value='')))"
      ]
     },
     "metadata": {},
     "output_type": "display_data"
    },
    {
     "name": "stdout",
     "output_type": "stream",
     "text": [
      "\n"
     ]
    }
   ],
   "source": [
    "bookmarks = bookmarks[['id', 'urlPrincipal']]\n",
    "bookmarks.columns = ['bookmarkID', 'bookmark']\n",
    "\n",
    "bookmark_id_name = {}\n",
    "for index, row in tqdm_notebook(bookmarks.iterrows()):\n",
    "    bookmark_id_name[row.bookmarkID] = row.bookmark"
   ]
  },
  {
   "cell_type": "markdown",
   "metadata": {},
   "source": [
    "### Сгруппируем кол-во проставленных тегов пользователями каждой закладке"
   ]
  },
  {
   "cell_type": "code",
   "execution_count": 221,
   "metadata": {},
   "outputs": [],
   "source": [
    "utb_grouped = utb.groupby(['userID', 'bookmarkID'])['tagID'].count().reset_index(name='tags')"
   ]
  },
  {
   "cell_type": "markdown",
   "metadata": {},
   "source": [
    "### Назначим новые идентификаторы пользователей и закладок"
   ]
  },
  {
   "cell_type": "code",
   "execution_count": 222,
   "metadata": {},
   "outputs": [],
   "source": [
    "utb_grouped['user_id'] = utb_grouped['userID'].astype(\"category\").cat.codes\n",
    "utb_grouped['bookmark_id'] = utb_grouped['bookmarkID'].astype(\"category\").cat.codes"
   ]
  },
  {
   "cell_type": "code",
   "execution_count": 223,
   "metadata": {},
   "outputs": [],
   "source": [
    "bookm_new_old = utb_grouped[['bookmarkID', 'bookmark_id']]"
   ]
  },
  {
   "cell_type": "code",
   "execution_count": 224,
   "metadata": {},
   "outputs": [],
   "source": [
    "users_new_old = utb_grouped[['userID', 'user_id']]"
   ]
  },
  {
   "cell_type": "code",
   "execution_count": 225,
   "metadata": {},
   "outputs": [],
   "source": [
    "utb_grouped = utb_grouped.drop(['userID', 'bookmarkID'], axis=1)"
   ]
  },
  {
   "cell_type": "code",
   "execution_count": 226,
   "metadata": {},
   "outputs": [],
   "source": [
    "usr = utb_grouped['user_id'].unique().tolist()\n",
    "bkm = utb_grouped['bookmark_id'].unique().tolist()\n",
    "values = utb_grouped['tags'].tolist()\n",
    "rows = utb_grouped['user_id'].tolist()\n",
    "columns = utb_grouped['bookmark_id'].tolist()"
   ]
  },
  {
   "cell_type": "markdown",
   "metadata": {},
   "source": [
    "### Формируем матрицу"
   ]
  },
  {
   "cell_type": "code",
   "execution_count": 227,
   "metadata": {},
   "outputs": [],
   "source": [
    "user_data = sparse.csr_matrix((values, (rows, columns)), shape = (len(usr), len(bkm)))"
   ]
  },
  {
   "cell_type": "markdown",
   "metadata": {},
   "source": [
    "### Строим рекоммендательную систему"
   ]
  },
  {
   "cell_type": "code",
   "execution_count": 228,
   "metadata": {},
   "outputs": [],
   "source": [
    "als = AlternatingLeastSquares(factors=50)"
   ]
  },
  {
   "cell_type": "code",
   "execution_count": 229,
   "metadata": {},
   "outputs": [
    {
     "data": {
      "application/vnd.jupyter.widget-view+json": {
       "model_id": "b4d817cc46bb4718be919fefebca7724",
       "version_major": 2,
       "version_minor": 0
      },
      "text/plain": [
       "HBox(children=(IntProgress(value=0, max=15), HTML(value='')))"
      ]
     },
     "metadata": {},
     "output_type": "display_data"
    },
    {
     "name": "stdout",
     "output_type": "stream",
     "text": [
      "\n"
     ]
    }
   ],
   "source": [
    "als.fit(user_data)"
   ]
  },
  {
   "cell_type": "markdown",
   "metadata": {},
   "source": [
    "### Тестируем"
   ]
  },
  {
   "cell_type": "code",
   "execution_count": 230,
   "metadata": {},
   "outputs": [],
   "source": [
    "userid = 0\n",
    "\n",
    "user_items = user_data.T.tocsr()\n",
    "recommendations = als.recommend(userid, user_items)"
   ]
  },
  {
   "cell_type": "code",
   "execution_count": 231,
   "metadata": {},
   "outputs": [
    {
     "data": {
      "text/plain": [
       "[(342, 0.062230244),\n",
       " (1455, 0.042787075),\n",
       " (820, 0.040206846),\n",
       " (240, 0.038243446),\n",
       " (1405, 0.03194939),\n",
       " (1061, 0.030695967),\n",
       " (1843, 0.030123824),\n",
       " (1838, 0.02787574),\n",
       " (341, 0.026094625),\n",
       " (1770, 0.025996001)]"
      ]
     },
     "execution_count": 231,
     "metadata": {},
     "output_type": "execute_result"
    }
   ],
   "source": [
    "recommendations"
   ]
  },
  {
   "cell_type": "markdown",
   "metadata": {},
   "source": [
    "### Выведем рекоммендации"
   ]
  },
  {
   "cell_type": "code",
   "execution_count": 232,
   "metadata": {},
   "outputs": [
    {
     "name": "stdout",
     "output_type": "stream",
     "text": [
      "www.scientificamerican.com\n",
      "joseluisavilaherrera.blogspot.com\n",
      "www.paulgraham.com\n",
      "patterns.littlespringsdesign.com\n",
      "nvie.com\n",
      "networkcultures.org\n",
      "en.wikipedia.org\n",
      "www.artelino.com\n",
      "www.adamsmithesq.com\n",
      "www.w3.org\n"
     ]
    }
   ],
   "source": [
    "for r in recommendations:\n",
    "    bm = bookm_new_old[bookm_new_old['bookmark_id']==r[0]]['bookmarkID'].unique()[0]\n",
    "    print(bookmark_id_name[bm])"
   ]
  },
  {
   "cell_type": "markdown",
   "metadata": {},
   "source": [
    "### Сравним с тем, что пользователь сохранил сам"
   ]
  },
  {
   "cell_type": "code",
   "execution_count": 233,
   "metadata": {},
   "outputs": [
    {
     "name": "stdout",
     "output_type": "stream",
     "text": [
      "www.canlitforkids.com\n",
      "media.commonsensemedia.org\n",
      "www.lappscoachshop.com\n",
      "www.focus.com\n",
      "download.cnet.com\n",
      "blog.tagliaerbe.com\n",
      "www.43places.com\n",
      "www.amazon.co.uk\n",
      "www.fonyou.com\n",
      "www.reddit.com\n",
      "speedanatomy.blogspot.com\n",
      "startingstrength.wikia.com\n",
      "activitatsbcn.com\n",
      "www.bmibaby.com\n",
      "www.youtube.com\n",
      "yclist.com\n",
      "unfuddle.com\n",
      "tbaggery.com\n",
      "jeffkreeftmeijer.com\n",
      "www.adwhirl.com\n",
      "www.padpressed.com\n",
      "mashable.com\n",
      "www.appmakr.com\n",
      "www.philcoffman.com\n",
      "milkandeggsco.com\n",
      "www.apphalloffame.com\n",
      "dannpetty.com\n",
      "silentuproar.com\n",
      "www.projectthirtythree.com\n",
      "bjango.com\n",
      "verticalrhythm.org\n",
      "adamgrano.com\n",
      "lequick.net\n",
      "mauiguidebook.com\n",
      "www.effektivedesign.co.uk\n",
      "www.larsahrens.com\n",
      "www.goodfuckingdesignadvice.com\n",
      "www.kellerhouse.com\n",
      "inspiredology.com\n",
      "gettingreal.37signals.com\n",
      "vimeo.com\n",
      "www.diesel.com\n",
      "www.struckaxiom.com\n",
      "www.thegroop.net\n",
      "narrowdesign.com\n",
      "eatocracy.cnn.com\n",
      "www.google.com\n",
      "www.geekanthem.com\n",
      "albumtacos.tumblr.com\n",
      "igniteshow.com\n",
      "www.zurb.com\n",
      "www.jordanbutcher.com\n",
      "getcloudapp.com\n",
      "diythemes.com\n",
      "pick.im\n",
      "mixergy.com\n",
      "vimeo.com\n",
      "www.starwarsuncut.com\n",
      "animatedalbums.tumblr.com\n",
      "www.starnine.com\n",
      "www.everynone.com\n",
      "devour.com\n",
      "www.mobclix.com\n",
      "moebio.com\n",
      "www.yvettesbridalformal.com\n",
      "www.iworkedon.com\n",
      "www.plaid-creative.com\n",
      "www.theperfectfive.com\n",
      "attack.wknyc.com\n",
      "zenhabits.net\n",
      "www.aaronrobbs.com\n",
      "www.yatzer.com\n",
      "1024sq.com\n",
      "www.adobe.com\n",
      "www.theloudcloud.com\n",
      "daringfireball.net\n"
     ]
    }
   ],
   "source": [
    "us_test = users_new_old[users_new_old['user_id']==r[0]]['userID'].unique()[0]\n",
    "bm_test = utb[utb['userID']==us_test]['bookmarkID'].unique()\n",
    "\n",
    "for i in bm_test:\n",
    "    print(bookmark_id_name[i])"
   ]
  }
 ],
 "metadata": {
  "kernelspec": {
   "display_name": "Python 3",
   "language": "python",
   "name": "python3"
  },
  "language_info": {
   "codemirror_mode": {
    "name": "ipython",
    "version": 3
   },
   "file_extension": ".py",
   "mimetype": "text/x-python",
   "name": "python",
   "nbconvert_exporter": "python",
   "pygments_lexer": "ipython3",
   "version": "3.7.3"
  }
 },
 "nbformat": 4,
 "nbformat_minor": 2
}
