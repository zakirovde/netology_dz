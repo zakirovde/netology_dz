{
 "cells": [
  {
   "cell_type": "code",
   "execution_count": 122,
   "metadata": {},
   "outputs": [],
   "source": [
    "import pandas as pd\n",
    "import numpy as np\n",
    "import matplotlib.pyplot as plt\n",
    "from sklearn.ensemble import RandomForestRegressor as rfr\n",
    "from sklearn.metrics import auc, roc_curve, roc_auc_score, mean_squared_error\n",
    "from sklearn.model_selection import ShuffleSplit"
   ]
  },
  {
   "cell_type": "code",
   "execution_count": 123,
   "metadata": {},
   "outputs": [],
   "source": [
    "df = pd.read_csv('train.csv')"
   ]
  },
  {
   "cell_type": "code",
   "execution_count": 124,
   "metadata": {},
   "outputs": [],
   "source": [
    "splitter = ShuffleSplit(n_splits=1, test_size=0.2, random_state=4242)\n",
    "\n",
    "for train_index, test_index in splitter.split(df, df['SalePrice']):\n",
    "    d_train = df.iloc[train_index]\n",
    "    d_test = df.iloc[test_index]\n",
    "    \n",
    "    y_train = df['SalePrice'].iloc[train_index]\n",
    "    y_test = df['SalePrice'].iloc[test_index]"
   ]
  },
  {
   "cell_type": "code",
   "execution_count": 125,
   "metadata": {},
   "outputs": [],
   "source": [
    "categs = list(df.dtypes[df.dtypes == 'object'].index)\n",
    "df[categs] = df[categs].fillna('NaN')\n",
    "numers = [f for f in df if f not in (categs + ['Id', 'SalePrice'])]\n",
    "\n",
    "dummy_train = pd.get_dummies(d_train[categs], columns=categs)\n",
    "dummy_test = pd.get_dummies(d_test[categs], columns=categs)\n",
    "dummy_cols = list(set(dummy_train) & set(dummy_test))\n",
    "dummy_train = dummy_train[dummy_cols]\n",
    "dummy_test = dummy_test[dummy_cols]\n",
    "\n",
    "X_train = pd.concat([d_train[numers].fillna(-999),\n",
    "                     dummy_train], axis=1)\n",
    "X_test = pd.concat([d_test[numers].fillna(-999),\n",
    "                     dummy_test], axis=1)"
   ]
  },
  {
   "cell_type": "markdown",
   "metadata": {},
   "source": [
    "### Обучим лес на 10-fold cv и выведем качество"
   ]
  },
  {
   "cell_type": "code",
   "execution_count": 126,
   "metadata": {},
   "outputs": [
    {
     "name": "stdout",
     "output_type": "stream",
     "text": [
      "Train:\n",
      "795777590.0366564\n",
      "Test:\n",
      "2794522730.1487966\n",
      " \n",
      "Train:\n",
      "802704650.9691269\n",
      "Test:\n",
      "1423094345.3884983\n",
      " \n",
      "Train:\n",
      "822471829.818606\n",
      "Test:\n",
      "1683450927.3922665\n",
      " \n",
      "Train:\n",
      "880066226.476135\n",
      "Test:\n",
      "1571751059.832118\n",
      " \n",
      "Train:\n",
      "873028747.5464164\n",
      "Test:\n",
      "1811029620.9352725\n",
      " \n",
      "Train:\n",
      "956465639.12236\n",
      "Test:\n",
      "780538637.3558258\n",
      " \n",
      "Train:\n",
      "924463379.5564485\n",
      "Test:\n",
      "1158340129.0475397\n",
      " \n",
      "Train:\n",
      "948470811.9926093\n",
      "Test:\n",
      "726406832.0658991\n",
      " \n",
      "Train:\n",
      "876057151.899705\n",
      "Test:\n",
      "1178834825.252115\n",
      " \n",
      "Train:\n",
      "880538612.677504\n",
      "Test:\n",
      "652182235.309959\n",
      " \n"
     ]
    }
   ],
   "source": [
    "rgr_rf = rfr(n_estimators=10, max_depth=4, n_jobs=-1)\n",
    "\n",
    "from sklearn.model_selection import KFold as kf\n",
    "spltr = kf(n_splits=10, random_state=42)\n",
    "\n",
    "for train_ind, test_ind in spltr.split(X_train, y_train):\n",
    "    rgr_rf.fit(X_train.iloc[train_ind], y_train.iloc[train_ind])\n",
    "    y_pred_test = rgr_rf.predict(X_train.iloc[test_ind])\n",
    "    y_pred_train = rgr_rf.predict(X_train.iloc[train_ind])\n",
    "    print('Train:')\n",
    "    print(mean_squared_error(y_train.iloc[train_ind], y_pred_train))\n",
    "    print('Test:')\n",
    "    print(mean_squared_error(y_train.iloc[test_ind], y_pred_test))\n",
    "    print(' ')\n",
    "    "
   ]
  },
  {
   "cell_type": "markdown",
   "metadata": {},
   "source": [
    "### Построим лес на всем тесте и покажем значимость переменных"
   ]
  },
  {
   "cell_type": "code",
   "execution_count": 127,
   "metadata": {},
   "outputs": [
    {
     "data": {
      "text/plain": [
       "3      0.702647\n",
       "15     0.100709\n",
       "13     0.046122\n",
       "12     0.028760\n",
       "11     0.025801\n",
       "         ...   \n",
       "159    0.000000\n",
       "158    0.000000\n",
       "157    0.000000\n",
       "156    0.000000\n",
       "0      0.000000\n",
       "Length: 247, dtype: float64"
      ]
     },
     "execution_count": 127,
     "metadata": {},
     "output_type": "execute_result"
    }
   ],
   "source": [
    "rgr_rf = rfr(n_estimators=10, max_depth=4, n_jobs=-1)\n",
    "rgr_rf.fit(X_train, y_train)\n",
    "imp = pd.Series(rgr_rf.feature_importances_)\n",
    "imp.sort_values(ascending=False)"
   ]
  },
  {
   "cell_type": "code",
   "execution_count": 128,
   "metadata": {},
   "outputs": [
    {
     "name": "stdout",
     "output_type": "stream",
     "text": [
      "Train:\n",
      "935236081.8063563\n",
      "Test:\n",
      "1339677817.2060168\n"
     ]
    }
   ],
   "source": [
    "y_pred_rf_test = rgr_rf.predict(X_test)\n",
    "y_pred_rf_train = rgr_rf.predict(X_train)\n",
    "\n",
    "print('Train:')\n",
    "print(mean_squared_error(y_train, y_pred_rf_train))\n",
    "print('Test:')\n",
    "print(mean_squared_error(y_test, y_pred_rf_test))\n"
   ]
  },
  {
   "cell_type": "markdown",
   "metadata": {},
   "source": [
    "### Обучим лог регрессию"
   ]
  },
  {
   "cell_type": "code",
   "execution_count": 129,
   "metadata": {},
   "outputs": [
    {
     "name": "stderr",
     "output_type": "stream",
     "text": [
      "e:\\python373\\lib\\site-packages\\sklearn\\linear_model\\logistic.py:432: FutureWarning: Default solver will be changed to 'lbfgs' in 0.22. Specify a solver to silence this warning.\n",
      "  FutureWarning)\n",
      "e:\\python373\\lib\\site-packages\\sklearn\\linear_model\\logistic.py:469: FutureWarning: Default multi_class will be changed to 'auto' in 0.22. Specify the multi_class option to silence this warning.\n",
      "  \"this warning.\", FutureWarning)\n"
     ]
    },
    {
     "data": {
      "text/plain": [
       "LogisticRegression(C=0.1, class_weight=None, dual=False, fit_intercept=True,\n",
       "                   intercept_scaling=1, l1_ratio=None, max_iter=100,\n",
       "                   multi_class='warn', n_jobs=None, penalty='l2',\n",
       "                   random_state=None, solver='warn', tol=0.0001, verbose=0,\n",
       "                   warm_start=False)"
      ]
     },
     "execution_count": 129,
     "metadata": {},
     "output_type": "execute_result"
    }
   ],
   "source": [
    "from sklearn.preprocessing import StandardScaler\n",
    "\n",
    "train_median = d_train[numers].median()\n",
    "\n",
    "X_train_lin = pd.concat([d_train[numers].fillna(train_median),\n",
    "                     d_train[numers + categs].isnull().astype(np.int8).add_suffix('_NaN'),\n",
    "                     dummy_train], axis=1)\n",
    "\n",
    "X_test_lin = pd.concat([d_test[numers].fillna(train_median),\n",
    "                     d_test[numers + categs].isnull().astype(np.int8).add_suffix('_NaN'),\n",
    "                     dummy_test], axis=1)\n",
    "\n",
    "scaler = StandardScaler()\n",
    "scaler.fit(X_train_lin[numers])\n",
    "\n",
    "X_train_lin[numers] = scaler.transform(X_train_lin[numers])\n",
    "X_test_lin[numers] = scaler.transform(X_test_lin[numers])\n",
    "\n",
    "from sklearn.linear_model import LogisticRegression as lr\n",
    "rgr_lr = lr(C=0.1)\n",
    "rgr_lr.fit(X_train_lin, y_train)"
   ]
  },
  {
   "cell_type": "code",
   "execution_count": 130,
   "metadata": {},
   "outputs": [
    {
     "name": "stdout",
     "output_type": "stream",
     "text": [
      "Train:\n",
      "481665230.86558217\n",
      "Test:\n",
      "3184376277.4589043\n"
     ]
    }
   ],
   "source": [
    "y_pred_lin_test = rgr_lr.predict(X_test_lin)\n",
    "y_pred_lin_train = rgr_lr.predict(X_train_lin)\n",
    "\n",
    "print('Train:')\n",
    "print(mean_squared_error(y_train, y_pred_lin_train))\n",
    "print('Test:')\n",
    "print(mean_squared_error(y_test, y_pred_lin_test))\n"
   ]
  },
  {
   "cell_type": "markdown",
   "metadata": {},
   "source": [
    "### Для интереса можно обучить дерево"
   ]
  },
  {
   "cell_type": "code",
   "execution_count": 131,
   "metadata": {},
   "outputs": [
    {
     "data": {
      "text/plain": [
       "DecisionTreeRegressor(criterion='mse', max_depth=None, max_features=None,\n",
       "                      max_leaf_nodes=None, min_impurity_decrease=0.0,\n",
       "                      min_impurity_split=None, min_samples_leaf=1,\n",
       "                      min_samples_split=2, min_weight_fraction_leaf=0.0,\n",
       "                      presort=False, random_state=None, splitter='best')"
      ]
     },
     "execution_count": 131,
     "metadata": {},
     "output_type": "execute_result"
    }
   ],
   "source": [
    "from sklearn.tree import DecisionTreeRegressor as dtr\n",
    "rgr_dt = dtr()\n",
    "rgr_dt.fit(X_train, y_train)"
   ]
  },
  {
   "cell_type": "code",
   "execution_count": 132,
   "metadata": {},
   "outputs": [
    {
     "name": "stdout",
     "output_type": "stream",
     "text": [
      "Train:\n",
      "0.0\n",
      "Test:\n",
      "1715785940.8321917\n",
      "\n",
      "importances:\n",
      "3      0.617027\n",
      "15     0.092161\n",
      "13     0.071131\n",
      "11     0.034140\n",
      "12     0.022274\n",
      "         ...   \n",
      "104    0.000000\n",
      "187    0.000000\n",
      "107    0.000000\n",
      "186    0.000000\n",
      "123    0.000000\n",
      "Length: 247, dtype: float64\n"
     ]
    }
   ],
   "source": [
    "y_pred_dt_test = rgr_dt.predict(X_test)\n",
    "y_pred_dt_train = rgr_dt.predict(X_train)\n",
    "\n",
    "print('Train:')\n",
    "print(mean_squared_error(y_train, y_pred_dt_train))\n",
    "print('Test:')\n",
    "print(mean_squared_error(y_test, y_pred_dt_test))\n",
    "\n",
    "print('\\nimportances:')\n",
    "imp = pd.Series(rgr_dt.feature_importances_)\n",
    "print(imp.sort_values(ascending=False))"
   ]
  },
  {
   "cell_type": "code",
   "execution_count": 133,
   "metadata": {},
   "outputs": [],
   "source": [
    "def get_meta_features(rgr, X_train, y_train, X_test, stack_cv):\n",
    "    meta_train = np.zeros_like(y_train, dtype=float)\n",
    "    meta_test = np.zeros_like(y_test, dtype=float)\n",
    "    \n",
    "    for i, (train_ind, test_ind) in enumerate(stack_cv.split(X_train, y_train)):\n",
    "        \n",
    "        rgr.fit(X_train.iloc[train_ind], y_train.iloc[train_ind])\n",
    "        meta_train[test_ind] =rgr.predict(X_train.iloc[test_ind])\n",
    "        meta_test += rgr.predict(X_test)\n",
    "    \n",
    "    return meta_train, meta_test / stack_cv.n_splits"
   ]
  },
  {
   "cell_type": "code",
   "execution_count": 134,
   "metadata": {
    "scrolled": true
   },
   "outputs": [
    {
     "name": "stdout",
     "output_type": "stream",
     "text": [
      "LR features...\n"
     ]
    },
    {
     "name": "stderr",
     "output_type": "stream",
     "text": [
      "e:\\python373\\lib\\site-packages\\sklearn\\linear_model\\logistic.py:432: FutureWarning: Default solver will be changed to 'lbfgs' in 0.22. Specify a solver to silence this warning.\n",
      "  FutureWarning)\n",
      "e:\\python373\\lib\\site-packages\\sklearn\\linear_model\\logistic.py:469: FutureWarning: Default multi_class will be changed to 'auto' in 0.22. Specify the multi_class option to silence this warning.\n",
      "  \"this warning.\", FutureWarning)\n",
      "e:\\python373\\lib\\site-packages\\sklearn\\linear_model\\logistic.py:432: FutureWarning: Default solver will be changed to 'lbfgs' in 0.22. Specify a solver to silence this warning.\n",
      "  FutureWarning)\n",
      "e:\\python373\\lib\\site-packages\\sklearn\\linear_model\\logistic.py:469: FutureWarning: Default multi_class will be changed to 'auto' in 0.22. Specify the multi_class option to silence this warning.\n",
      "  \"this warning.\", FutureWarning)\n",
      "e:\\python373\\lib\\site-packages\\sklearn\\linear_model\\logistic.py:432: FutureWarning: Default solver will be changed to 'lbfgs' in 0.22. Specify a solver to silence this warning.\n",
      "  FutureWarning)\n",
      "e:\\python373\\lib\\site-packages\\sklearn\\linear_model\\logistic.py:469: FutureWarning: Default multi_class will be changed to 'auto' in 0.22. Specify the multi_class option to silence this warning.\n",
      "  \"this warning.\", FutureWarning)\n",
      "e:\\python373\\lib\\site-packages\\sklearn\\linear_model\\logistic.py:432: FutureWarning: Default solver will be changed to 'lbfgs' in 0.22. Specify a solver to silence this warning.\n",
      "  FutureWarning)\n",
      "e:\\python373\\lib\\site-packages\\sklearn\\linear_model\\logistic.py:469: FutureWarning: Default multi_class will be changed to 'auto' in 0.22. Specify the multi_class option to silence this warning.\n",
      "  \"this warning.\", FutureWarning)\n",
      "e:\\python373\\lib\\site-packages\\sklearn\\linear_model\\logistic.py:432: FutureWarning: Default solver will be changed to 'lbfgs' in 0.22. Specify a solver to silence this warning.\n",
      "  FutureWarning)\n",
      "e:\\python373\\lib\\site-packages\\sklearn\\linear_model\\logistic.py:469: FutureWarning: Default multi_class will be changed to 'auto' in 0.22. Specify the multi_class option to silence this warning.\n",
      "  \"this warning.\", FutureWarning)\n",
      "e:\\python373\\lib\\site-packages\\sklearn\\linear_model\\logistic.py:432: FutureWarning: Default solver will be changed to 'lbfgs' in 0.22. Specify a solver to silence this warning.\n",
      "  FutureWarning)\n",
      "e:\\python373\\lib\\site-packages\\sklearn\\linear_model\\logistic.py:469: FutureWarning: Default multi_class will be changed to 'auto' in 0.22. Specify the multi_class option to silence this warning.\n",
      "  \"this warning.\", FutureWarning)\n",
      "e:\\python373\\lib\\site-packages\\sklearn\\linear_model\\logistic.py:432: FutureWarning: Default solver will be changed to 'lbfgs' in 0.22. Specify a solver to silence this warning.\n",
      "  FutureWarning)\n",
      "e:\\python373\\lib\\site-packages\\sklearn\\linear_model\\logistic.py:469: FutureWarning: Default multi_class will be changed to 'auto' in 0.22. Specify the multi_class option to silence this warning.\n",
      "  \"this warning.\", FutureWarning)\n",
      "e:\\python373\\lib\\site-packages\\sklearn\\linear_model\\logistic.py:432: FutureWarning: Default solver will be changed to 'lbfgs' in 0.22. Specify a solver to silence this warning.\n",
      "  FutureWarning)\n",
      "e:\\python373\\lib\\site-packages\\sklearn\\linear_model\\logistic.py:469: FutureWarning: Default multi_class will be changed to 'auto' in 0.22. Specify the multi_class option to silence this warning.\n",
      "  \"this warning.\", FutureWarning)\n",
      "e:\\python373\\lib\\site-packages\\sklearn\\linear_model\\logistic.py:432: FutureWarning: Default solver will be changed to 'lbfgs' in 0.22. Specify a solver to silence this warning.\n",
      "  FutureWarning)\n",
      "e:\\python373\\lib\\site-packages\\sklearn\\linear_model\\logistic.py:469: FutureWarning: Default multi_class will be changed to 'auto' in 0.22. Specify the multi_class option to silence this warning.\n",
      "  \"this warning.\", FutureWarning)\n",
      "e:\\python373\\lib\\site-packages\\sklearn\\linear_model\\logistic.py:432: FutureWarning: Default solver will be changed to 'lbfgs' in 0.22. Specify a solver to silence this warning.\n",
      "  FutureWarning)\n",
      "e:\\python373\\lib\\site-packages\\sklearn\\linear_model\\logistic.py:469: FutureWarning: Default multi_class will be changed to 'auto' in 0.22. Specify the multi_class option to silence this warning.\n",
      "  \"this warning.\", FutureWarning)\n"
     ]
    },
    {
     "name": "stdout",
     "output_type": "stream",
     "text": [
      "RF features...\n",
      "DT features...\n"
     ]
    }
   ],
   "source": [
    "stack_cv = kf(n_splits=10, random_state=555)\n",
    "\n",
    "meta_train = []\n",
    "meta_test = []\n",
    "col_names = []\n",
    "\n",
    "print('LR features...')\n",
    "meta_tr, meta_te = get_meta_features(rgr_lr, X_train_lin, y_train, X_test_lin, stack_cv)\n",
    "\n",
    "meta_train.append(meta_tr)\n",
    "meta_test.append(meta_te)\n",
    "col_names.append('lr_pred')\n",
    "\n",
    "print('RF features...')\n",
    "meta_tr, meta_te = get_meta_features(rgr_rf, X_train, y_train, X_test, stack_cv)\n",
    "\n",
    "meta_train.append(meta_tr)\n",
    "meta_test.append(meta_te)\n",
    "col_names.append('rf_pred')\n",
    "\n",
    "print('DT features...')\n",
    "meta_tr, meta_te = get_meta_features(rgr_dt, X_train, y_train, X_test, stack_cv)\n",
    "\n",
    "meta_train.append(meta_tr)\n",
    "meta_test.append(meta_te)\n",
    "col_names.append('dt_pred')"
   ]
  },
  {
   "cell_type": "code",
   "execution_count": 135,
   "metadata": {},
   "outputs": [],
   "source": [
    "X_meta_train = pd.DataFrame(np.stack(meta_train, axis=1), columns=col_names)\n",
    "X_meta_test = pd.DataFrame(np.stack(meta_test, axis=1), columns=col_names)"
   ]
  },
  {
   "cell_type": "code",
   "execution_count": 149,
   "metadata": {},
   "outputs": [
    {
     "name": "stderr",
     "output_type": "stream",
     "text": [
      "e:\\python373\\lib\\site-packages\\sklearn\\linear_model\\logistic.py:432: FutureWarning: Default solver will be changed to 'lbfgs' in 0.22. Specify a solver to silence this warning.\n",
      "  FutureWarning)\n",
      "e:\\python373\\lib\\site-packages\\sklearn\\linear_model\\logistic.py:469: FutureWarning: Default multi_class will be changed to 'auto' in 0.22. Specify the multi_class option to silence this warning.\n",
      "  \"this warning.\", FutureWarning)\n"
     ]
    },
    {
     "data": {
      "text/plain": [
       "LogisticRegression(C=0.1, class_weight=None, dual=False, fit_intercept=True,\n",
       "                   intercept_scaling=1, l1_ratio=None, max_iter=100,\n",
       "                   multi_class='warn', n_jobs=None, penalty='l2',\n",
       "                   random_state=None, solver='warn', tol=0.0001, verbose=0,\n",
       "                   warm_start=False)"
      ]
     },
     "execution_count": 149,
     "metadata": {},
     "output_type": "execute_result"
    }
   ],
   "source": [
    "rgr_lr_meta = lr(penalty='l2', C=0.1)\n",
    "rgr_lr_meta.fit(X_meta_train, y_train)"
   ]
  },
  {
   "cell_type": "code",
   "execution_count": 150,
   "metadata": {},
   "outputs": [
    {
     "name": "stdout",
     "output_type": "stream",
     "text": [
      "Train:\n",
      "6720881779.799658\n",
      "Test:\n",
      "5102578369.133562\n"
     ]
    }
   ],
   "source": [
    "y_pred_meta_train = rgr_lr_meta.predict(X_meta_train)\n",
    "y_pred_meta_test = rgr_lr_meta.predict(X_meta_test)\n",
    "\n",
    "print('Train:')\n",
    "print(mean_squared_error(y_train, y_pred_meta_train))\n",
    "print('Test:')\n",
    "print(mean_squared_error(y_test, y_pred_meta_test))\n"
   ]
  },
  {
   "cell_type": "code",
   "execution_count": null,
   "metadata": {},
   "outputs": [],
   "source": []
  }
 ],
 "metadata": {
  "kernelspec": {
   "display_name": "Python 3",
   "language": "python",
   "name": "python3"
  },
  "language_info": {
   "codemirror_mode": {
    "name": "ipython",
    "version": 3
   },
   "file_extension": ".py",
   "mimetype": "text/x-python",
   "name": "python",
   "nbconvert_exporter": "python",
   "pygments_lexer": "ipython3",
   "version": "3.7.3"
  }
 },
 "nbformat": 4,
 "nbformat_minor": 2
}
