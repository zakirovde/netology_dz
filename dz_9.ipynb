{
 "cells": [
  {
   "cell_type": "code",
   "execution_count": 3,
   "metadata": {},
   "outputs": [],
   "source": [
    "import pandas as pd\n",
    "import numpy as np\n",
    "import matplotlib.pyplot as plt\n",
    "\n",
    "from tqdm import tqdm_notebook"
   ]
  },
  {
   "cell_type": "code",
   "execution_count": 4,
   "metadata": {},
   "outputs": [],
   "source": [
    "links = pd.read_csv('links.csv')\n",
    "movies = pd.read_csv('movies.csv')\n",
    "ratings = pd.read_csv('ratings.csv')\n",
    "tags = pd.read_csv('tags.csv')"
   ]
  },
  {
   "cell_type": "code",
   "execution_count": 11,
   "metadata": {},
   "outputs": [],
   "source": [
    "jr = ratings.join(movies.set_index('movieId'), on='movieId')"
   ]
  },
  {
   "cell_type": "markdown",
   "metadata": {},
   "source": [
    "### Decided to choose fantasy and romance genres"
   ]
  },
  {
   "cell_type": "code",
   "execution_count": 33,
   "metadata": {},
   "outputs": [],
   "source": [
    "fant = jr[jr.genres.str.contains('Fantasy')]\n",
    "romance = jr[jr.genres.str.contains('Romance')]"
   ]
  },
  {
   "cell_type": "markdown",
   "metadata": {},
   "source": [
    "### Trying to make something like MinMaxScaler for fantasy"
   ]
  },
  {
   "cell_type": "code",
   "execution_count": 37,
   "metadata": {},
   "outputs": [
    {
     "data": {
      "application/vnd.jupyter.widget-view+json": {
       "model_id": "61554cd960e0415e87c15600cacb2ab8",
       "version_major": 2,
       "version_minor": 0
      },
      "text/plain": [
       "HBox(children=(IntProgress(value=0, max=778), HTML(value='')))"
      ]
     },
     "metadata": {},
     "output_type": "display_data"
    },
    {
     "name": "stdout",
     "output_type": "stream",
     "text": [
      "\n"
     ]
    }
   ],
   "source": [
    "fant_rate = {}\n",
    "\n",
    "for title, group in tqdm_notebook(fant.groupby('title')):\n",
    "    fant_rate[title] = group.userId.unique().shape[0]"
   ]
  },
  {
   "cell_type": "code",
   "execution_count": 38,
   "metadata": {},
   "outputs": [],
   "source": [
    "min_fant_rate = np.min([fant_rate[f] for f in fant_rate.keys()])\n",
    "max_fant_rate = np.max([fant_rate[f] for f in fant_rate.keys()])"
   ]
  },
  {
   "cell_type": "code",
   "execution_count": 39,
   "metadata": {},
   "outputs": [
    {
     "name": "stdout",
     "output_type": "stream",
     "text": [
      "1\n",
      "215\n"
     ]
    }
   ],
   "source": [
    "print(min_fant_rate)\n",
    "print(max_fant_rate)"
   ]
  },
  {
   "cell_type": "code",
   "execution_count": 45,
   "metadata": {},
   "outputs": [
    {
     "data": {
      "application/vnd.jupyter.widget-view+json": {
       "model_id": "e55078c0a1b04fa6953d41854c692318",
       "version_major": 2,
       "version_minor": 0
      },
      "text/plain": [
       "HBox(children=(IntProgress(value=0, max=778), HTML(value='')))"
      ]
     },
     "metadata": {},
     "output_type": "display_data"
    },
    {
     "name": "stdout",
     "output_type": "stream",
     "text": [
      "\n"
     ]
    }
   ],
   "source": [
    "fant_mean_rate = {}\n",
    "\n",
    "for title, group in tqdm_notebook(fant.groupby('title')):\n",
    "    fant_mean_rate[title] = group.rating.mean()"
   ]
  },
  {
   "cell_type": "code",
   "execution_count": 47,
   "metadata": {},
   "outputs": [],
   "source": [
    "fant_fin = []\n",
    "\n",
    "for f in fant_rate.keys():\n",
    "    fant_fin.append(\n",
    "    (f, fant_mean_rate[f] * (fant_rate[f] - min_fant_rate) / (max_fant_rate - min_fant_rate))\n",
    "    )"
   ]
  },
  {
   "cell_type": "code",
   "execution_count": 55,
   "metadata": {},
   "outputs": [
    {
     "data": {
      "text/plain": [
       "[('Toy Story (1995)', 3.9209302325581397),\n",
       " ('Lord of the Rings: The Fellowship of the Ring, The (2001)',\n",
       "  3.779878221467007),\n",
       " ('Lord of the Rings: The Return of the King, The (2003)', 3.541500378883556),\n",
       " ('Lord of the Rings: The Two Towers, The (2002)', 3.5139192682441833),\n",
       " ('Shrek (2001)', 3.05435678944475),\n",
       " ('Princess Bride, The (1987)', 2.7886336711859943),\n",
       " ('Monty Python and the Holy Grail (1975)', 2.6254123144584938),\n",
       " ('Groundhog Day (1993)', 2.6170838507287106),\n",
       " ('Pirates of the Caribbean: The Curse of the Black Pearl (2003)',\n",
       "  2.6131844696732114),\n",
       " ('Beauty and the Beast (1991)', 2.5548105236205347),\n",
       " ('Monsters, Inc. (2001)', 2.3697606910223734),\n",
       " ('Mask, The (1994)', 2.321566759926186),\n",
       " ('Willy Wonka & the Chocolate Factory (1971)', 2.1361030393465796),\n",
       " (\"Harry Potter and the Sorcerer's Stone (a.k.a. Harry Potter and the Philosopher's Stone) (2001)\",\n",
       "  1.8632631670888287),\n",
       " ('Ghost (1990)', 1.8297440065014223),\n",
       " ('Indiana Jones and the Temple of Doom (1984)', 1.8194444444444444),\n",
       " ('Being John Malkovich (1999)', 1.8109600679694138),\n",
       " ('Jumanji (1995)', 1.747982158028887),\n",
       " ('Toy Story 2 (1999)', 1.731958762886598),\n",
       " ('Harry Potter and the Chamber of Secrets (2002)', 1.6981400036650176)]"
      ]
     },
     "execution_count": 55,
     "metadata": {},
     "output_type": "execute_result"
    }
   ],
   "source": [
    "list(sorted(fant_fin, key = lambda x: x[1], reverse=True))[:20]"
   ]
  },
  {
   "cell_type": "markdown",
   "metadata": {},
   "source": [
    "### Now it's romance's turn"
   ]
  },
  {
   "cell_type": "code",
   "execution_count": 56,
   "metadata": {},
   "outputs": [
    {
     "data": {
      "application/vnd.jupyter.widget-view+json": {
       "model_id": "91b96857cd9d4bfb9d7b453b3d0d19a3",
       "version_major": 2,
       "version_minor": 0
      },
      "text/plain": [
       "HBox(children=(IntProgress(value=0, max=1590), HTML(value='')))"
      ]
     },
     "metadata": {},
     "output_type": "display_data"
    },
    {
     "name": "stdout",
     "output_type": "stream",
     "text": [
      "\n"
     ]
    }
   ],
   "source": [
    "rom_rate = {}\n",
    "\n",
    "for title, group in tqdm_notebook(romance.groupby('title')):\n",
    "    rom_rate[title] = group.userId.unique().shape[0]"
   ]
  },
  {
   "cell_type": "code",
   "execution_count": 57,
   "metadata": {},
   "outputs": [],
   "source": [
    "min_rom_rate = np.min([rom_rate[f] for f in rom_rate.keys()])\n",
    "max_rom_rate = np.max([rom_rate[f] for f in rom_rate.keys()])\n",
    "mean_rom_rate = np.mean([rom_rate[f] for f in rom_rate.keys()])"
   ]
  },
  {
   "cell_type": "code",
   "execution_count": 58,
   "metadata": {},
   "outputs": [
    {
     "name": "stdout",
     "output_type": "stream",
     "text": [
      "1\n",
      "329\n",
      "11.39811320754717\n"
     ]
    }
   ],
   "source": [
    "print(min_rom_rate)\n",
    "print(max_rom_rate)\n",
    "print(mean_rom_rate)"
   ]
  },
  {
   "cell_type": "code",
   "execution_count": 59,
   "metadata": {},
   "outputs": [
    {
     "data": {
      "application/vnd.jupyter.widget-view+json": {
       "model_id": "bbe0a46b192c4a1587c2e751da38008b",
       "version_major": 2,
       "version_minor": 0
      },
      "text/plain": [
       "HBox(children=(IntProgress(value=0, max=1590), HTML(value='')))"
      ]
     },
     "metadata": {},
     "output_type": "display_data"
    },
    {
     "name": "stdout",
     "output_type": "stream",
     "text": [
      "\n"
     ]
    }
   ],
   "source": [
    "rom_mean_rate = {}\n",
    "\n",
    "for title, group in tqdm_notebook(romance.groupby('title')):\n",
    "    rom_mean_rate[title] = group.rating.mean()"
   ]
  },
  {
   "cell_type": "code",
   "execution_count": 60,
   "metadata": {},
   "outputs": [],
   "source": [
    "rom_fin = []\n",
    "\n",
    "for f in rom_rate.keys():\n",
    "    rom_fin.append(\n",
    "    (f, rom_mean_rate[f] * (rom_rate[f] - mean_rom_rate) / (max_rom_rate - min_rom_rate))\n",
    "    )"
   ]
  },
  {
   "cell_type": "code",
   "execution_count": 63,
   "metadata": {},
   "outputs": [
    {
     "data": {
      "text/plain": [
       "[('Forrest Gump (1994)', 4.032124183646493),\n",
       " ('American Beauty (1999)', 2.3819055075435607),\n",
       " ('Shrek (2001)', 1.870171100538697),\n",
       " ('True Lies (1994)', 1.7763372589802324),\n",
       " ('Speed (1994)', 1.717296724419578),\n",
       " ('Princess Bride, The (1987)', 1.6852399081557916),\n",
       " ('Good Will Hunting (1997)', 1.6113363800739573),\n",
       " ('Groundhog Day (1993)', 1.5824548897949726),\n",
       " ('Beauty and the Beast (1991)', 1.5473258160550718),\n",
       " ('Eternal Sunshine of the Spotless Mind (2004)', 1.5170133192582107),\n",
       " (\"Amelie (Fabuleux destin d'Amélie Poulain, Le) (2001)\", 1.3851155276882958),\n",
       " ('Beautiful Mind, A (2001)', 1.3609986194201564),\n",
       " ('Titanic (1997)', 1.3386694661757939),\n",
       " ('Pretty Woman (1990)', 1.3133398314329057),\n",
       " ('Crouching Tiger, Hidden Dragon (Wo hu cang long) (2000)',\n",
       "  1.153270405388445),\n",
       " ('WALL·E (2008)', 1.145579157669298),\n",
       " ('Casablanca (1942)', 1.1453414634146342),\n",
       " ('Twister (1996)', 1.1300161301486462),\n",
       " ('Ghost (1990)', 1.0849084115328438),\n",
       " (\"There's Something About Mary (1998)\", 1.0490803804264457)]"
      ]
     },
     "execution_count": 63,
     "metadata": {},
     "output_type": "execute_result"
    }
   ],
   "source": [
    "list(sorted(rom_fin, key = lambda x: x[1], reverse = True))[:20]"
   ]
  },
  {
   "cell_type": "markdown",
   "metadata": {},
   "source": [
    "### Both ratings look pretty trustable"
   ]
  }
 ],
 "metadata": {
  "kernelspec": {
   "display_name": "Python 3",
   "language": "python",
   "name": "python3"
  },
  "language_info": {
   "codemirror_mode": {
    "name": "ipython",
    "version": 3
   },
   "file_extension": ".py",
   "mimetype": "text/x-python",
   "name": "python",
   "nbconvert_exporter": "python",
   "pygments_lexer": "ipython3",
   "version": "3.7.3"
  }
 },
 "nbformat": 4,
 "nbformat_minor": 2
}
