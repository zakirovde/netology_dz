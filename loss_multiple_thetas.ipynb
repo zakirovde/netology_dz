{
 "cells": [
  {
   "cell_type": "code",
   "execution_count": 54,
   "metadata": {},
   "outputs": [],
   "source": [
    "import numpy as np\n",
    "from sklearn.datasets import make_blobs\n",
    "from sklearn.model_selection import train_test_split\n",
    "from sklearn.metrics import accuracy_score\n",
    "import matplotlib.pyplot as plt\n",
    "%matplotlib inline\n",
    "from jupyterthemes import jtplot\n",
    "jtplot.style()\n",
    "from sklearn.datasets import load_iris"
   ]
  },
  {
   "cell_type": "code",
   "execution_count": 55,
   "metadata": {},
   "outputs": [],
   "source": [
    "iris = load_iris()\n",
    "\n",
    "#выбираем записи с классами versicolor & virginica\n",
    "indices=np.where((iris.target==1) | (iris.target==2))\n",
    "X = iris.data[indices]\n",
    "Y = iris.target[indices]-1\n",
    "N = X.shape[0]\n",
    "#добавляем единичный вектор для theta_0\n",
    "#X = np.c_[X, np.ones(X.shape[0])]"
   ]
  },
  {
   "cell_type": "code",
   "execution_count": 56,
   "metadata": {},
   "outputs": [],
   "source": [
    "def f_loss (X, Y, th0, th1, th2, th3, th4):\n",
    "    t_cost = 0\n",
    "    for i in range(len(X)):\n",
    "        t_cost += (th0 + th1 * X[:,0][i] + th2 * X[:,1][i] + th3 * X[:,2][i] + th4 * X[:,3][i] - Y[i])**2\n",
    "    return t_cost / (2 * len(X))      "
   ]
  },
  {
   "cell_type": "code",
   "execution_count": 57,
   "metadata": {},
   "outputs": [],
   "source": [
    "def dth0 (X, Y, th0, th1, th2, th3, th4):\n",
    "    t_cost = 0\n",
    "    for i in range(N):\n",
    "        t_cost += (th0 + th1 * X[:,0][i] + th2 * X[:,1][i] + th3 * X[:,2][i] + th4 * X[:,3][i] - Y[i])\n",
    "    return t_cost / N"
   ]
  },
  {
   "cell_type": "code",
   "execution_count": 58,
   "metadata": {},
   "outputs": [],
   "source": [
    "def dthi (X, Y, th0, th1, th2, th3, th4, j):\n",
    "    t_cost = 0\n",
    "    for i in range(N):\n",
    "        t_cost += (th0 + th1 * X[:,0][i] + th2 * X[:,1][i] + th3 * X[:,2][i] + th4 * X[:,3][i]) * X[:,j][i]\n",
    "    return t_cost / N"
   ]
  },
  {
   "cell_type": "code",
   "execution_count": 65,
   "metadata": {},
   "outputs": [
    {
     "name": "stdout",
     "output_type": "stream",
     "text": [
      "th0:  0.83784 th1:  -0.04830354079999988 th2:  0.7098617844760031 th3:  0.5404096098785236 th4:  0.880520170504173 f_loss:  19.40753871115741\n",
      "th0:  0.7758291237564549 th1:  -0.46857357092905016 th2:  0.5930977798036918 th3:  0.3553625449408673 th4:  0.8319098013948354 f_loss:  2.4448077138672035\n",
      "th0:  0.754002246568329 th1:  -0.6368475341967266 th2:  0.5458996002291513 th3:  0.2804778208193364 th4:  0.811737230577271 f_loss:  0.23498080868577906\n",
      "th0:  0.7482984223015918 th1:  -0.704010081560909 th2:  0.5266142341878888 th3:  0.24979772367824432 th4:  0.8029767919138251 f_loss:  0.08835753598117208\n",
      "th0:  0.7490632212239134 th1:  -0.7306035268783829 th2:  0.5185284529908396 th3:  0.23685678037865243 th4:  0.798796950212852 f_loss:  0.14871772983270592\n",
      "th0:  0.7524228141639576 th1:  -0.7409204099384777 th2:  0.5149360913422057 th3:  0.23103574060640505 th4:  0.7964565553256914 f_loss:  0.19217119064451893\n",
      "th0:  0.7568228322479086 th1:  -0.744708084280494 th2:  0.5131463083059048 th3:  0.22807363541301243 th4:  0.7948557200947841 f_loss:  0.21274882499159148\n",
      "th0:  0.7616395877663775 th1:  -0.74587766174918 th2:  0.512079407900138 th3:  0.22626075001895796 th4:  0.7935531125345079 f_loss:  0.22155760910185562\n",
      "th0:  0.766622827910547 th1:  -0.7459984679484851 th2:  0.5113021644710247 th3:  0.2249110578881514 th4:  0.792371645283391 f_loss:  0.22522783831121373\n",
      "th0:  0.7716721402558255 th1:  -0.745700189062032 th2:  0.5106407479457514 th3:  0.22374928639980304 th4:  0.7912402588838675 f_loss:  0.22676978175903018\n",
      "th0:  0.7767472356816618 th1:  -0.7452354818883945 th2:  0.510025410470377 th3:  0.22266497755091805 th4:  0.7901304374785737 f_loss:  0.2274475994253798\n",
      "th0:  0.7818319494811983 th1:  -0.7447057205654447 th2:  0.5094281670757234 th3:  0.2216138050545678 th4:  0.7890307357957871 f_loss:  0.2277775805565987\n",
      "th0:  0.7869197968418652 th1:  -0.7441515772218696 th2:  0.5088377901057481 th3:  0.22057797792241265 th4:  0.7879365581273206 f_loss:  0.22796833335665295\n",
      "th0:  0.7920081769961554 th1:  -0.7435893673746501 th2:  0.5082497757564843 th3:  0.21955035244102922 th4:  0.7868460571534175 f_loss:  0.2281037891487026\n",
      "th0:  0.79709604764282 th1:  -0.7430256334840971 th2:  0.5076623181596474 th3:  0.21852805711797774 th4:  0.785758488350248 f_loss:  0.22821765763451485\n",
      "th0:  0.8021829918106628 th1:  -0.7424629965909711 th2:  0.507074693987643 th3:  0.21750993469764 th4:  0.7846735496975136 f_loss:  0.2283234662540632\n",
      "th0:  0.8072688434385611 th1:  -0.7419025042801076 th2:  0.5064866142779207 th3:  0.21649551577255546 th4:  0.7835911167367533 f_loss:  0.22842663958712958\n",
      "th0:  0.8123535371398244 th1:  -0.7413445727984935 th2:  0.5058979643531403 th3:  0.21548460694594768 th4:  0.7825111362637307 f_loss:  0.22852935028626364\n",
      "th0:  0.8174370479202973 th1:  -0.7407893650791976 th2:  0.5053086994644017 th3:  0.21447712558231258 th4:  0.7814335836725895 f_loss:  0.22863246611712496\n",
      "th0:  0.8225193669903151 th1:  -0.740236942423077 th2:  0.5047188029182029 th3:  0.2134730335012245 th4:  0.7803584458402205 f_loss:  0.22873633128458684\n"
     ]
    }
   ],
   "source": [
    "th0 = 1.\n",
    "th1 = 1.\n",
    "th2 = 1.\n",
    "th3 = 1.\n",
    "th4 = 1.\n",
    "ep = 20\n",
    "lr = .01\n",
    "\n",
    "for _ in range(ep):\n",
    "    th0 -= lr * dth0(X, Y, th0, th1, th2, th3, th4)\n",
    "    th1 -= lr * dthi(X, Y, th0, th1, th2, th3, th4, 0)\n",
    "    th2 -= lr * dthi(X, Y, th0, th1, th2, th3, th4, 1)\n",
    "    th3 -= lr * dthi(X, Y, th0, th1, th2, th3, th4, 2)\n",
    "    th4 -= lr * dthi(X, Y, th0, th1, th2, th3, th4, 3)\n",
    "    print('th0: ', th0, 'th1: ', th1, 'th2: ', th2, 'th3: ', th3, 'th4: ', th4, 'f_loss: ', f_loss(X, Y, th0, th1, th2, th3, th4))"
   ]
  },
  {
   "cell_type": "code",
   "execution_count": 60,
   "metadata": {},
   "outputs": [],
   "source": [
    "y_pred = np.zeros(X.shape[0])\n",
    "\n",
    "for i in range(X.shape[0]):\n",
    "    y_pred[i] = th0 + th1 * X[:,0][i] + th2 * X[:,1][i] + th3 * X[:,2][i] + th4 * X[:,3][i]\n",
    "    \n",
    "y_prob = np.where(y_pred<0.5, 0, 1)   "
   ]
  },
  {
   "cell_type": "code",
   "execution_count": 61,
   "metadata": {},
   "outputs": [
    {
     "data": {
      "text/plain": [
       "0.41"
      ]
     },
     "execution_count": 61,
     "metadata": {},
     "output_type": "execute_result"
    }
   ],
   "source": [
    "from sklearn.metrics import mean_squared_error\n",
    "\n",
    "mean_squared_error(Y, y_prob)"
   ]
  },
  {
   "cell_type": "code",
   "execution_count": 68,
   "metadata": {},
   "outputs": [
    {
     "data": {
      "text/plain": [
       "16.215999999999998"
      ]
     },
     "execution_count": 68,
     "metadata": {},
     "output_type": "execute_result"
    }
   ],
   "source": [
    "dth0(X, Y, 1, 1, 1, 1, 1)"
   ]
  },
  {
   "cell_type": "code",
   "execution_count": 74,
   "metadata": {},
   "outputs": [
    {
     "data": {
      "text/plain": [
       "28.7252"
      ]
     },
     "execution_count": 74,
     "metadata": {},
     "output_type": "execute_result"
    }
   ],
   "source": [
    "dthi(X, Y, 1, 1, 1, 1, 1, 3)"
   ]
  }
 ],
 "metadata": {
  "kernelspec": {
   "display_name": "Python 3",
   "language": "python",
   "name": "python3"
  },
  "language_info": {
   "codemirror_mode": {
    "name": "ipython",
    "version": 3
   },
   "file_extension": ".py",
   "mimetype": "text/x-python",
   "name": "python",
   "nbconvert_exporter": "python",
   "pygments_lexer": "ipython3",
   "version": "3.7.3"
  }
 },
 "nbformat": 4,
 "nbformat_minor": 2
}
