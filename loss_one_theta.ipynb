{
 "cells": [
  {
   "cell_type": "code",
   "execution_count": 88,
   "metadata": {},
   "outputs": [],
   "source": [
    "import numpy as np\n",
    "from sklearn.datasets import make_blobs\n",
    "from sklearn.model_selection import train_test_split\n",
    "from sklearn.metrics import accuracy_score\n",
    "import matplotlib.pyplot as plt\n",
    "%matplotlib inline\n",
    "from jupyterthemes import jtplot\n",
    "jtplot.style()\n",
    "from sklearn.datasets import load_iris"
   ]
  },
  {
   "cell_type": "code",
   "execution_count": 89,
   "metadata": {},
   "outputs": [],
   "source": [
    "iris = load_iris()\n",
    "\n",
    "#выбираем записи с классами versicolor & virginica\n",
    "indices=np.where((iris.target==1) | (iris.target==2))\n",
    "X = iris.data[indices]\n",
    "Y = iris.target[indices]-1\n",
    "\n",
    "#добавляем единичный вектор для theta_0\n",
    "X = np.c_[X, np.ones(X.shape[0])]"
   ]
  },
  {
   "cell_type": "code",
   "execution_count": 90,
   "metadata": {},
   "outputs": [],
   "source": [
    "lr = .0001\n",
    "th = np.ones((X.shape[1]))#.reshape(X.shape[1],1)"
   ]
  },
  {
   "cell_type": "code",
   "execution_count": 91,
   "metadata": {},
   "outputs": [],
   "source": [
    "def f_cost(X, Y, th):\n",
    "    t_cost = 0\n",
    "    for i in range(X.shape[0]):\n",
    "        t_cost += (np.dot(X[i,:], th) - Y[i]) ** 2\n",
    "    return t_cost / (2 * X.shape[0])"
   ]
  },
  {
   "cell_type": "code",
   "execution_count": 92,
   "metadata": {},
   "outputs": [],
   "source": [
    "def d_th(X, Y, th):\n",
    "    d_th = np.zeros((X.shape[1])) \n",
    "    for i in range(X.shape[1]):\n",
    "        for j in range(X.shape[0]):\n",
    "            d_th[i] += (np.dot(X[j,:], th) - Y[j]) * X[j, i]\n",
    "    return d_th / X.shape[0]"
   ]
  },
  {
   "cell_type": "code",
   "execution_count": 93,
   "metadata": {},
   "outputs": [
    {
     "name": "stdout",
     "output_type": "stream",
     "text": [
      "th:  [-0.025518  0.530275  0.192165  0.722878  0.83784 ] f_cost:  7.497490325149098\n",
      "th:  [-0.26789602  0.41866596  0.00225586  0.65779473  0.79928699] f_cost:  0.5143177220540817\n",
      "th:  [-0.3254222   0.39158702 -0.04180079  0.64275972  0.78991037] f_cost:  0.12502830075237198\n",
      "th:  [-0.33931534  0.38446148 -0.05143227  0.63953705  0.78742092] f_cost:  0.10311137868027967\n",
      "th:  [-0.34290849  0.38204676 -0.05293965  0.63910159  0.78655753] f_cost:  0.1016631260769043\n",
      "th:  [-0.3440695   0.38074505 -0.05253101  0.63932305  0.78607838] f_cost:  0.10135613880555087\n",
      "th:  [-0.34465549  0.3797071  -0.05167168  0.63969862  0.78569034] f_cost:  0.10111360624641746\n",
      "th:  [-0.34510483  0.37873248 -0.05070752  0.6401096   0.78532424] f_cost:  0.10087553139134987\n",
      "th:  [-0.34552097  0.37777386 -0.04972018  0.640528    0.78496374] f_cost:  0.10063856800254797\n",
      "th:  [-0.34592835  0.37682008 -0.04872891  0.64094721  0.78460498] f_cost:  0.10040252609842387\n",
      "th:  [-0.34633272  0.3758685  -0.04773827  0.64136565  0.78424706] f_cost:  0.10016739156009086\n",
      "th:  [-0.34673547  0.37491849 -0.04674933  0.64178297  0.78388975] f_cost:  0.09993316008164975\n",
      "th:  [-0.3471369   0.3739699  -0.04576232  0.64219909  0.78353301] f_cost:  0.09969982791883082\n",
      "th:  [-0.3475371   0.37302269 -0.04477732  0.64261398  0.78317682] f_cost:  0.09946739137349944\n",
      "th:  [-0.34793609  0.37207687 -0.04379432  0.64302765  0.78282118] f_cost:  0.09923584676487207\n",
      "th:  [-0.34833388  0.37113241 -0.04281333  0.6434401   0.78246608] f_cost:  0.09900519042784976\n",
      "th:  [-0.34873046  0.37018932 -0.04183434  0.64385132  0.78211153] f_cost:  0.0987754187128615\n",
      "th:  [-0.34912585  0.3692476  -0.04085735  0.64426133  0.78175753] f_cost:  0.09854652798579266\n",
      "th:  [-0.34952005  0.36830724 -0.03988236  0.64467012  0.78140406] f_cost:  0.09831851462791881\n",
      "th:  [-0.34991305  0.36736824 -0.03890936  0.6450777   0.78105114] f_cost:  0.0980913750358395\n"
     ]
    }
   ],
   "source": [
    "eras = 20\n",
    "lr = .01\n",
    "\n",
    "for _ in range(eras):\n",
    "    th -= lr * d_th(X, Y, th)\n",
    "    print('th: ', th, 'f_cost: ', f_cost(X, Y, th))"
   ]
  },
  {
   "cell_type": "code",
   "execution_count": 94,
   "metadata": {},
   "outputs": [],
   "source": [
    "y_pred = np.zeros(X.shape[0])\n",
    "\n",
    "for i in range(X.shape[0]):\n",
    "    y_pred[i] = np.dot(X[i,:], th)\n",
    "    \n",
    "y_prob = np.where(y_pred<0.5, 0, 1)   "
   ]
  },
  {
   "cell_type": "code",
   "execution_count": 95,
   "metadata": {},
   "outputs": [
    {
     "data": {
      "text/plain": [
       "0.27"
      ]
     },
     "execution_count": 95,
     "metadata": {},
     "output_type": "execute_result"
    }
   ],
   "source": [
    "from sklearn.metrics import mean_squared_error\n",
    "\n",
    "mean_squared_error(Y, y_prob)"
   ]
  },
  {
   "cell_type": "code",
   "execution_count": 98,
   "metadata": {},
   "outputs": [
    {
     "data": {
      "text/plain": [
       "array([102.5518,  46.9725,  80.7835,  27.7122,  16.216 ])"
      ]
     },
     "execution_count": 98,
     "metadata": {},
     "output_type": "execute_result"
    }
   ],
   "source": [
    "d_th(X, Y, [1, 1, 1, 1, 1])"
   ]
  }
 ],
 "metadata": {
  "kernelspec": {
   "display_name": "Python 3",
   "language": "python",
   "name": "python3"
  },
  "language_info": {
   "codemirror_mode": {
    "name": "ipython",
    "version": 3
   },
   "file_extension": ".py",
   "mimetype": "text/x-python",
   "name": "python",
   "nbconvert_exporter": "python",
   "pygments_lexer": "ipython3",
   "version": "3.7.3"
  }
 },
 "nbformat": 4,
 "nbformat_minor": 2
}
